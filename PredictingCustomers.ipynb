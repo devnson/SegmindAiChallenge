{
  "nbformat": 4,
  "nbformat_minor": 0,
  "metadata": {
    "kernelspec": {
      "display_name": "Python 3",
      "language": "python",
      "name": "python3"
    },
    "language_info": {
      "codemirror_mode": {
        "name": "ipython",
        "version": 3
      },
      "file_extension": ".py",
      "mimetype": "text/x-python",
      "name": "python",
      "nbconvert_exporter": "python",
      "pygments_lexer": "ipython3",
      "version": "3.8.5"
    },
    "colab": {
      "name": "PredictingCustomers.ipynb",
      "provenance": [],
      "collapsed_sections": []
    }
  },
  "cells": [
    {
      "cell_type": "code",
      "metadata": {
        "id": "c_tQSps89Hdi"
      },
      "source": [
        "import warnings\n",
        "warnings.simplefilter(action='ignore', category=FutureWarning)\n",
        "\n",
        "import pandas as pd\n",
        "import numpy as np\n",
        "\n",
        "import seaborn as sns\n",
        "sns.set_style('darkgrid')\n",
        "import matplotlib.pyplot as plt\n",
        "%matplotlib inline"
      ],
      "execution_count": null,
      "outputs": []
    },
    {
      "cell_type": "code",
      "metadata": {
        "scrolled": true,
        "colab": {
          "base_uri": "https://localhost:8080/"
        },
        "id": "uKWzcvKA9Hdq",
        "outputId": "56bad54d-3aa3-446a-bbac-415190a21502"
      },
      "source": [
        "path = \"/content/sample_data/\"\n",
        "df_train = pd.read_csv(path + 'TRAIN.csv')\n",
        "df_test = pd.read_csv(path + 'TEST.csv')\n"
      ],
      "execution_count": null,
      "outputs": [
        {
          "output_type": "stream",
          "text": [
            "/usr/local/lib/python3.7/dist-packages/IPython/core/interactiveshell.py:2718: DtypeWarning: Columns (7) have mixed types.Specify dtype option on import or set low_memory=False.\n",
            "  interactivity=interactivity, compiler=compiler, result=result)\n"
          ],
          "name": "stderr"
        }
      ]
    },
    {
      "cell_type": "code",
      "metadata": {
        "colab": {
          "base_uri": "https://localhost:8080/"
        },
        "id": "Xw7UuyqT9Hdr",
        "outputId": "88f07d1c-2206-44aa-f84e-b31fdd7d97dd"
      },
      "source": [
        "df_test.shape"
      ],
      "execution_count": null,
      "outputs": [
        {
          "output_type": "execute_result",
          "data": {
            "text/plain": [
              "(305163, 7)"
            ]
          },
          "metadata": {
            "tags": []
          },
          "execution_count": 1635
        }
      ]
    },
    {
      "cell_type": "code",
      "metadata": {
        "colab": {
          "base_uri": "https://localhost:8080/"
        },
        "id": "TgvKnoQO-v8w",
        "outputId": "7af09fbe-afd2-4fff-9c0d-177683f2b341"
      },
      "source": [
        "df_train.shape"
      ],
      "execution_count": null,
      "outputs": [
        {
          "output_type": "execute_result",
          "data": {
            "text/plain": [
              "(712046, 9)"
            ]
          },
          "metadata": {
            "tags": []
          },
          "execution_count": 1636
        }
      ]
    },
    {
      "cell_type": "markdown",
      "metadata": {
        "id": "7gRvKBNv9Hds"
      },
      "source": [
        "## Reduce 0's from trainset"
      ]
    },
    {
      "cell_type": "code",
      "metadata": {
        "id": "vsRAzXvh9Hds"
      },
      "source": [
        "# Reduce huge number of 0's in df_train\n",
        "\n",
        "#df_train['Sales'].value_counts()"
      ],
      "execution_count": null,
      "outputs": []
    },
    {
      "cell_type": "code",
      "metadata": {
        "colab": {
          "base_uri": "https://localhost:8080/"
        },
        "id": "F4NRBJ319nUq",
        "outputId": "3401c15d-29d1-4653-aec2-2fc4d52a14f8"
      },
      "source": [
        "df_train['Customers'].value_counts()"
      ],
      "execution_count": null,
      "outputs": [
        {
          "output_type": "execute_result",
          "data": {
            "text/plain": [
              "0       122097\n",
              "560       1670\n",
              "603       1663\n",
              "539       1641\n",
              "550       1640\n",
              "         ...  \n",
              "3149         1\n",
              "4440         1\n",
              "4174         1\n",
              "4582         1\n",
              "3484         1\n",
              "Name: Customers, Length: 3956, dtype: int64"
            ]
          },
          "metadata": {
            "tags": []
          },
          "execution_count": 1638
        }
      ]
    },
    {
      "cell_type": "code",
      "metadata": {
        "id": "vMaA1ibk9Hdt"
      },
      "source": [
        "df_train = df_train.sample(frac = 1)"
      ],
      "execution_count": null,
      "outputs": []
    },
    {
      "cell_type": "code",
      "metadata": {
        "id": "zZvuEICv9Hdt"
      },
      "source": [
        "filterzeros = df_train[df_train['Customers'] == 0][:5000]"
      ],
      "execution_count": null,
      "outputs": []
    },
    {
      "cell_type": "code",
      "metadata": {
        "id": "07J6dcce9Hdt",
        "colab": {
          "base_uri": "https://localhost:8080/"
        },
        "outputId": "580d288e-5efa-4eb8-c39d-5ad1197d1185"
      },
      "source": [
        "filterzeros['Customers'].value_counts()"
      ],
      "execution_count": null,
      "outputs": [
        {
          "output_type": "execute_result",
          "data": {
            "text/plain": [
              "0    5000\n",
              "Name: Customers, dtype: int64"
            ]
          },
          "metadata": {
            "tags": []
          },
          "execution_count": 1641
        }
      ]
    },
    {
      "cell_type": "code",
      "metadata": {
        "id": "dmu3akGi9Hdu"
      },
      "source": [
        "df_train = df_train[df_train['Customers']!=0]"
      ],
      "execution_count": null,
      "outputs": []
    },
    {
      "cell_type": "code",
      "metadata": {
        "id": "Ggylb6pt9Hdu"
      },
      "source": [
        "xdf = pd.concat([df_train, filterzeros])"
      ],
      "execution_count": null,
      "outputs": []
    },
    {
      "cell_type": "code",
      "metadata": {
        "id": "ZoKrSuewCLDg"
      },
      "source": [
        "#xdf = df_train.copy()"
      ],
      "execution_count": null,
      "outputs": []
    },
    {
      "cell_type": "code",
      "metadata": {
        "colab": {
          "base_uri": "https://localhost:8080/"
        },
        "id": "tTKx9Jj0h2s7",
        "outputId": "29c56719-e80d-4e32-f91d-170fd787ee07"
      },
      "source": [
        "xdf['Customers'].quantile(0.0)"
      ],
      "execution_count": null,
      "outputs": [
        {
          "output_type": "execute_result",
          "data": {
            "text/plain": [
              "0.0"
            ]
          },
          "metadata": {
            "tags": []
          },
          "execution_count": 1645
        }
      ]
    },
    {
      "cell_type": "code",
      "metadata": {
        "colab": {
          "base_uri": "https://localhost:8080/"
        },
        "id": "yo_ZJPX4VhDh",
        "outputId": "60f836d0-d5d6-47f3-d5b4-c3ed8f0cf7ed"
      },
      "source": [
        "xdf['Customers'].describe()"
      ],
      "execution_count": null,
      "outputs": [
        {
          "output_type": "execute_result",
          "data": {
            "text/plain": [
              "count    594949.000000\n",
              "mean        763.540643\n",
              "std         408.360156\n",
              "min           0.000000\n",
              "25%         522.000000\n",
              "50%         679.000000\n",
              "75%         897.000000\n",
              "max        5494.000000\n",
              "Name: Customers, dtype: float64"
            ]
          },
          "metadata": {
            "tags": []
          },
          "execution_count": 1646
        }
      ]
    },
    {
      "cell_type": "code",
      "metadata": {
        "colab": {
          "base_uri": "https://localhost:8080/"
        },
        "id": "rHFVjCGk9Hdu",
        "outputId": "ce68009d-ed83-44e7-e331-608049590f68"
      },
      "source": [
        "xdf['Customers'].value_counts()"
      ],
      "execution_count": null,
      "outputs": [
        {
          "output_type": "execute_result",
          "data": {
            "text/plain": [
              "0       5000\n",
              "560     1670\n",
              "603     1663\n",
              "539     1641\n",
              "550     1640\n",
              "        ... \n",
              "3149       1\n",
              "4440       1\n",
              "4174       1\n",
              "4582       1\n",
              "3484       1\n",
              "Name: Customers, Length: 3956, dtype: int64"
            ]
          },
          "metadata": {
            "tags": []
          },
          "execution_count": 1647
        }
      ]
    },
    {
      "cell_type": "code",
      "metadata": {
        "id": "v5XspAyt9Hdu"
      },
      "source": [
        "xdf = xdf.sample(frac = 1)\n",
        "xdf = xdf.iloc[:305163]"
      ],
      "execution_count": null,
      "outputs": []
    },
    {
      "cell_type": "code",
      "metadata": {
        "colab": {
          "base_uri": "https://localhost:8080/"
        },
        "id": "IBt21SVo9Hdu",
        "outputId": "2633798c-46da-4760-d16c-f53f05932384"
      },
      "source": [
        "xdf['Customers'].value_counts()"
      ],
      "execution_count": null,
      "outputs": [
        {
          "output_type": "execute_result",
          "data": {
            "text/plain": [
              "0       2578\n",
              "560      888\n",
              "576      853\n",
              "566      853\n",
              "539      850\n",
              "        ... \n",
              "3531       1\n",
              "4297       1\n",
              "3674       1\n",
              "3530       1\n",
              "3640       1\n",
              "Name: Customers, Length: 3643, dtype: int64"
            ]
          },
          "metadata": {
            "tags": []
          },
          "execution_count": 1649
        }
      ]
    },
    {
      "cell_type": "code",
      "metadata": {
        "colab": {
          "base_uri": "https://localhost:8080/"
        },
        "id": "zLAD2vKw9Hdv",
        "outputId": "f45f1449-28db-4d43-b7b3-d1584b9eda09"
      },
      "source": [
        "xdf.shape"
      ],
      "execution_count": null,
      "outputs": [
        {
          "output_type": "execute_result",
          "data": {
            "text/plain": [
              "(305163, 9)"
            ]
          },
          "metadata": {
            "tags": []
          },
          "execution_count": 1650
        }
      ]
    },
    {
      "cell_type": "code",
      "metadata": {
        "colab": {
          "base_uri": "https://localhost:8080/"
        },
        "id": "1wCv42Hk9Hdv",
        "outputId": "3ceeae6a-8030-499b-c61f-3b1b035d9d03"
      },
      "source": [
        "df_test.shape"
      ],
      "execution_count": null,
      "outputs": [
        {
          "output_type": "execute_result",
          "data": {
            "text/plain": [
              "(305163, 7)"
            ]
          },
          "metadata": {
            "tags": []
          },
          "execution_count": 1651
        }
      ]
    },
    {
      "cell_type": "code",
      "metadata": {
        "colab": {
          "base_uri": "https://localhost:8080/",
          "height": 136
        },
        "id": "5rzYdRFY9Hdv",
        "outputId": "7d5a585e-d095-40f6-8a42-2d9f44269f63"
      },
      "source": [
        "df_test.head(3)"
      ],
      "execution_count": null,
      "outputs": [
        {
          "output_type": "execute_result",
          "data": {
            "text/html": [
              "<div>\n",
              "<style scoped>\n",
              "    .dataframe tbody tr th:only-of-type {\n",
              "        vertical-align: middle;\n",
              "    }\n",
              "\n",
              "    .dataframe tbody tr th {\n",
              "        vertical-align: top;\n",
              "    }\n",
              "\n",
              "    .dataframe thead th {\n",
              "        text-align: right;\n",
              "    }\n",
              "</style>\n",
              "<table border=\"1\" class=\"dataframe\">\n",
              "  <thead>\n",
              "    <tr style=\"text-align: right;\">\n",
              "      <th></th>\n",
              "      <th>Store</th>\n",
              "      <th>DayOfWeek</th>\n",
              "      <th>Date</th>\n",
              "      <th>Open</th>\n",
              "      <th>Promo</th>\n",
              "      <th>StateHoliday</th>\n",
              "      <th>SchoolHoliday</th>\n",
              "    </tr>\n",
              "  </thead>\n",
              "  <tbody>\n",
              "    <tr>\n",
              "      <th>0</th>\n",
              "      <td>767</td>\n",
              "      <td>1</td>\n",
              "      <td>2013-04-01</td>\n",
              "      <td>0</td>\n",
              "      <td>0</td>\n",
              "      <td>b</td>\n",
              "      <td>1</td>\n",
              "    </tr>\n",
              "    <tr>\n",
              "      <th>1</th>\n",
              "      <td>1111</td>\n",
              "      <td>6</td>\n",
              "      <td>2013-03-16</td>\n",
              "      <td>1</td>\n",
              "      <td>0</td>\n",
              "      <td>0</td>\n",
              "      <td>0</td>\n",
              "    </tr>\n",
              "    <tr>\n",
              "      <th>2</th>\n",
              "      <td>45</td>\n",
              "      <td>4</td>\n",
              "      <td>2013-08-01</td>\n",
              "      <td>1</td>\n",
              "      <td>1</td>\n",
              "      <td>0</td>\n",
              "      <td>1</td>\n",
              "    </tr>\n",
              "  </tbody>\n",
              "</table>\n",
              "</div>"
            ],
            "text/plain": [
              "   Store  DayOfWeek        Date  Open  Promo StateHoliday  SchoolHoliday\n",
              "0    767          1  2013-04-01     0      0            b              1\n",
              "1   1111          6  2013-03-16     1      0            0              0\n",
              "2     45          4  2013-08-01     1      1            0              1"
            ]
          },
          "metadata": {
            "tags": []
          },
          "execution_count": 1652
        }
      ]
    },
    {
      "cell_type": "markdown",
      "metadata": {
        "id": "ZiYfQDg29Hdv"
      },
      "source": [
        "# Observe Dataset"
      ]
    },
    {
      "cell_type": "code",
      "metadata": {
        "colab": {
          "base_uri": "https://localhost:8080/",
          "height": 195
        },
        "id": "kauXctGv9Hdw",
        "outputId": "9fcc0076-02d7-4d0a-cf04-cec917ab6bf2"
      },
      "source": [
        "xdf.head()"
      ],
      "execution_count": null,
      "outputs": [
        {
          "output_type": "execute_result",
          "data": {
            "text/html": [
              "<div>\n",
              "<style scoped>\n",
              "    .dataframe tbody tr th:only-of-type {\n",
              "        vertical-align: middle;\n",
              "    }\n",
              "\n",
              "    .dataframe tbody tr th {\n",
              "        vertical-align: top;\n",
              "    }\n",
              "\n",
              "    .dataframe thead th {\n",
              "        text-align: right;\n",
              "    }\n",
              "</style>\n",
              "<table border=\"1\" class=\"dataframe\">\n",
              "  <thead>\n",
              "    <tr style=\"text-align: right;\">\n",
              "      <th></th>\n",
              "      <th>Store</th>\n",
              "      <th>DayOfWeek</th>\n",
              "      <th>Date</th>\n",
              "      <th>Sales</th>\n",
              "      <th>Customers</th>\n",
              "      <th>Open</th>\n",
              "      <th>Promo</th>\n",
              "      <th>StateHoliday</th>\n",
              "      <th>SchoolHoliday</th>\n",
              "    </tr>\n",
              "  </thead>\n",
              "  <tbody>\n",
              "    <tr>\n",
              "      <th>593214</th>\n",
              "      <td>820</td>\n",
              "      <td>4</td>\n",
              "      <td>2014-01-16</td>\n",
              "      <td>8839</td>\n",
              "      <td>944</td>\n",
              "      <td>1</td>\n",
              "      <td>0</td>\n",
              "      <td>0</td>\n",
              "      <td>0</td>\n",
              "    </tr>\n",
              "    <tr>\n",
              "      <th>296990</th>\n",
              "      <td>926</td>\n",
              "      <td>2</td>\n",
              "      <td>2014-10-28</td>\n",
              "      <td>5200</td>\n",
              "      <td>433</td>\n",
              "      <td>1</td>\n",
              "      <td>0</td>\n",
              "      <td>0</td>\n",
              "      <td>0</td>\n",
              "    </tr>\n",
              "    <tr>\n",
              "      <th>359001</th>\n",
              "      <td>169</td>\n",
              "      <td>5</td>\n",
              "      <td>2014-08-22</td>\n",
              "      <td>6073</td>\n",
              "      <td>609</td>\n",
              "      <td>1</td>\n",
              "      <td>1</td>\n",
              "      <td>0</td>\n",
              "      <td>0</td>\n",
              "    </tr>\n",
              "    <tr>\n",
              "      <th>1071</th>\n",
              "      <td>1072</td>\n",
              "      <td>5</td>\n",
              "      <td>2015-07-31</td>\n",
              "      <td>10270</td>\n",
              "      <td>817</td>\n",
              "      <td>1</td>\n",
              "      <td>1</td>\n",
              "      <td>0</td>\n",
              "      <td>1</td>\n",
              "    </tr>\n",
              "    <tr>\n",
              "      <th>709455</th>\n",
              "      <td>1101</td>\n",
              "      <td>5</td>\n",
              "      <td>2013-10-04</td>\n",
              "      <td>10184</td>\n",
              "      <td>1054</td>\n",
              "      <td>1</td>\n",
              "      <td>0</td>\n",
              "      <td>0</td>\n",
              "      <td>1</td>\n",
              "    </tr>\n",
              "  </tbody>\n",
              "</table>\n",
              "</div>"
            ],
            "text/plain": [
              "        Store  DayOfWeek        Date  ...  Promo  StateHoliday  SchoolHoliday\n",
              "593214    820          4  2014-01-16  ...      0             0              0\n",
              "296990    926          2  2014-10-28  ...      0             0              0\n",
              "359001    169          5  2014-08-22  ...      1             0              0\n",
              "1071     1072          5  2015-07-31  ...      1             0              1\n",
              "709455   1101          5  2013-10-04  ...      0             0              1\n",
              "\n",
              "[5 rows x 9 columns]"
            ]
          },
          "metadata": {
            "tags": []
          },
          "execution_count": 1653
        }
      ]
    },
    {
      "cell_type": "code",
      "metadata": {
        "id": "4OrV1H-D9Hdw"
      },
      "source": [
        "# Extract year, month and day from 'Date'"
      ],
      "execution_count": null,
      "outputs": []
    },
    {
      "cell_type": "code",
      "metadata": {
        "colab": {
          "base_uri": "https://localhost:8080/"
        },
        "id": "eSp9I9J09Hdw",
        "outputId": "b3dcd193-29d1-40e5-dcad-9c42250d4825"
      },
      "source": [
        "xdf['Date']"
      ],
      "execution_count": null,
      "outputs": [
        {
          "output_type": "execute_result",
          "data": {
            "text/plain": [
              "593214    2014-01-16\n",
              "296990    2014-10-28\n",
              "359001    2014-08-22\n",
              "1071      2015-07-31\n",
              "709455    2013-10-04\n",
              "             ...    \n",
              "15275     2015-07-18\n",
              "321923    2014-10-01\n",
              "354243    2014-08-27\n",
              "640113    2013-12-05\n",
              "603476    2014-01-07\n",
              "Name: Date, Length: 305163, dtype: object"
            ]
          },
          "metadata": {
            "tags": []
          },
          "execution_count": 1655
        }
      ]
    },
    {
      "cell_type": "code",
      "metadata": {
        "id": "W-Qa7d-O9Hdw"
      },
      "source": [
        "xdf['Date'] = pd.to_datetime(xdf['Date'])\n",
        "df_test['Date'] = pd.to_datetime(df_test['Date'])"
      ],
      "execution_count": null,
      "outputs": []
    },
    {
      "cell_type": "code",
      "metadata": {
        "colab": {
          "base_uri": "https://localhost:8080/"
        },
        "id": "G0T3Djj49Hdx",
        "outputId": "c84b7a69-fc43-4f29-8671-8f6decc7b7f1"
      },
      "source": [
        "xdf['Date']"
      ],
      "execution_count": null,
      "outputs": [
        {
          "output_type": "execute_result",
          "data": {
            "text/plain": [
              "593214   2014-01-16\n",
              "296990   2014-10-28\n",
              "359001   2014-08-22\n",
              "1071     2015-07-31\n",
              "709455   2013-10-04\n",
              "            ...    \n",
              "15275    2015-07-18\n",
              "321923   2014-10-01\n",
              "354243   2014-08-27\n",
              "640113   2013-12-05\n",
              "603476   2014-01-07\n",
              "Name: Date, Length: 305163, dtype: datetime64[ns]"
            ]
          },
          "metadata": {
            "tags": []
          },
          "execution_count": 1657
        }
      ]
    },
    {
      "cell_type": "code",
      "metadata": {
        "id": "7dwUeF8x9Hdx"
      },
      "source": [
        "xdf['Year'] = xdf['Date'].dt.year\n",
        "xdf['Month'] = xdf['Date'].dt.month\n",
        "xdf['Day'] = xdf['Date'].dt.day\n",
        "\n",
        "\n",
        "df_test['Year'] = df_test['Date'].dt.year\n",
        "df_test['Month'] = df_test['Date'].dt.month\n",
        "df_test['Day'] = df_test['Date'].dt.day\n"
      ],
      "execution_count": null,
      "outputs": []
    },
    {
      "cell_type": "code",
      "metadata": {
        "id": "tSlsW6lD9Hdx"
      },
      "source": [
        "xdf.drop('Date', axis = 1, inplace = True)\n",
        "df_test.drop('Date', axis = 1, inplace = True)"
      ],
      "execution_count": null,
      "outputs": []
    },
    {
      "cell_type": "code",
      "metadata": {
        "colab": {
          "base_uri": "https://localhost:8080/"
        },
        "id": "m4EMoIT49Hdx",
        "outputId": "f6e294e7-274e-4ef8-f637-993c544e4b15"
      },
      "source": [
        "xdf.shape"
      ],
      "execution_count": null,
      "outputs": [
        {
          "output_type": "execute_result",
          "data": {
            "text/plain": [
              "(305163, 11)"
            ]
          },
          "metadata": {
            "tags": []
          },
          "execution_count": 1660
        }
      ]
    },
    {
      "cell_type": "code",
      "metadata": {
        "colab": {
          "base_uri": "https://localhost:8080/"
        },
        "id": "5-gofzDo9Hdx",
        "outputId": "9fba60cf-5eb5-4c18-fabf-de8577d0463c"
      },
      "source": [
        "xdf.info()"
      ],
      "execution_count": null,
      "outputs": [
        {
          "output_type": "stream",
          "text": [
            "<class 'pandas.core.frame.DataFrame'>\n",
            "Int64Index: 305163 entries, 593214 to 603476\n",
            "Data columns (total 11 columns):\n",
            " #   Column         Non-Null Count   Dtype \n",
            "---  ------         --------------   ----- \n",
            " 0   Store          305163 non-null  int64 \n",
            " 1   DayOfWeek      305163 non-null  int64 \n",
            " 2   Sales          305163 non-null  int64 \n",
            " 3   Customers      305163 non-null  int64 \n",
            " 4   Open           305163 non-null  int64 \n",
            " 5   Promo          305163 non-null  int64 \n",
            " 6   StateHoliday   305163 non-null  object\n",
            " 7   SchoolHoliday  305163 non-null  int64 \n",
            " 8   Year           305163 non-null  int64 \n",
            " 9   Month          305163 non-null  int64 \n",
            " 10  Day            305163 non-null  int64 \n",
            "dtypes: int64(10), object(1)\n",
            "memory usage: 27.9+ MB\n"
          ],
          "name": "stdout"
        }
      ]
    },
    {
      "cell_type": "code",
      "metadata": {
        "colab": {
          "base_uri": "https://localhost:8080/"
        },
        "id": "aeTxqrzP9Hdy",
        "outputId": "bd19d05c-f076-4fcd-deef-893c4d6e8c7f"
      },
      "source": [
        "xdf['StateHoliday'].values"
      ],
      "execution_count": null,
      "outputs": [
        {
          "output_type": "execute_result",
          "data": {
            "text/plain": [
              "array(['0', '0', 0, ..., 0, '0', '0'], dtype=object)"
            ]
          },
          "metadata": {
            "tags": []
          },
          "execution_count": 1662
        }
      ]
    },
    {
      "cell_type": "code",
      "metadata": {
        "colab": {
          "base_uri": "https://localhost:8080/"
        },
        "id": "ddYdTH199Hdy",
        "outputId": "ac54f98f-59d2-42e0-8a71-df34a6c7dd29"
      },
      "source": [
        "xdf['StateHoliday'].value_counts()"
      ],
      "execution_count": null,
      "outputs": [
        {
          "output_type": "execute_result",
          "data": {
            "text/plain": [
              "0    246187\n",
              "0     58164\n",
              "a       552\n",
              "b       144\n",
              "c       116\n",
              "Name: StateHoliday, dtype: int64"
            ]
          },
          "metadata": {
            "tags": []
          },
          "execution_count": 1663
        }
      ]
    },
    {
      "cell_type": "code",
      "metadata": {
        "colab": {
          "base_uri": "https://localhost:8080/"
        },
        "id": "9MFFNz-L9Hdy",
        "outputId": "7045fa26-7d47-40fd-cb0d-18978c584433"
      },
      "source": [
        "df_test['StateHoliday'].value_counts()"
      ],
      "execution_count": null,
      "outputs": [
        {
          "output_type": "execute_result",
          "data": {
            "text/plain": [
              "0    297219\n",
              "a      5714\n",
              "b      2230\n",
              "Name: StateHoliday, dtype: int64"
            ]
          },
          "metadata": {
            "tags": []
          },
          "execution_count": 1664
        }
      ]
    },
    {
      "cell_type": "code",
      "metadata": {
        "id": "OW95EAYe9Hdy"
      },
      "source": [
        "xdf['StateHoliday'] = xdf['StateHoliday'].replace({'0':'0','a':'1','b':'1','c':'1'})"
      ],
      "execution_count": null,
      "outputs": []
    },
    {
      "cell_type": "code",
      "metadata": {
        "colab": {
          "base_uri": "https://localhost:8080/"
        },
        "id": "JuhuX8aV9Hdy",
        "outputId": "8722b135-2ab9-43cd-a684-432af98e3d26"
      },
      "source": [
        "xdf['StateHoliday'].value_counts()"
      ],
      "execution_count": null,
      "outputs": [
        {
          "output_type": "execute_result",
          "data": {
            "text/plain": [
              "0    246187\n",
              "0     58164\n",
              "1       812\n",
              "Name: StateHoliday, dtype: int64"
            ]
          },
          "metadata": {
            "tags": []
          },
          "execution_count": 1666
        }
      ]
    },
    {
      "cell_type": "code",
      "metadata": {
        "id": "Zfet7fEv9Hdz"
      },
      "source": [
        "df_test['StateHoliday'] = df_test['StateHoliday'].replace({'a':'1','b':'1'})"
      ],
      "execution_count": null,
      "outputs": []
    },
    {
      "cell_type": "code",
      "metadata": {
        "id": "ThZ8B_pB9Hdz"
      },
      "source": [
        "xdf['StateHoliday'] = pd.to_numeric(xdf['StateHoliday'])"
      ],
      "execution_count": null,
      "outputs": []
    },
    {
      "cell_type": "code",
      "metadata": {
        "id": "1yXva2AV9Hdz"
      },
      "source": [
        "df_test['StateHoliday'] = pd.to_numeric(df_test['StateHoliday'])"
      ],
      "execution_count": null,
      "outputs": []
    },
    {
      "cell_type": "code",
      "metadata": {
        "colab": {
          "base_uri": "https://localhost:8080/"
        },
        "id": "8wUbJp7j9Hdz",
        "outputId": "43dd8ced-df63-4c71-af56-4fac9dced820"
      },
      "source": [
        "# let's recheck \n",
        "\n",
        "xdf['StateHoliday'].value_counts()"
      ],
      "execution_count": null,
      "outputs": [
        {
          "output_type": "execute_result",
          "data": {
            "text/plain": [
              "0    304351\n",
              "1       812\n",
              "Name: StateHoliday, dtype: int64"
            ]
          },
          "metadata": {
            "tags": []
          },
          "execution_count": 1670
        }
      ]
    },
    {
      "cell_type": "code",
      "metadata": {
        "colab": {
          "base_uri": "https://localhost:8080/"
        },
        "id": "dE_a_yXS9Hdz",
        "outputId": "9442fed7-c45d-4058-9d25-4a3365fbdd92"
      },
      "source": [
        "df_test['StateHoliday'].value_counts()"
      ],
      "execution_count": null,
      "outputs": [
        {
          "output_type": "execute_result",
          "data": {
            "text/plain": [
              "0    297219\n",
              "1      7944\n",
              "Name: StateHoliday, dtype: int64"
            ]
          },
          "metadata": {
            "tags": []
          },
          "execution_count": 1671
        }
      ]
    },
    {
      "cell_type": "markdown",
      "metadata": {
        "id": "zdHNbywa9Hdz"
      },
      "source": [
        "This need to be converted to Numeric and fixed."
      ]
    },
    {
      "cell_type": "code",
      "metadata": {
        "colab": {
          "base_uri": "https://localhost:8080/"
        },
        "id": "-9iNIEsZ9Hd0",
        "outputId": "a28cb224-35bc-47bc-8ef8-9c4df212f70d"
      },
      "source": [
        "# school holiday\n",
        "\n",
        "xdf['SchoolHoliday'].value_counts()"
      ],
      "execution_count": null,
      "outputs": [
        {
          "output_type": "execute_result",
          "data": {
            "text/plain": [
              "0    248948\n",
              "1     56215\n",
              "Name: SchoolHoliday, dtype: int64"
            ]
          },
          "metadata": {
            "tags": []
          },
          "execution_count": 1672
        }
      ]
    },
    {
      "cell_type": "code",
      "metadata": {
        "colab": {
          "base_uri": "https://localhost:8080/",
          "height": 564
        },
        "id": "EQ2Rqq2o9Hd0",
        "outputId": "e945f4b6-487f-41d6-f011-9a54b03bf17f"
      },
      "source": [
        "corr = xdf.corr()\n",
        "plt.figure(figsize = (10,8))\n",
        "sns.heatmap(corr, vmax = .8, annot = True)"
      ],
      "execution_count": null,
      "outputs": [
        {
          "output_type": "execute_result",
          "data": {
            "text/plain": [
              "<matplotlib.axes._subplots.AxesSubplot at 0x7fc2ea06ef10>"
            ]
          },
          "metadata": {
            "tags": []
          },
          "execution_count": 1673
        },
        {
          "output_type": "display_data",
          "data": {
            "image/png": "[encoded data removed]",
            "text/plain": [
              "<Figure size 720x576 with 2 Axes>"
            ]
          },
          "metadata": {
            "tags": [],
            "needs_background": "light"
          }
        }
      ]
    },
    {
      "cell_type": "markdown",
      "metadata": {
        "id": "6Wg1CDVM9Hd0"
      },
      "source": [
        "# Exploratory Data Analaysis"
      ]
    },
    {
      "cell_type": "code",
      "metadata": {
        "colab": {
          "base_uri": "https://localhost:8080/"
        },
        "id": "0PUDUm9D9Hd0",
        "outputId": "ebf2955d-4d8f-433c-c9f2-0931d4082f05"
      },
      "source": [
        "xdf['Open'].value_counts()"
      ],
      "execution_count": null,
      "outputs": [
        {
          "output_type": "execute_result",
          "data": {
            "text/plain": [
              "1    302585\n",
              "0      2578\n",
              "Name: Open, dtype: int64"
            ]
          },
          "metadata": {
            "tags": []
          },
          "execution_count": 1674
        }
      ]
    },
    {
      "cell_type": "markdown",
      "metadata": {
        "id": "Gvofq_6l9Hd1"
      },
      "source": [
        "## Univariate (Target Attribute)"
      ]
    },
    {
      "cell_type": "code",
      "metadata": {
        "colab": {
          "base_uri": "https://localhost:8080/"
        },
        "id": "VXNdw9HX9Hd1",
        "outputId": "438a8d7c-a0be-4dd6-fdfa-e788e22fab3b"
      },
      "source": [
        "xdf['Customers'].value_counts()"
      ],
      "execution_count": null,
      "outputs": [
        {
          "output_type": "execute_result",
          "data": {
            "text/plain": [
              "0       2578\n",
              "560      888\n",
              "576      853\n",
              "566      853\n",
              "539      850\n",
              "        ... \n",
              "3531       1\n",
              "4297       1\n",
              "3674       1\n",
              "3530       1\n",
              "3640       1\n",
              "Name: Customers, Length: 3643, dtype: int64"
            ]
          },
          "metadata": {
            "tags": []
          },
          "execution_count": 1675
        }
      ]
    },
    {
      "cell_type": "code",
      "metadata": {
        "scrolled": true,
        "colab": {
          "base_uri": "https://localhost:8080/",
          "height": 441
        },
        "id": "nmUnps0u9Hd1",
        "outputId": "08108fd0-ce9f-4b4e-9754-3eff63a7c098"
      },
      "source": [
        "## Lets check its distribution\n",
        "\n",
        "sns.displot(x = 'Customers', data = xdf, aspect = 2, height = 6, kde = True);"
      ],
      "execution_count": null,
      "outputs": [
        {
          "output_type": "display_data",
          "data": {
            "image/png": "[encoded data removed]",
            "text/plain": [
              "<Figure size 864x432 with 1 Axes>"
            ]
          },
          "metadata": {
            "tags": [],
            "needs_background": "light"
          }
        }
      ]
    },
    {
      "cell_type": "code",
      "metadata": {
        "colab": {
          "base_uri": "https://localhost:8080/"
        },
        "id": "lNJzn8uG9Hd2",
        "outputId": "e3b5b338-9e4b-4ee3-e8cf-3e968bf80992"
      },
      "source": [
        "# Skew and kurt\n",
        "print(\"Skewness: %f\" % xdf['Customers'].skew())\n",
        "print(\"Kurtosis: %f\" % xdf['Customers'].kurt())"
      ],
      "execution_count": null,
      "outputs": [
        {
          "output_type": "stream",
          "text": [
            "Skewness: 2.670399\n",
            "Kurtosis: 12.614082\n"
          ],
          "name": "stdout"
        }
      ]
    },
    {
      "cell_type": "code",
      "metadata": {
        "colab": {
          "base_uri": "https://localhost:8080/",
          "height": 392
        },
        "id": "fR0V7p9U9Hd2",
        "outputId": "003cce7d-f241-4bab-d960-2b5bd23818e4"
      },
      "source": [
        "# Let's plot how Sales relates to some of the features in the dataset\n",
        "\n",
        "data = pd.concat([xdf['Customers'], xdf['StateHoliday']], axis=1)\n",
        "f, ax = plt.subplots(figsize=(8, 6))\n",
        "fig = sns.boxplot(x=xdf['StateHoliday'], y=\"Customers\", data=data)\n",
        "fig.axis(ymin=0, ymax=800000);"
      ],
      "execution_count": null,
      "outputs": [
        {
          "output_type": "display_data",
          "data": {
            "image/png": "[encoded data removed]",
            "text/plain": [
              "<Figure size 576x432 with 1 Axes>"
            ]
          },
          "metadata": {
            "tags": [],
            "needs_background": "light"
          }
        }
      ]
    },
    {
      "cell_type": "code",
      "metadata": {
        "colab": {
          "base_uri": "https://localhost:8080/",
          "height": 392
        },
        "id": "PJzUa1Bv9Hd3",
        "outputId": "861354ec-cf6f-459d-882a-0f60b87cf2ad"
      },
      "source": [
        "# Let's plot how Sales relates to some of the features in the dataset\n",
        "\n",
        "data = pd.concat([xdf['Customers'], xdf['Promo']], axis=1)\n",
        "f, ax = plt.subplots(figsize=(8, 6))\n",
        "fig = sns.boxplot(x=xdf['Promo'], y=\"Customers\", data=data)\n",
        "fig.axis(ymin=0, ymax=800000);"
      ],
      "execution_count": null,
      "outputs": [
        {
          "output_type": "display_data",
          "data": {
            "image/png": "[encoded data removed]",
            "text/plain": [
              "<Figure size 576x432 with 1 Axes>"
            ]
          },
          "metadata": {
            "tags": [],
            "needs_background": "light"
          }
        }
      ]
    },
    {
      "cell_type": "markdown",
      "metadata": {
        "id": "9ju3X9uw9Hd3"
      },
      "source": [
        "# Feature Engineering"
      ]
    },
    {
      "cell_type": "code",
      "metadata": {
        "scrolled": false,
        "colab": {
          "base_uri": "https://localhost:8080/",
          "height": 458
        },
        "id": "3vlp31xV9Hd4",
        "outputId": "e13daa46-211d-4a6c-f544-3d4cc54cd678"
      },
      "source": [
        "sns.set_style(\"white\")\n",
        "sns.set_color_codes(palette='deep')\n",
        "f, ax = plt.subplots(figsize=(8, 7))\n",
        "#Check the new distribution \n",
        "sns.distplot(xdf['Customers'], color=\"b\");\n",
        "ax.xaxis.grid(False)\n",
        "ax.set(ylabel=\"Frequency\")\n",
        "ax.set(xlabel=\"Customers\")\n",
        "ax.set(title=\"Customers distribution\")\n",
        "sns.despine(trim=True, left=True)\n",
        "plt.show()"
      ],
      "execution_count": null,
      "outputs": [
        {
          "output_type": "display_data",
          "data": {
            "image/png": "[encoded data removed]",
            "text/plain": [
              "<Figure size 576x504 with 1 Axes>"
            ]
          },
          "metadata": {
            "tags": []
          }
        }
      ]
    },
    {
      "cell_type": "markdown",
      "metadata": {
        "id": "_Zg2s_AG9Hd4"
      },
      "source": [
        "The Sales is skewed to the right. This is a problem because most ML models don't do well with non-normally distributed data. We can apply a log(1+x) transform to fix the skew."
      ]
    },
    {
      "cell_type": "code",
      "metadata": {
        "id": "rpVb4z__9Hd4"
      },
      "source": [
        "from scipy.stats import skew, norm\n",
        "import scipy.stats as stats"
      ],
      "execution_count": null,
      "outputs": []
    },
    {
      "cell_type": "code",
      "metadata": {
        "colab": {
          "base_uri": "https://localhost:8080/"
        },
        "id": "NWlcPdz2YYc_",
        "outputId": "dec46358-3816-464e-b469-7ca768fb8263"
      },
      "source": [
        "xdf['Customers'].value_counts()"
      ],
      "execution_count": null,
      "outputs": [
        {
          "output_type": "execute_result",
          "data": {
            "text/plain": [
              "0       2578\n",
              "560      888\n",
              "576      853\n",
              "566      853\n",
              "539      850\n",
              "        ... \n",
              "3531       1\n",
              "4297       1\n",
              "3674       1\n",
              "3530       1\n",
              "3640       1\n",
              "Name: Customers, Length: 3643, dtype: int64"
            ]
          },
          "metadata": {
            "tags": []
          },
          "execution_count": 1682
        }
      ]
    },
    {
      "cell_type": "code",
      "metadata": {
        "id": "eEi57zl69Hd4"
      },
      "source": [
        "xdf['Customers'] = np.log1p(xdf['Customers'])"
      ],
      "execution_count": null,
      "outputs": []
    },
    {
      "cell_type": "code",
      "metadata": {
        "colab": {
          "base_uri": "https://localhost:8080/",
          "height": 509
        },
        "id": "ExcN908E9Hd4",
        "outputId": "6c4e60d2-2a99-43ff-f6ed-e7ff87b79f14"
      },
      "source": [
        "sns.set_style(\"white\")\n",
        "sns.set_color_codes(palette='deep')\n",
        "f, ax = plt.subplots(figsize=(8, 7))\n",
        "#Check the new distribution \n",
        "sns.distplot(xdf['Customers'] , fit=norm, color=\"b\");\n",
        "\n",
        "# Get the fitted parameters used by the function\n",
        "(mu, sigma) = norm.fit(xdf['Customers'])\n",
        "print( '\\n mu = {:.2f} and sigma = {:.2f}\\n'.format(mu, sigma))\n",
        "\n",
        "#Now plot the distribution\n",
        "plt.legend(['Normal dist. ($\\mu=$ {:.2f} and $\\sigma=$ {:.2f} )'.format(mu, sigma)],\n",
        "            loc='best')\n",
        "ax.xaxis.grid(False)\n",
        "ax.set(ylabel=\"Frequency\")\n",
        "ax.set(xlabel=\"Customers\")\n",
        "ax.set(title=\"Customers distribution\")\n",
        "sns.despine(trim=True, left=True)\n",
        "\n",
        "plt.show()"
      ],
      "execution_count": null,
      "outputs": [
        {
          "output_type": "stream",
          "text": [
            "\n",
            " mu = 6.49 and sigma = 0.74\n",
            "\n"
          ],
          "name": "stdout"
        },
        {
          "output_type": "display_data",
          "data": {
            "image/png": "[encoded data removed]",
            "text/plain": [
              "<Figure size 576x504 with 1 Axes>"
            ]
          },
          "metadata": {
            "tags": []
          }
        }
      ]
    },
    {
      "cell_type": "code",
      "metadata": {
        "colab": {
          "base_uri": "https://localhost:8080/"
        },
        "id": "uoh3Dvim9Hd5",
        "outputId": "b03bce17-68cc-4481-d1ce-0edc5ef6f68c"
      },
      "source": [
        "xdf.shape"
      ],
      "execution_count": null,
      "outputs": [
        {
          "output_type": "execute_result",
          "data": {
            "text/plain": [
              "(305163, 11)"
            ]
          },
          "metadata": {
            "tags": []
          },
          "execution_count": 1685
        }
      ]
    },
    {
      "cell_type": "markdown",
      "metadata": {
        "id": "Tl6jGOOU9Hd5"
      },
      "source": [
        "## Correlation"
      ]
    },
    {
      "cell_type": "code",
      "metadata": {
        "scrolled": false,
        "colab": {
          "base_uri": "https://localhost:8080/",
          "height": 547
        },
        "id": "bnoxl7FQ9Hd5",
        "outputId": "b929619b-db0e-4441-baa7-dd58e0d9a64f"
      },
      "source": [
        "# Let's check the correlation of the feature with target\n",
        "\n",
        "corr = xdf.corr()\n",
        "\n",
        "plt.figure(figsize = (10,8))\n",
        "sns.heatmap(corr, vmax = .8, annot = True);"
      ],
      "execution_count": null,
      "outputs": [
        {
          "output_type": "display_data",
          "data": {
            "image/png": "[encoded data removed]",
            "text/plain": [
              "<Figure size 720x576 with 2 Axes>"
            ]
          },
          "metadata": {
            "tags": []
          }
        }
      ]
    },
    {
      "cell_type": "code",
      "metadata": {
        "id": "OShCfTOG9Hd5"
      },
      "source": [
        "xdf.drop(['Sales','DayOfWeek','StateHoliday'], axis = 1, inplace = True)"
      ],
      "execution_count": null,
      "outputs": []
    },
    {
      "cell_type": "code",
      "metadata": {
        "id": "YFlgwhc29Hd6"
      },
      "source": [
        "df_test.drop(['DayOfWeek','StateHoliday'], axis = 1, inplace = True)"
      ],
      "execution_count": null,
      "outputs": []
    },
    {
      "cell_type": "code",
      "metadata": {
        "colab": {
          "base_uri": "https://localhost:8080/",
          "height": 487
        },
        "id": "mWnzDEfPS-s0",
        "outputId": "fa60f6da-490f-464c-9825-8621452941d2"
      },
      "source": [
        "# Let's check the correlation of the feature with target\n",
        "\n",
        "corr = xdf.corr()\n",
        "\n",
        "plt.figure(figsize = (10,8))\n",
        "sns.heatmap(corr, vmax = .8, annot = True);"
      ],
      "execution_count": null,
      "outputs": [
        {
          "output_type": "display_data",
          "data": {
            "image/png": "[encoded data removed]",
            "text/plain": [
              "<Figure size 720x576 with 2 Axes>"
            ]
          },
          "metadata": {
            "tags": []
          }
        }
      ]
    },
    {
      "cell_type": "markdown",
      "metadata": {
        "id": "Bd22U0QP9Hd6"
      },
      "source": [
        "#### Fix skewed features"
      ]
    },
    {
      "cell_type": "markdown",
      "metadata": {
        "id": "5jxBNS4q9Hd7"
      },
      "source": [
        "# Dataset Preparation"
      ]
    },
    {
      "cell_type": "code",
      "metadata": {
        "id": "p3iqIv9c9Hd7"
      },
      "source": [
        ""
      ],
      "execution_count": null,
      "outputs": []
    },
    {
      "cell_type": "code",
      "metadata": {
        "id": "Lnovtw6k9Hd7"
      },
      "source": [
        "# Splitting the dataset\n",
        "\n",
        "X = xdf.drop(['Customers'], axis =1)\n",
        "y = xdf['Customers']"
      ],
      "execution_count": null,
      "outputs": []
    },
    {
      "cell_type": "code",
      "metadata": {
        "id": "yD5OvSpf9Hd8"
      },
      "source": [
        "from sklearn.model_selection import train_test_split"
      ],
      "execution_count": null,
      "outputs": []
    },
    {
      "cell_type": "code",
      "metadata": {
        "id": "DIIkJRxi9Hd8"
      },
      "source": [
        "X_train, X_test, y_train, y_test = train_test_split(X, y, test_size = 0.1, random_state = 42)"
      ],
      "execution_count": null,
      "outputs": []
    },
    {
      "cell_type": "code",
      "metadata": {
        "id": "KdcTh7j39Hd8"
      },
      "source": [
        "from sklearn.compose import ColumnTransformer\n",
        "from sklearn.pipeline import make_pipeline\n",
        "from sklearn.preprocessing import OneHotEncoder\n",
        "from sklearn.pipeline import Pipeline"
      ],
      "execution_count": null,
      "outputs": []
    },
    {
      "cell_type": "code",
      "metadata": {
        "colab": {
          "base_uri": "https://localhost:8080/"
        },
        "id": "6cVg0ka49Hd8",
        "outputId": "13d05483-5192-44b7-fe83-4be9102d0077"
      },
      "source": [
        "(X_train.shape, X_test.shape)"
      ],
      "execution_count": null,
      "outputs": [
        {
          "output_type": "execute_result",
          "data": {
            "text/plain": [
              "((274646, 7), (30517, 7))"
            ]
          },
          "metadata": {
            "tags": []
          },
          "execution_count": 1694
        }
      ]
    },
    {
      "cell_type": "code",
      "metadata": {
        "scrolled": true,
        "colab": {
          "base_uri": "https://localhost:8080/",
          "height": 402
        },
        "id": "L64H2ytb9Hd8",
        "outputId": "68603fce-0428-491f-a31e-34b08a2020f9"
      },
      "source": [
        "X_train"
      ],
      "execution_count": null,
      "outputs": [
        {
          "output_type": "execute_result",
          "data": {
            "text/html": [
              "<div>\n",
              "<style scoped>\n",
              "    .dataframe tbody tr th:only-of-type {\n",
              "        vertical-align: middle;\n",
              "    }\n",
              "\n",
              "    .dataframe tbody tr th {\n",
              "        vertical-align: top;\n",
              "    }\n",
              "\n",
              "    .dataframe thead th {\n",
              "        text-align: right;\n",
              "    }\n",
              "</style>\n",
              "<table border=\"1\" class=\"dataframe\">\n",
              "  <thead>\n",
              "    <tr style=\"text-align: right;\">\n",
              "      <th></th>\n",
              "      <th>Store</th>\n",
              "      <th>Open</th>\n",
              "      <th>Promo</th>\n",
              "      <th>SchoolHoliday</th>\n",
              "      <th>Year</th>\n",
              "      <th>Month</th>\n",
              "      <th>Day</th>\n",
              "    </tr>\n",
              "  </thead>\n",
              "  <tbody>\n",
              "    <tr>\n",
              "      <th>358228</th>\n",
              "      <td>359</td>\n",
              "      <td>1</td>\n",
              "      <td>0</td>\n",
              "      <td>0</td>\n",
              "      <td>2014</td>\n",
              "      <td>8</td>\n",
              "      <td>23</td>\n",
              "    </tr>\n",
              "    <tr>\n",
              "      <th>523900</th>\n",
              "      <td>636</td>\n",
              "      <td>1</td>\n",
              "      <td>1</td>\n",
              "      <td>0</td>\n",
              "      <td>2014</td>\n",
              "      <td>3</td>\n",
              "      <td>19</td>\n",
              "    </tr>\n",
              "    <tr>\n",
              "      <th>23713</th>\n",
              "      <td>299</td>\n",
              "      <td>1</td>\n",
              "      <td>0</td>\n",
              "      <td>0</td>\n",
              "      <td>2015</td>\n",
              "      <td>7</td>\n",
              "      <td>10</td>\n",
              "    </tr>\n",
              "    <tr>\n",
              "      <th>313543</th>\n",
              "      <td>589</td>\n",
              "      <td>1</td>\n",
              "      <td>1</td>\n",
              "      <td>0</td>\n",
              "      <td>2014</td>\n",
              "      <td>10</td>\n",
              "      <td>10</td>\n",
              "    </tr>\n",
              "    <tr>\n",
              "      <th>703565</th>\n",
              "      <td>786</td>\n",
              "      <td>1</td>\n",
              "      <td>1</td>\n",
              "      <td>0</td>\n",
              "      <td>2013</td>\n",
              "      <td>10</td>\n",
              "      <td>9</td>\n",
              "    </tr>\n",
              "    <tr>\n",
              "      <th>...</th>\n",
              "      <td>...</td>\n",
              "      <td>...</td>\n",
              "      <td>...</td>\n",
              "      <td>...</td>\n",
              "      <td>...</td>\n",
              "      <td>...</td>\n",
              "      <td>...</td>\n",
              "    </tr>\n",
              "    <tr>\n",
              "      <th>459536</th>\n",
              "      <td>942</td>\n",
              "      <td>1</td>\n",
              "      <td>0</td>\n",
              "      <td>0</td>\n",
              "      <td>2014</td>\n",
              "      <td>5</td>\n",
              "      <td>16</td>\n",
              "    </tr>\n",
              "    <tr>\n",
              "      <th>206850</th>\n",
              "      <td>576</td>\n",
              "      <td>1</td>\n",
              "      <td>1</td>\n",
              "      <td>0</td>\n",
              "      <td>2015</td>\n",
              "      <td>1</td>\n",
              "      <td>27</td>\n",
              "    </tr>\n",
              "    <tr>\n",
              "      <th>602666</th>\n",
              "      <td>237</td>\n",
              "      <td>1</td>\n",
              "      <td>1</td>\n",
              "      <td>0</td>\n",
              "      <td>2014</td>\n",
              "      <td>1</td>\n",
              "      <td>7</td>\n",
              "    </tr>\n",
              "    <tr>\n",
              "      <th>287311</th>\n",
              "      <td>527</td>\n",
              "      <td>1</td>\n",
              "      <td>1</td>\n",
              "      <td>0</td>\n",
              "      <td>2014</td>\n",
              "      <td>11</td>\n",
              "      <td>7</td>\n",
              "    </tr>\n",
              "    <tr>\n",
              "      <th>173943</th>\n",
              "      <td>4</td>\n",
              "      <td>1</td>\n",
              "      <td>0</td>\n",
              "      <td>0</td>\n",
              "      <td>2015</td>\n",
              "      <td>2</td>\n",
              "      <td>25</td>\n",
              "    </tr>\n",
              "  </tbody>\n",
              "</table>\n",
              "<p>274646 rows × 7 columns</p>\n",
              "</div>"
            ],
            "text/plain": [
              "        Store  Open  Promo  SchoolHoliday  Year  Month  Day\n",
              "358228    359     1      0              0  2014      8   23\n",
              "523900    636     1      1              0  2014      3   19\n",
              "23713     299     1      0              0  2015      7   10\n",
              "313543    589     1      1              0  2014     10   10\n",
              "703565    786     1      1              0  2013     10    9\n",
              "...       ...   ...    ...            ...   ...    ...  ...\n",
              "459536    942     1      0              0  2014      5   16\n",
              "206850    576     1      1              0  2015      1   27\n",
              "602666    237     1      1              0  2014      1    7\n",
              "287311    527     1      1              0  2014     11    7\n",
              "173943      4     1      0              0  2015      2   25\n",
              "\n",
              "[274646 rows x 7 columns]"
            ]
          },
          "metadata": {
            "tags": []
          },
          "execution_count": 1695
        }
      ]
    },
    {
      "cell_type": "code",
      "metadata": {
        "colab": {
          "base_uri": "https://localhost:8080/",
          "height": 402
        },
        "id": "ER3mhZRmICM5",
        "outputId": "758f2e72-66ec-4628-d5b2-3e46a8f83617"
      },
      "source": [
        "df_test"
      ],
      "execution_count": null,
      "outputs": [
        {
          "output_type": "execute_result",
          "data": {
            "text/html": [
              "<div>\n",
              "<style scoped>\n",
              "    .dataframe tbody tr th:only-of-type {\n",
              "        vertical-align: middle;\n",
              "    }\n",
              "\n",
              "    .dataframe tbody tr th {\n",
              "        vertical-align: top;\n",
              "    }\n",
              "\n",
              "    .dataframe thead th {\n",
              "        text-align: right;\n",
              "    }\n",
              "</style>\n",
              "<table border=\"1\" class=\"dataframe\">\n",
              "  <thead>\n",
              "    <tr style=\"text-align: right;\">\n",
              "      <th></th>\n",
              "      <th>Store</th>\n",
              "      <th>Open</th>\n",
              "      <th>Promo</th>\n",
              "      <th>SchoolHoliday</th>\n",
              "      <th>Year</th>\n",
              "      <th>Month</th>\n",
              "      <th>Day</th>\n",
              "    </tr>\n",
              "  </thead>\n",
              "  <tbody>\n",
              "    <tr>\n",
              "      <th>0</th>\n",
              "      <td>767</td>\n",
              "      <td>0</td>\n",
              "      <td>0</td>\n",
              "      <td>1</td>\n",
              "      <td>2013</td>\n",
              "      <td>4</td>\n",
              "      <td>1</td>\n",
              "    </tr>\n",
              "    <tr>\n",
              "      <th>1</th>\n",
              "      <td>1111</td>\n",
              "      <td>1</td>\n",
              "      <td>0</td>\n",
              "      <td>0</td>\n",
              "      <td>2013</td>\n",
              "      <td>3</td>\n",
              "      <td>16</td>\n",
              "    </tr>\n",
              "    <tr>\n",
              "      <th>2</th>\n",
              "      <td>45</td>\n",
              "      <td>1</td>\n",
              "      <td>1</td>\n",
              "      <td>1</td>\n",
              "      <td>2013</td>\n",
              "      <td>8</td>\n",
              "      <td>1</td>\n",
              "    </tr>\n",
              "    <tr>\n",
              "      <th>3</th>\n",
              "      <td>500</td>\n",
              "      <td>1</td>\n",
              "      <td>0</td>\n",
              "      <td>1</td>\n",
              "      <td>2013</td>\n",
              "      <td>5</td>\n",
              "      <td>23</td>\n",
              "    </tr>\n",
              "    <tr>\n",
              "      <th>4</th>\n",
              "      <td>82</td>\n",
              "      <td>1</td>\n",
              "      <td>0</td>\n",
              "      <td>1</td>\n",
              "      <td>2013</td>\n",
              "      <td>8</td>\n",
              "      <td>6</td>\n",
              "    </tr>\n",
              "    <tr>\n",
              "      <th>...</th>\n",
              "      <td>...</td>\n",
              "      <td>...</td>\n",
              "      <td>...</td>\n",
              "      <td>...</td>\n",
              "      <td>...</td>\n",
              "      <td>...</td>\n",
              "      <td>...</td>\n",
              "    </tr>\n",
              "    <tr>\n",
              "      <th>305158</th>\n",
              "      <td>412</td>\n",
              "      <td>1</td>\n",
              "      <td>1</td>\n",
              "      <td>1</td>\n",
              "      <td>2013</td>\n",
              "      <td>5</td>\n",
              "      <td>28</td>\n",
              "    </tr>\n",
              "    <tr>\n",
              "      <th>305159</th>\n",
              "      <td>936</td>\n",
              "      <td>1</td>\n",
              "      <td>0</td>\n",
              "      <td>0</td>\n",
              "      <td>2013</td>\n",
              "      <td>3</td>\n",
              "      <td>2</td>\n",
              "    </tr>\n",
              "    <tr>\n",
              "      <th>305160</th>\n",
              "      <td>21</td>\n",
              "      <td>1</td>\n",
              "      <td>0</td>\n",
              "      <td>0</td>\n",
              "      <td>2013</td>\n",
              "      <td>9</td>\n",
              "      <td>16</td>\n",
              "    </tr>\n",
              "    <tr>\n",
              "      <th>305161</th>\n",
              "      <td>1077</td>\n",
              "      <td>1</td>\n",
              "      <td>0</td>\n",
              "      <td>0</td>\n",
              "      <td>2013</td>\n",
              "      <td>6</td>\n",
              "      <td>22</td>\n",
              "    </tr>\n",
              "    <tr>\n",
              "      <th>305162</th>\n",
              "      <td>321</td>\n",
              "      <td>1</td>\n",
              "      <td>0</td>\n",
              "      <td>0</td>\n",
              "      <td>2013</td>\n",
              "      <td>9</td>\n",
              "      <td>7</td>\n",
              "    </tr>\n",
              "  </tbody>\n",
              "</table>\n",
              "<p>305163 rows × 7 columns</p>\n",
              "</div>"
            ],
            "text/plain": [
              "        Store  Open  Promo  SchoolHoliday  Year  Month  Day\n",
              "0         767     0      0              1  2013      4    1\n",
              "1        1111     1      0              0  2013      3   16\n",
              "2          45     1      1              1  2013      8    1\n",
              "3         500     1      0              1  2013      5   23\n",
              "4          82     1      0              1  2013      8    6\n",
              "...       ...   ...    ...            ...   ...    ...  ...\n",
              "305158    412     1      1              1  2013      5   28\n",
              "305159    936     1      0              0  2013      3    2\n",
              "305160     21     1      0              0  2013      9   16\n",
              "305161   1077     1      0              0  2013      6   22\n",
              "305162    321     1      0              0  2013      9    7\n",
              "\n",
              "[305163 rows x 7 columns]"
            ]
          },
          "metadata": {
            "tags": []
          },
          "execution_count": 1696
        }
      ]
    },
    {
      "cell_type": "markdown",
      "metadata": {
        "id": "Puxc5Cgz9Hd8"
      },
      "source": [
        "### Preprocessing"
      ]
    },
    {
      "cell_type": "code",
      "metadata": {
        "id": "6yVy_eSG9Hd9"
      },
      "source": [
        "from sklearn.preprocessing import StandardScaler"
      ],
      "execution_count": null,
      "outputs": []
    },
    {
      "cell_type": "code",
      "metadata": {
        "id": "S62043Cd9Hd9"
      },
      "source": [
        "ct = ColumnTransformer([\n",
        "                ('scaler', StandardScaler(),['Store','Month','Day'])\n",
        "], remainder = 'passthrough')"
      ],
      "execution_count": null,
      "outputs": []
    },
    {
      "cell_type": "markdown",
      "metadata": {
        "id": "PdokxMjj9Hd9"
      },
      "source": [
        "# Modeling and Evaluation Metrics"
      ]
    },
    {
      "cell_type": "code",
      "metadata": {
        "id": "p73pwe359Hd9"
      },
      "source": [
        "from sklearn.metrics import r2_score, mean_squared_error, mean_absolute_error\n",
        "import math"
      ],
      "execution_count": null,
      "outputs": []
    },
    {
      "cell_type": "markdown",
      "metadata": {
        "id": "i4vesWaw9Hd9"
      },
      "source": [
        "## Linear Regression"
      ]
    },
    {
      "cell_type": "code",
      "metadata": {
        "id": "Q1POwDJ49Hd9"
      },
      "source": [
        "from sklearn.linear_model import LinearRegression"
      ],
      "execution_count": null,
      "outputs": []
    },
    {
      "cell_type": "code",
      "metadata": {
        "id": "1rtmUW0O9Hd-"
      },
      "source": [
        "lr = LinearRegression()\n",
        "lr_pipe = Pipeline([\n",
        "            ('column-transformer', ct),\n",
        "            ('LinearRegression', lr)\n",
        "])"
      ],
      "execution_count": null,
      "outputs": []
    },
    {
      "cell_type": "code",
      "metadata": {
        "colab": {
          "base_uri": "https://localhost:8080/"
        },
        "id": "6p-GxyxJ9Hd-",
        "outputId": "8b866464-1aa2-46e3-a2ba-1f51154f4e7f"
      },
      "source": [
        "lr_pipe.fit(X_train, y_train)"
      ],
      "execution_count": null,
      "outputs": [
        {
          "output_type": "execute_result",
          "data": {
            "text/plain": [
              "Pipeline(memory=None,\n",
              "         steps=[('column-transformer',\n",
              "                 ColumnTransformer(n_jobs=None, remainder='passthrough',\n",
              "                                   sparse_threshold=0.3,\n",
              "                                   transformer_weights=None,\n",
              "                                   transformers=[('scaler',\n",
              "                                                  StandardScaler(copy=True,\n",
              "                                                                 with_mean=True,\n",
              "                                                                 with_std=True),\n",
              "                                                  ['Store', 'Month', 'Day'])],\n",
              "                                   verbose=False)),\n",
              "                ('LinearRegression',\n",
              "                 LinearRegression(copy_X=True, fit_intercept=True, n_jobs=None,\n",
              "                                  normalize=False))],\n",
              "         verbose=False)"
            ]
          },
          "metadata": {
            "tags": []
          },
          "execution_count": 1702
        }
      ]
    },
    {
      "cell_type": "code",
      "metadata": {
        "id": "rpwi8o5g9Hd-"
      },
      "source": [
        "lr_pred = lr_pipe.predict(X_test)"
      ],
      "execution_count": null,
      "outputs": []
    },
    {
      "cell_type": "code",
      "metadata": {
        "colab": {
          "base_uri": "https://localhost:8080/"
        },
        "id": "_qwI7U8k9Hd-",
        "outputId": "a31430eb-cefb-4bcd-8826-af165c450c4e"
      },
      "source": [
        "print(\"R2 Score:\", r2_score(y_test, lr_pred))\n",
        "print(\"Mean Squarred Error: %.3f\" % mean_squared_error(y_test, lr_pred))\n",
        "print(\"RMSE:\", math.sqrt(mean_squared_error(y_test, lr_pred)))\n",
        "print(\"Mean Absolute Error : \" + str(mean_absolute_error(y_test,lr_pred)))"
      ],
      "execution_count": null,
      "outputs": [
        {
          "output_type": "stream",
          "text": [
            "R2 Score: 0.677528368062964\n",
            "Mean Squarred Error: 0.175\n",
            "RMSE: 0.4182784423561084\n",
            "Mean Absolute Error : 0.3182166337820209\n"
          ],
          "name": "stdout"
        }
      ]
    },
    {
      "cell_type": "markdown",
      "metadata": {
        "id": "h4pVpZm89Hd-"
      },
      "source": [
        "## GradientBoostingRegressor"
      ]
    },
    {
      "cell_type": "code",
      "metadata": {
        "id": "INODifQf9Hd-"
      },
      "source": [
        "from sklearn.ensemble import GradientBoostingRegressor\n"
      ],
      "execution_count": null,
      "outputs": []
    },
    {
      "cell_type": "code",
      "metadata": {
        "id": "MYkwORXn9Hd_"
      },
      "source": [
        "gbr = GradientBoostingRegressor()"
      ],
      "execution_count": null,
      "outputs": []
    },
    {
      "cell_type": "code",
      "metadata": {
        "id": "TpD4VSyD9Hd_"
      },
      "source": [
        "gbr_pipe = Pipeline([\n",
        "            ('column-transformer', ct),\n",
        "            ('GradientBoostingRegressor', gbr)\n",
        "])"
      ],
      "execution_count": null,
      "outputs": []
    },
    {
      "cell_type": "code",
      "metadata": {
        "colab": {
          "base_uri": "https://localhost:8080/"
        },
        "id": "A5doSOtx9Hd_",
        "outputId": "f2a0d205-f4cc-439f-9e7a-ecc842f29022"
      },
      "source": [
        "gbr_pipe.fit(X_train, y_train)"
      ],
      "execution_count": null,
      "outputs": [
        {
          "output_type": "execute_result",
          "data": {
            "text/plain": [
              "Pipeline(memory=None,\n",
              "         steps=[('column-transformer',\n",
              "                 ColumnTransformer(n_jobs=None, remainder='passthrough',\n",
              "                                   sparse_threshold=0.3,\n",
              "                                   transformer_weights=None,\n",
              "                                   transformers=[('scaler',\n",
              "                                                  StandardScaler(copy=True,\n",
              "                                                                 with_mean=True,\n",
              "                                                                 with_std=True),\n",
              "                                                  ['Store', 'Month', 'Day'])],\n",
              "                                   verbose=False)),\n",
              "                ('GradientBoostingRegressor',\n",
              "                 GradientBoostingRegressor(alpha=0.9, ccp_alpha=0.0,...\n",
              "                                           learning_rate=0.1, loss='ls',\n",
              "                                           max_depth=3, max_features=None,\n",
              "                                           max_leaf_nodes=None,\n",
              "                                           min_impurity_decrease=0.0,\n",
              "                                           min_impurity_split=None,\n",
              "                                           min_samples_leaf=1,\n",
              "                                           min_samples_split=2,\n",
              "                                           min_weight_fraction_leaf=0.0,\n",
              "                                           n_estimators=100,\n",
              "                                           n_iter_no_change=None,\n",
              "                                           presort='deprecated',\n",
              "                                           random_state=None, subsample=1.0,\n",
              "                                           tol=0.0001, validation_fraction=0.1,\n",
              "                                           verbose=0, warm_start=False))],\n",
              "         verbose=False)"
            ]
          },
          "metadata": {
            "tags": []
          },
          "execution_count": 1708
        }
      ]
    },
    {
      "cell_type": "code",
      "metadata": {
        "id": "K59IRpWF9Hd_"
      },
      "source": [
        "gbr_pred = gbr_pipe.predict(X_test)"
      ],
      "execution_count": null,
      "outputs": []
    },
    {
      "cell_type": "code",
      "metadata": {
        "colab": {
          "base_uri": "https://localhost:8080/"
        },
        "id": "l6024c2P9Hd_",
        "outputId": "71add288-c3eb-42ff-efe3-fe86c562bc64"
      },
      "source": [
        "print(\"R2 Score:\", r2_score(y_test, gbr_pred))\n",
        "print(\"Mean Squarred Error:\", mean_squared_error(y_test, gbr_pred))\n",
        "print(\"RMSE:\", math.sqrt(mean_squared_error(y_test, gbr_pred)))\n",
        "print(\"Mean Absolute Error : \" + str(mean_absolute_error(y_test,gbr_pred)))"
      ],
      "execution_count": null,
      "outputs": [
        {
          "output_type": "stream",
          "text": [
            "R2 Score: 0.7200656877519986\n",
            "Mean Squarred Error: 0.15187824950195147\n",
            "RMSE: 0.38971560079364476\n",
            "Mean Absolute Error : 0.29945111797113\n"
          ],
          "name": "stdout"
        }
      ]
    },
    {
      "cell_type": "markdown",
      "metadata": {
        "id": "AQs5vxcz9Hd_"
      },
      "source": [
        "## XGBoost"
      ]
    },
    {
      "cell_type": "code",
      "metadata": {
        "id": "Ww_swSsb9HeA"
      },
      "source": [
        "from xgboost import XGBRegressor"
      ],
      "execution_count": null,
      "outputs": []
    },
    {
      "cell_type": "code",
      "metadata": {
        "id": "LkjEY0D29HeA"
      },
      "source": [
        "xgb = XGBRegressor(n_estimators = 100, learning_rate = 0.05)\n",
        "xgb_pipe = Pipeline([\n",
        "            ('column-transformer', ct),\n",
        "            ('XGBRegression', xgb)\n",
        "])"
      ],
      "execution_count": null,
      "outputs": []
    },
    {
      "cell_type": "code",
      "metadata": {
        "colab": {
          "base_uri": "https://localhost:8080/"
        },
        "id": "4l0SuwF49HeA",
        "outputId": "67f97bd1-e565-4775-933a-b6e3f61f527c"
      },
      "source": [
        "xgb_pipe.fit(X_train, y_train)"
      ],
      "execution_count": null,
      "outputs": [
        {
          "output_type": "stream",
          "text": [
            "[04:57:35] WARNING: /workspace/src/objective/regression_obj.cu:152: reg:linear is now deprecated in favor of reg:squarederror.\n"
          ],
          "name": "stdout"
        },
        {
          "output_type": "execute_result",
          "data": {
            "text/plain": [
              "Pipeline(memory=None,\n",
              "         steps=[('column-transformer',\n",
              "                 ColumnTransformer(n_jobs=None, remainder='passthrough',\n",
              "                                   sparse_threshold=0.3,\n",
              "                                   transformer_weights=None,\n",
              "                                   transformers=[('scaler',\n",
              "                                                  StandardScaler(copy=True,\n",
              "                                                                 with_mean=True,\n",
              "                                                                 with_std=True),\n",
              "                                                  ['Store', 'Month', 'Day'])],\n",
              "                                   verbose=False)),\n",
              "                ('XGBRegression',\n",
              "                 XGBRegressor(base_score=0.5, booster='gbtree',\n",
              "                              colsample_bylevel=1, colsample_bynode=1,\n",
              "                              colsample_bytree=1, gamma=0,\n",
              "                              importance_type='gain', learning_rate=0.05,\n",
              "                              max_delta_step=0, max_depth=3, min_child_weight=1,\n",
              "                              missing=None, n_estimators=100, n_jobs=1,\n",
              "                              nthread=None, objective='reg:linear',\n",
              "                              random_state=0, reg_alpha=0, reg_lambda=1,\n",
              "                              scale_pos_weight=1, seed=None, silent=None,\n",
              "                              subsample=1, verbosity=1))],\n",
              "         verbose=False)"
            ]
          },
          "metadata": {
            "tags": []
          },
          "execution_count": 1713
        }
      ]
    },
    {
      "cell_type": "code",
      "metadata": {
        "id": "ymq2qgJr9HeA"
      },
      "source": [
        "xgb_pred = xgb_pipe.predict(X_test)"
      ],
      "execution_count": null,
      "outputs": []
    },
    {
      "cell_type": "code",
      "metadata": {
        "scrolled": true,
        "colab": {
          "base_uri": "https://localhost:8080/"
        },
        "id": "EtXhRa-V9HeA",
        "outputId": "2066e814-935d-46f3-aaca-3ece019743b7"
      },
      "source": [
        "print(\"R2 Score:\", r2_score(y_test, xgb_pred))\n",
        "print(\"Mean Squarred Error: %.3f \" % mean_squared_error(y_test, xgb_pred))\n",
        "print(\"RMSE:\", math.sqrt(mean_squared_error(y_test, xgb_pred)))\n",
        "print(\"Mean Absolute Error : \" + str(mean_absolute_error(y_test,xgb_pred)))"
      ],
      "execution_count": null,
      "outputs": [
        {
          "output_type": "stream",
          "text": [
            "R2 Score: 0.691569878111421\n",
            "Mean Squarred Error: 0.167 \n",
            "RMSE: 0.4090704580647829\n",
            "Mean Absolute Error : 0.3113254043452319\n"
          ],
          "name": "stdout"
        }
      ]
    },
    {
      "cell_type": "code",
      "metadata": {
        "id": "-8J4fyrU9HeA"
      },
      "source": [
        ""
      ],
      "execution_count": null,
      "outputs": []
    },
    {
      "cell_type": "code",
      "metadata": {
        "id": "OviUjnX_9HeB"
      },
      "source": [
        ""
      ],
      "execution_count": null,
      "outputs": []
    },
    {
      "cell_type": "code",
      "metadata": {
        "id": "YMK77q1z9HeB",
        "colab": {
          "base_uri": "https://localhost:8080/",
          "height": 402
        },
        "outputId": "88e2ccbd-8a7a-4dc9-9cd6-a1449b6cd7b0"
      },
      "source": [
        "X_test"
      ],
      "execution_count": null,
      "outputs": [
        {
          "output_type": "execute_result",
          "data": {
            "text/html": [
              "<div>\n",
              "<style scoped>\n",
              "    .dataframe tbody tr th:only-of-type {\n",
              "        vertical-align: middle;\n",
              "    }\n",
              "\n",
              "    .dataframe tbody tr th {\n",
              "        vertical-align: top;\n",
              "    }\n",
              "\n",
              "    .dataframe thead th {\n",
              "        text-align: right;\n",
              "    }\n",
              "</style>\n",
              "<table border=\"1\" class=\"dataframe\">\n",
              "  <thead>\n",
              "    <tr style=\"text-align: right;\">\n",
              "      <th></th>\n",
              "      <th>Store</th>\n",
              "      <th>Open</th>\n",
              "      <th>Promo</th>\n",
              "      <th>SchoolHoliday</th>\n",
              "      <th>Year</th>\n",
              "      <th>Month</th>\n",
              "      <th>Day</th>\n",
              "    </tr>\n",
              "  </thead>\n",
              "  <tbody>\n",
              "    <tr>\n",
              "      <th>346719</th>\n",
              "      <td>10</td>\n",
              "      <td>1</td>\n",
              "      <td>1</td>\n",
              "      <td>1</td>\n",
              "      <td>2014</td>\n",
              "      <td>9</td>\n",
              "      <td>4</td>\n",
              "    </tr>\n",
              "    <tr>\n",
              "      <th>18905</th>\n",
              "      <td>1066</td>\n",
              "      <td>1</td>\n",
              "      <td>1</td>\n",
              "      <td>1</td>\n",
              "      <td>2015</td>\n",
              "      <td>7</td>\n",
              "      <td>15</td>\n",
              "    </tr>\n",
              "    <tr>\n",
              "      <th>70899</th>\n",
              "      <td>655</td>\n",
              "      <td>1</td>\n",
              "      <td>0</td>\n",
              "      <td>0</td>\n",
              "      <td>2015</td>\n",
              "      <td>5</td>\n",
              "      <td>29</td>\n",
              "    </tr>\n",
              "    <tr>\n",
              "      <th>47080</th>\n",
              "      <td>251</td>\n",
              "      <td>1</td>\n",
              "      <td>1</td>\n",
              "      <td>0</td>\n",
              "      <td>2015</td>\n",
              "      <td>6</td>\n",
              "      <td>19</td>\n",
              "    </tr>\n",
              "    <tr>\n",
              "      <th>192676</th>\n",
              "      <td>897</td>\n",
              "      <td>1</td>\n",
              "      <td>0</td>\n",
              "      <td>0</td>\n",
              "      <td>2015</td>\n",
              "      <td>2</td>\n",
              "      <td>9</td>\n",
              "    </tr>\n",
              "    <tr>\n",
              "      <th>...</th>\n",
              "      <td>...</td>\n",
              "      <td>...</td>\n",
              "      <td>...</td>\n",
              "      <td>...</td>\n",
              "      <td>...</td>\n",
              "      <td>...</td>\n",
              "      <td>...</td>\n",
              "    </tr>\n",
              "    <tr>\n",
              "      <th>80724</th>\n",
              "      <td>445</td>\n",
              "      <td>1</td>\n",
              "      <td>1</td>\n",
              "      <td>0</td>\n",
              "      <td>2015</td>\n",
              "      <td>5</td>\n",
              "      <td>20</td>\n",
              "    </tr>\n",
              "    <tr>\n",
              "      <th>565982</th>\n",
              "      <td>348</td>\n",
              "      <td>0</td>\n",
              "      <td>0</td>\n",
              "      <td>0</td>\n",
              "      <td>2014</td>\n",
              "      <td>2</td>\n",
              "      <td>9</td>\n",
              "    </tr>\n",
              "    <tr>\n",
              "      <th>386584</th>\n",
              "      <td>729</td>\n",
              "      <td>1</td>\n",
              "      <td>0</td>\n",
              "      <td>1</td>\n",
              "      <td>2014</td>\n",
              "      <td>7</td>\n",
              "      <td>24</td>\n",
              "    </tr>\n",
              "    <tr>\n",
              "      <th>541480</th>\n",
              "      <td>376</td>\n",
              "      <td>1</td>\n",
              "      <td>1</td>\n",
              "      <td>0</td>\n",
              "      <td>2014</td>\n",
              "      <td>3</td>\n",
              "      <td>3</td>\n",
              "    </tr>\n",
              "    <tr>\n",
              "      <th>52353</th>\n",
              "      <td>1064</td>\n",
              "      <td>1</td>\n",
              "      <td>1</td>\n",
              "      <td>0</td>\n",
              "      <td>2015</td>\n",
              "      <td>6</td>\n",
              "      <td>15</td>\n",
              "    </tr>\n",
              "  </tbody>\n",
              "</table>\n",
              "<p>30517 rows × 7 columns</p>\n",
              "</div>"
            ],
            "text/plain": [
              "        Store  Open  Promo  SchoolHoliday  Year  Month  Day\n",
              "346719     10     1      1              1  2014      9    4\n",
              "18905    1066     1      1              1  2015      7   15\n",
              "70899     655     1      0              0  2015      5   29\n",
              "47080     251     1      1              0  2015      6   19\n",
              "192676    897     1      0              0  2015      2    9\n",
              "...       ...   ...    ...            ...   ...    ...  ...\n",
              "80724     445     1      1              0  2015      5   20\n",
              "565982    348     0      0              0  2014      2    9\n",
              "386584    729     1      0              1  2014      7   24\n",
              "541480    376     1      1              0  2014      3    3\n",
              "52353    1064     1      1              0  2015      6   15\n",
              "\n",
              "[30517 rows x 7 columns]"
            ]
          },
          "metadata": {
            "tags": []
          },
          "execution_count": 1718
        }
      ]
    },
    {
      "cell_type": "code",
      "metadata": {
        "id": "-68nyK3k9HeB",
        "colab": {
          "base_uri": "https://localhost:8080/",
          "height": 402
        },
        "outputId": "b58dadcd-867c-4959-91e2-6e9d79398161"
      },
      "source": [
        "df_test"
      ],
      "execution_count": null,
      "outputs": [
        {
          "output_type": "execute_result",
          "data": {
            "text/html": [
              "<div>\n",
              "<style scoped>\n",
              "    .dataframe tbody tr th:only-of-type {\n",
              "        vertical-align: middle;\n",
              "    }\n",
              "\n",
              "    .dataframe tbody tr th {\n",
              "        vertical-align: top;\n",
              "    }\n",
              "\n",
              "    .dataframe thead th {\n",
              "        text-align: right;\n",
              "    }\n",
              "</style>\n",
              "<table border=\"1\" class=\"dataframe\">\n",
              "  <thead>\n",
              "    <tr style=\"text-align: right;\">\n",
              "      <th></th>\n",
              "      <th>Store</th>\n",
              "      <th>Open</th>\n",
              "      <th>Promo</th>\n",
              "      <th>SchoolHoliday</th>\n",
              "      <th>Year</th>\n",
              "      <th>Month</th>\n",
              "      <th>Day</th>\n",
              "    </tr>\n",
              "  </thead>\n",
              "  <tbody>\n",
              "    <tr>\n",
              "      <th>0</th>\n",
              "      <td>767</td>\n",
              "      <td>0</td>\n",
              "      <td>0</td>\n",
              "      <td>1</td>\n",
              "      <td>2013</td>\n",
              "      <td>4</td>\n",
              "      <td>1</td>\n",
              "    </tr>\n",
              "    <tr>\n",
              "      <th>1</th>\n",
              "      <td>1111</td>\n",
              "      <td>1</td>\n",
              "      <td>0</td>\n",
              "      <td>0</td>\n",
              "      <td>2013</td>\n",
              "      <td>3</td>\n",
              "      <td>16</td>\n",
              "    </tr>\n",
              "    <tr>\n",
              "      <th>2</th>\n",
              "      <td>45</td>\n",
              "      <td>1</td>\n",
              "      <td>1</td>\n",
              "      <td>1</td>\n",
              "      <td>2013</td>\n",
              "      <td>8</td>\n",
              "      <td>1</td>\n",
              "    </tr>\n",
              "    <tr>\n",
              "      <th>3</th>\n",
              "      <td>500</td>\n",
              "      <td>1</td>\n",
              "      <td>0</td>\n",
              "      <td>1</td>\n",
              "      <td>2013</td>\n",
              "      <td>5</td>\n",
              "      <td>23</td>\n",
              "    </tr>\n",
              "    <tr>\n",
              "      <th>4</th>\n",
              "      <td>82</td>\n",
              "      <td>1</td>\n",
              "      <td>0</td>\n",
              "      <td>1</td>\n",
              "      <td>2013</td>\n",
              "      <td>8</td>\n",
              "      <td>6</td>\n",
              "    </tr>\n",
              "    <tr>\n",
              "      <th>...</th>\n",
              "      <td>...</td>\n",
              "      <td>...</td>\n",
              "      <td>...</td>\n",
              "      <td>...</td>\n",
              "      <td>...</td>\n",
              "      <td>...</td>\n",
              "      <td>...</td>\n",
              "    </tr>\n",
              "    <tr>\n",
              "      <th>305158</th>\n",
              "      <td>412</td>\n",
              "      <td>1</td>\n",
              "      <td>1</td>\n",
              "      <td>1</td>\n",
              "      <td>2013</td>\n",
              "      <td>5</td>\n",
              "      <td>28</td>\n",
              "    </tr>\n",
              "    <tr>\n",
              "      <th>305159</th>\n",
              "      <td>936</td>\n",
              "      <td>1</td>\n",
              "      <td>0</td>\n",
              "      <td>0</td>\n",
              "      <td>2013</td>\n",
              "      <td>3</td>\n",
              "      <td>2</td>\n",
              "    </tr>\n",
              "    <tr>\n",
              "      <th>305160</th>\n",
              "      <td>21</td>\n",
              "      <td>1</td>\n",
              "      <td>0</td>\n",
              "      <td>0</td>\n",
              "      <td>2013</td>\n",
              "      <td>9</td>\n",
              "      <td>16</td>\n",
              "    </tr>\n",
              "    <tr>\n",
              "      <th>305161</th>\n",
              "      <td>1077</td>\n",
              "      <td>1</td>\n",
              "      <td>0</td>\n",
              "      <td>0</td>\n",
              "      <td>2013</td>\n",
              "      <td>6</td>\n",
              "      <td>22</td>\n",
              "    </tr>\n",
              "    <tr>\n",
              "      <th>305162</th>\n",
              "      <td>321</td>\n",
              "      <td>1</td>\n",
              "      <td>0</td>\n",
              "      <td>0</td>\n",
              "      <td>2013</td>\n",
              "      <td>9</td>\n",
              "      <td>7</td>\n",
              "    </tr>\n",
              "  </tbody>\n",
              "</table>\n",
              "<p>305163 rows × 7 columns</p>\n",
              "</div>"
            ],
            "text/plain": [
              "        Store  Open  Promo  SchoolHoliday  Year  Month  Day\n",
              "0         767     0      0              1  2013      4    1\n",
              "1        1111     1      0              0  2013      3   16\n",
              "2          45     1      1              1  2013      8    1\n",
              "3         500     1      0              1  2013      5   23\n",
              "4          82     1      0              1  2013      8    6\n",
              "...       ...   ...    ...            ...   ...    ...  ...\n",
              "305158    412     1      1              1  2013      5   28\n",
              "305159    936     1      0              0  2013      3    2\n",
              "305160     21     1      0              0  2013      9   16\n",
              "305161   1077     1      0              0  2013      6   22\n",
              "305162    321     1      0              0  2013      9    7\n",
              "\n",
              "[305163 rows x 7 columns]"
            ]
          },
          "metadata": {
            "tags": []
          },
          "execution_count": 1717
        }
      ]
    },
    {
      "cell_type": "code",
      "metadata": {
        "id": "FYyn-qkk9HeB"
      },
      "source": [
        ""
      ],
      "execution_count": null,
      "outputs": []
    },
    {
      "cell_type": "code",
      "metadata": {
        "id": "xisg4idO9HeB"
      },
      "source": [
        "output = pd.DataFrame(columns = ['Index','Customers'])"
      ],
      "execution_count": null,
      "outputs": []
    },
    {
      "cell_type": "code",
      "metadata": {
        "id": "UR4MU4lY9HeB"
      },
      "source": [
        "output['Index'] = df_test.index"
      ],
      "execution_count": null,
      "outputs": []
    },
    {
      "cell_type": "code",
      "metadata": {
        "id": "um0MhJ-m9HeB"
      },
      "source": [
        "df_test['Customers'] = np.floor(np.expm1(gbr_pipe.predict(df_test)))"
      ],
      "execution_count": null,
      "outputs": []
    },
    {
      "cell_type": "code",
      "metadata": {
        "colab": {
          "base_uri": "https://localhost:8080/"
        },
        "id": "37eBd9Hcbh1r",
        "outputId": "b338fae0-5b09-4df8-ec40-035b23044010"
      },
      "source": [
        "df_test['Customers'].value_counts()"
      ],
      "execution_count": null,
      "outputs": [
        {
          "output_type": "execute_result",
          "data": {
            "text/plain": [
              "0.0       47910\n",
              "620.0      4189\n",
              "628.0      3872\n",
              "629.0      3562\n",
              "619.0      3361\n",
              "          ...  \n",
              "1204.0        1\n",
              "460.0         1\n",
              "2175.0        1\n",
              "1328.0        1\n",
              "1484.0        1\n",
              "Name: Customers, Length: 911, dtype: int64"
            ]
          },
          "metadata": {
            "tags": []
          },
          "execution_count": 1728
        }
      ]
    },
    {
      "cell_type": "code",
      "metadata": {
        "id": "YK5x14Sa9HeB",
        "colab": {
          "base_uri": "https://localhost:8080/",
          "height": 402
        },
        "outputId": "cdf4b46c-869d-4a96-e404-85287f3154c1"
      },
      "source": [
        "df_test"
      ],
      "execution_count": null,
      "outputs": [
        {
          "output_type": "execute_result",
          "data": {
            "text/html": [
              "<div>\n",
              "<style scoped>\n",
              "    .dataframe tbody tr th:only-of-type {\n",
              "        vertical-align: middle;\n",
              "    }\n",
              "\n",
              "    .dataframe tbody tr th {\n",
              "        vertical-align: top;\n",
              "    }\n",
              "\n",
              "    .dataframe thead th {\n",
              "        text-align: right;\n",
              "    }\n",
              "</style>\n",
              "<table border=\"1\" class=\"dataframe\">\n",
              "  <thead>\n",
              "    <tr style=\"text-align: right;\">\n",
              "      <th></th>\n",
              "      <th>Store</th>\n",
              "      <th>Open</th>\n",
              "      <th>Promo</th>\n",
              "      <th>SchoolHoliday</th>\n",
              "      <th>Year</th>\n",
              "      <th>Month</th>\n",
              "      <th>Day</th>\n",
              "      <th>Customers</th>\n",
              "    </tr>\n",
              "  </thead>\n",
              "  <tbody>\n",
              "    <tr>\n",
              "      <th>0</th>\n",
              "      <td>767</td>\n",
              "      <td>0</td>\n",
              "      <td>0</td>\n",
              "      <td>1</td>\n",
              "      <td>2013</td>\n",
              "      <td>4</td>\n",
              "      <td>1</td>\n",
              "      <td>0.0</td>\n",
              "    </tr>\n",
              "    <tr>\n",
              "      <th>1</th>\n",
              "      <td>1111</td>\n",
              "      <td>1</td>\n",
              "      <td>0</td>\n",
              "      <td>0</td>\n",
              "      <td>2013</td>\n",
              "      <td>3</td>\n",
              "      <td>16</td>\n",
              "      <td>484.0</td>\n",
              "    </tr>\n",
              "    <tr>\n",
              "      <th>2</th>\n",
              "      <td>45</td>\n",
              "      <td>1</td>\n",
              "      <td>1</td>\n",
              "      <td>1</td>\n",
              "      <td>2013</td>\n",
              "      <td>8</td>\n",
              "      <td>1</td>\n",
              "      <td>729.0</td>\n",
              "    </tr>\n",
              "    <tr>\n",
              "      <th>3</th>\n",
              "      <td>500</td>\n",
              "      <td>1</td>\n",
              "      <td>0</td>\n",
              "      <td>1</td>\n",
              "      <td>2013</td>\n",
              "      <td>5</td>\n",
              "      <td>23</td>\n",
              "      <td>662.0</td>\n",
              "    </tr>\n",
              "    <tr>\n",
              "      <th>4</th>\n",
              "      <td>82</td>\n",
              "      <td>1</td>\n",
              "      <td>0</td>\n",
              "      <td>1</td>\n",
              "      <td>2013</td>\n",
              "      <td>8</td>\n",
              "      <td>6</td>\n",
              "      <td>619.0</td>\n",
              "    </tr>\n",
              "    <tr>\n",
              "      <th>...</th>\n",
              "      <td>...</td>\n",
              "      <td>...</td>\n",
              "      <td>...</td>\n",
              "      <td>...</td>\n",
              "      <td>...</td>\n",
              "      <td>...</td>\n",
              "      <td>...</td>\n",
              "      <td>...</td>\n",
              "    </tr>\n",
              "    <tr>\n",
              "      <th>305158</th>\n",
              "      <td>412</td>\n",
              "      <td>1</td>\n",
              "      <td>1</td>\n",
              "      <td>1</td>\n",
              "      <td>2013</td>\n",
              "      <td>5</td>\n",
              "      <td>28</td>\n",
              "      <td>775.0</td>\n",
              "    </tr>\n",
              "    <tr>\n",
              "      <th>305159</th>\n",
              "      <td>936</td>\n",
              "      <td>1</td>\n",
              "      <td>0</td>\n",
              "      <td>0</td>\n",
              "      <td>2013</td>\n",
              "      <td>3</td>\n",
              "      <td>2</td>\n",
              "      <td>644.0</td>\n",
              "    </tr>\n",
              "    <tr>\n",
              "      <th>305160</th>\n",
              "      <td>21</td>\n",
              "      <td>1</td>\n",
              "      <td>0</td>\n",
              "      <td>0</td>\n",
              "      <td>2013</td>\n",
              "      <td>9</td>\n",
              "      <td>16</td>\n",
              "      <td>581.0</td>\n",
              "    </tr>\n",
              "    <tr>\n",
              "      <th>305161</th>\n",
              "      <td>1077</td>\n",
              "      <td>1</td>\n",
              "      <td>0</td>\n",
              "      <td>0</td>\n",
              "      <td>2013</td>\n",
              "      <td>6</td>\n",
              "      <td>22</td>\n",
              "      <td>627.0</td>\n",
              "    </tr>\n",
              "    <tr>\n",
              "      <th>305162</th>\n",
              "      <td>321</td>\n",
              "      <td>1</td>\n",
              "      <td>0</td>\n",
              "      <td>0</td>\n",
              "      <td>2013</td>\n",
              "      <td>9</td>\n",
              "      <td>7</td>\n",
              "      <td>588.0</td>\n",
              "    </tr>\n",
              "  </tbody>\n",
              "</table>\n",
              "<p>305163 rows × 8 columns</p>\n",
              "</div>"
            ],
            "text/plain": [
              "        Store  Open  Promo  SchoolHoliday  Year  Month  Day  Customers\n",
              "0         767     0      0              1  2013      4    1        0.0\n",
              "1        1111     1      0              0  2013      3   16      484.0\n",
              "2          45     1      1              1  2013      8    1      729.0\n",
              "3         500     1      0              1  2013      5   23      662.0\n",
              "4          82     1      0              1  2013      8    6      619.0\n",
              "...       ...   ...    ...            ...   ...    ...  ...        ...\n",
              "305158    412     1      1              1  2013      5   28      775.0\n",
              "305159    936     1      0              0  2013      3    2      644.0\n",
              "305160     21     1      0              0  2013      9   16      581.0\n",
              "305161   1077     1      0              0  2013      6   22      627.0\n",
              "305162    321     1      0              0  2013      9    7      588.0\n",
              "\n",
              "[305163 rows x 8 columns]"
            ]
          },
          "metadata": {
            "tags": []
          },
          "execution_count": 1730
        }
      ]
    },
    {
      "cell_type": "code",
      "metadata": {
        "colab": {
          "base_uri": "https://localhost:8080/",
          "height": 402
        },
        "id": "HmnjzRQJb3_W",
        "outputId": "147bf38a-b17e-4ed2-ae07-d0fbb85faffb"
      },
      "source": [
        "df_train"
      ],
      "execution_count": null,
      "outputs": [
        {
          "output_type": "execute_result",
          "data": {
            "text/html": [
              "<div>\n",
              "<style scoped>\n",
              "    .dataframe tbody tr th:only-of-type {\n",
              "        vertical-align: middle;\n",
              "    }\n",
              "\n",
              "    .dataframe tbody tr th {\n",
              "        vertical-align: top;\n",
              "    }\n",
              "\n",
              "    .dataframe thead th {\n",
              "        text-align: right;\n",
              "    }\n",
              "</style>\n",
              "<table border=\"1\" class=\"dataframe\">\n",
              "  <thead>\n",
              "    <tr style=\"text-align: right;\">\n",
              "      <th></th>\n",
              "      <th>Store</th>\n",
              "      <th>DayOfWeek</th>\n",
              "      <th>Date</th>\n",
              "      <th>Sales</th>\n",
              "      <th>Customers</th>\n",
              "      <th>Open</th>\n",
              "      <th>Promo</th>\n",
              "      <th>StateHoliday</th>\n",
              "      <th>SchoolHoliday</th>\n",
              "    </tr>\n",
              "  </thead>\n",
              "  <tbody>\n",
              "    <tr>\n",
              "      <th>329551</th>\n",
              "      <td>731</td>\n",
              "      <td>2</td>\n",
              "      <td>2014-09-23</td>\n",
              "      <td>6933</td>\n",
              "      <td>844</td>\n",
              "      <td>1</td>\n",
              "      <td>0</td>\n",
              "      <td>0</td>\n",
              "      <td>0</td>\n",
              "    </tr>\n",
              "    <tr>\n",
              "      <th>607465</th>\n",
              "      <td>576</td>\n",
              "      <td>5</td>\n",
              "      <td>2014-01-03</td>\n",
              "      <td>5443</td>\n",
              "      <td>887</td>\n",
              "      <td>1</td>\n",
              "      <td>0</td>\n",
              "      <td>0</td>\n",
              "      <td>1</td>\n",
              "    </tr>\n",
              "    <tr>\n",
              "      <th>109865</th>\n",
              "      <td>596</td>\n",
              "      <td>5</td>\n",
              "      <td>2015-04-24</td>\n",
              "      <td>3657</td>\n",
              "      <td>646</td>\n",
              "      <td>1</td>\n",
              "      <td>0</td>\n",
              "      <td>0</td>\n",
              "      <td>0</td>\n",
              "    </tr>\n",
              "    <tr>\n",
              "      <th>457</th>\n",
              "      <td>458</td>\n",
              "      <td>5</td>\n",
              "      <td>2015-07-31</td>\n",
              "      <td>9276</td>\n",
              "      <td>779</td>\n",
              "      <td>1</td>\n",
              "      <td>1</td>\n",
              "      <td>0</td>\n",
              "      <td>1</td>\n",
              "    </tr>\n",
              "    <tr>\n",
              "      <th>419030</th>\n",
              "      <td>576</td>\n",
              "      <td>6</td>\n",
              "      <td>2014-06-21</td>\n",
              "      <td>6073</td>\n",
              "      <td>905</td>\n",
              "      <td>1</td>\n",
              "      <td>0</td>\n",
              "      <td>0</td>\n",
              "      <td>0</td>\n",
              "    </tr>\n",
              "    <tr>\n",
              "      <th>...</th>\n",
              "      <td>...</td>\n",
              "      <td>...</td>\n",
              "      <td>...</td>\n",
              "      <td>...</td>\n",
              "      <td>...</td>\n",
              "      <td>...</td>\n",
              "      <td>...</td>\n",
              "      <td>...</td>\n",
              "      <td>...</td>\n",
              "    </tr>\n",
              "    <tr>\n",
              "      <th>411525</th>\n",
              "      <td>876</td>\n",
              "      <td>6</td>\n",
              "      <td>2014-06-28</td>\n",
              "      <td>2847</td>\n",
              "      <td>343</td>\n",
              "      <td>1</td>\n",
              "      <td>0</td>\n",
              "      <td>0</td>\n",
              "      <td>0</td>\n",
              "    </tr>\n",
              "    <tr>\n",
              "      <th>62865</th>\n",
              "      <td>426</td>\n",
              "      <td>5</td>\n",
              "      <td>2015-06-05</td>\n",
              "      <td>6386</td>\n",
              "      <td>700</td>\n",
              "      <td>1</td>\n",
              "      <td>1</td>\n",
              "      <td>0</td>\n",
              "      <td>0</td>\n",
              "    </tr>\n",
              "    <tr>\n",
              "      <th>123813</th>\n",
              "      <td>49</td>\n",
              "      <td>6</td>\n",
              "      <td>2015-04-11</td>\n",
              "      <td>7352</td>\n",
              "      <td>576</td>\n",
              "      <td>1</td>\n",
              "      <td>0</td>\n",
              "      <td>0</td>\n",
              "      <td>0</td>\n",
              "    </tr>\n",
              "    <tr>\n",
              "      <th>2985</th>\n",
              "      <td>756</td>\n",
              "      <td>3</td>\n",
              "      <td>2015-07-29</td>\n",
              "      <td>16762</td>\n",
              "      <td>2162</td>\n",
              "      <td>1</td>\n",
              "      <td>1</td>\n",
              "      <td>0</td>\n",
              "      <td>1</td>\n",
              "    </tr>\n",
              "    <tr>\n",
              "      <th>613809</th>\n",
              "      <td>230</td>\n",
              "      <td>6</td>\n",
              "      <td>2013-12-28</td>\n",
              "      <td>7307</td>\n",
              "      <td>961</td>\n",
              "      <td>1</td>\n",
              "      <td>0</td>\n",
              "      <td>0</td>\n",
              "      <td>0</td>\n",
              "    </tr>\n",
              "  </tbody>\n",
              "</table>\n",
              "<p>589949 rows × 9 columns</p>\n",
              "</div>"
            ],
            "text/plain": [
              "        Store  DayOfWeek        Date  ...  Promo  StateHoliday  SchoolHoliday\n",
              "329551    731          2  2014-09-23  ...      0             0              0\n",
              "607465    576          5  2014-01-03  ...      0             0              1\n",
              "109865    596          5  2015-04-24  ...      0             0              0\n",
              "457       458          5  2015-07-31  ...      1             0              1\n",
              "419030    576          6  2014-06-21  ...      0             0              0\n",
              "...       ...        ...         ...  ...    ...           ...            ...\n",
              "411525    876          6  2014-06-28  ...      0             0              0\n",
              "62865     426          5  2015-06-05  ...      1             0              0\n",
              "123813     49          6  2015-04-11  ...      0             0              0\n",
              "2985      756          3  2015-07-29  ...      1             0              1\n",
              "613809    230          6  2013-12-28  ...      0             0              0\n",
              "\n",
              "[589949 rows x 9 columns]"
            ]
          },
          "metadata": {
            "tags": []
          },
          "execution_count": 1735
        }
      ]
    },
    {
      "cell_type": "code",
      "metadata": {
        "id": "XHmlf0DybFw1"
      },
      "source": [
        ""
      ],
      "execution_count": null,
      "outputs": []
    },
    {
      "cell_type": "code",
      "metadata": {
        "colab": {
          "base_uri": "https://localhost:8080/"
        },
        "id": "kc3JUNg4Cv1M",
        "outputId": "c00d0a69-470d-402d-81b3-74e3821bc67e"
      },
      "source": [
        "output['Customers'].apply(numpy_isqrt)"
      ],
      "execution_count": null,
      "outputs": [
        {
          "output_type": "execute_result",
          "data": {
            "text/plain": [
              "0         3.010362e-01\n",
              "1         7.668051e-06\n",
              "2         8.437948e-07\n",
              "3         2.281446e-06\n",
              "4         3.370716e-06\n",
              "              ...     \n",
              "305158    7.201448e-07\n",
              "305159    2.486342e-06\n",
              "305160    3.586433e-06\n",
              "305161    2.716484e-06\n",
              "305162    3.091862e-06\n",
              "Name: Customers, Length: 305163, dtype: float64"
            ]
          },
          "metadata": {
            "tags": []
          },
          "execution_count": 314
        }
      ]
    },
    {
      "cell_type": "code",
      "metadata": {
        "colab": {
          "base_uri": "https://localhost:8080/",
          "height": 128
        },
        "id": "gLzZ_EkyDaZd",
        "outputId": "752f2d67-3fce-4c12-d711-36239284ee4c"
      },
      "source": [
        "df_test['Customers'] = np.floor(np.expm1(xgb_pipe.predict(df_test)))"
      ],
      "execution_count": null,
      "outputs": [
        {
          "output_type": "error",
          "ename": "SyntaxError",
          "evalue": "ignored",
          "traceback": [
            "\u001b[0;36m  File \u001b[0;32m\"<ipython-input-104-9e32c92a722c>\"\u001b[0;36m, line \u001b[0;32m1\u001b[0m\n\u001b[0;31m    df_test['Customers'] = np.floor(np.expm1(xgb_pipe.predict(df_test)))b\u001b[0m\n\u001b[0m                                                                        ^\u001b[0m\n\u001b[0;31mSyntaxError\u001b[0m\u001b[0;31m:\u001b[0m invalid syntax\n"
          ]
        }
      ]
    },
    {
      "cell_type": "code",
      "metadata": {
        "colab": {
          "base_uri": "https://localhost:8080/",
          "height": 402
        },
        "id": "q1frVLorUwLy",
        "outputId": "3180a507-8e38-4bcc-c115-0717d82a6cfe"
      },
      "source": [
        "df_train[df_train['Open']==0]"
      ],
      "execution_count": null,
      "outputs": [
        {
          "output_type": "execute_result",
          "data": {
            "text/html": [
              "<div>\n",
              "<style scoped>\n",
              "    .dataframe tbody tr th:only-of-type {\n",
              "        vertical-align: middle;\n",
              "    }\n",
              "\n",
              "    .dataframe tbody tr th {\n",
              "        vertical-align: top;\n",
              "    }\n",
              "\n",
              "    .dataframe thead th {\n",
              "        text-align: right;\n",
              "    }\n",
              "</style>\n",
              "<table border=\"1\" class=\"dataframe\">\n",
              "  <thead>\n",
              "    <tr style=\"text-align: right;\">\n",
              "      <th></th>\n",
              "      <th>Store</th>\n",
              "      <th>DayOfWeek</th>\n",
              "      <th>Date</th>\n",
              "      <th>Sales</th>\n",
              "      <th>Customers</th>\n",
              "      <th>Open</th>\n",
              "      <th>Promo</th>\n",
              "      <th>StateHoliday</th>\n",
              "      <th>SchoolHoliday</th>\n",
              "    </tr>\n",
              "  </thead>\n",
              "  <tbody>\n",
              "    <tr>\n",
              "      <th>291</th>\n",
              "      <td>292</td>\n",
              "      <td>5</td>\n",
              "      <td>2015-07-31</td>\n",
              "      <td>0</td>\n",
              "      <td>0</td>\n",
              "      <td>0</td>\n",
              "      <td>1</td>\n",
              "      <td>0</td>\n",
              "      <td>1</td>\n",
              "    </tr>\n",
              "    <tr>\n",
              "      <th>875</th>\n",
              "      <td>876</td>\n",
              "      <td>5</td>\n",
              "      <td>2015-07-31</td>\n",
              "      <td>0</td>\n",
              "      <td>0</td>\n",
              "      <td>0</td>\n",
              "      <td>1</td>\n",
              "      <td>0</td>\n",
              "      <td>1</td>\n",
              "    </tr>\n",
              "    <tr>\n",
              "      <th>1406</th>\n",
              "      <td>292</td>\n",
              "      <td>4</td>\n",
              "      <td>2015-07-30</td>\n",
              "      <td>0</td>\n",
              "      <td>0</td>\n",
              "      <td>0</td>\n",
              "      <td>1</td>\n",
              "      <td>0</td>\n",
              "      <td>1</td>\n",
              "    </tr>\n",
              "    <tr>\n",
              "      <th>1990</th>\n",
              "      <td>876</td>\n",
              "      <td>4</td>\n",
              "      <td>2015-07-30</td>\n",
              "      <td>0</td>\n",
              "      <td>0</td>\n",
              "      <td>0</td>\n",
              "      <td>1</td>\n",
              "      <td>0</td>\n",
              "      <td>1</td>\n",
              "    </tr>\n",
              "    <tr>\n",
              "      <th>2521</th>\n",
              "      <td>292</td>\n",
              "      <td>3</td>\n",
              "      <td>2015-07-29</td>\n",
              "      <td>0</td>\n",
              "      <td>0</td>\n",
              "      <td>0</td>\n",
              "      <td>1</td>\n",
              "      <td>0</td>\n",
              "      <td>1</td>\n",
              "    </tr>\n",
              "    <tr>\n",
              "      <th>...</th>\n",
              "      <td>...</td>\n",
              "      <td>...</td>\n",
              "      <td>...</td>\n",
              "      <td>...</td>\n",
              "      <td>...</td>\n",
              "      <td>...</td>\n",
              "      <td>...</td>\n",
              "      <td>...</td>\n",
              "      <td>...</td>\n",
              "    </tr>\n",
              "    <tr>\n",
              "      <th>710580</th>\n",
              "      <td>1111</td>\n",
              "      <td>4</td>\n",
              "      <td>2013-10-03</td>\n",
              "      <td>0</td>\n",
              "      <td>0</td>\n",
              "      <td>0</td>\n",
              "      <td>0</td>\n",
              "      <td>a</td>\n",
              "      <td>0</td>\n",
              "    </tr>\n",
              "    <tr>\n",
              "      <th>710581</th>\n",
              "      <td>1112</td>\n",
              "      <td>4</td>\n",
              "      <td>2013-10-03</td>\n",
              "      <td>0</td>\n",
              "      <td>0</td>\n",
              "      <td>0</td>\n",
              "      <td>0</td>\n",
              "      <td>a</td>\n",
              "      <td>0</td>\n",
              "    </tr>\n",
              "    <tr>\n",
              "      <th>710582</th>\n",
              "      <td>1113</td>\n",
              "      <td>4</td>\n",
              "      <td>2013-10-03</td>\n",
              "      <td>0</td>\n",
              "      <td>0</td>\n",
              "      <td>0</td>\n",
              "      <td>0</td>\n",
              "      <td>a</td>\n",
              "      <td>0</td>\n",
              "    </tr>\n",
              "    <tr>\n",
              "      <th>710583</th>\n",
              "      <td>1114</td>\n",
              "      <td>4</td>\n",
              "      <td>2013-10-03</td>\n",
              "      <td>0</td>\n",
              "      <td>0</td>\n",
              "      <td>0</td>\n",
              "      <td>0</td>\n",
              "      <td>a</td>\n",
              "      <td>1</td>\n",
              "    </tr>\n",
              "    <tr>\n",
              "      <th>710584</th>\n",
              "      <td>1115</td>\n",
              "      <td>4</td>\n",
              "      <td>2013-10-03</td>\n",
              "      <td>0</td>\n",
              "      <td>0</td>\n",
              "      <td>0</td>\n",
              "      <td>0</td>\n",
              "      <td>a</td>\n",
              "      <td>0</td>\n",
              "    </tr>\n",
              "  </tbody>\n",
              "</table>\n",
              "<p>122063 rows × 9 columns</p>\n",
              "</div>"
            ],
            "text/plain": [
              "        Store  DayOfWeek        Date  ...  Promo  StateHoliday  SchoolHoliday\n",
              "291       292          5  2015-07-31  ...      1             0              1\n",
              "875       876          5  2015-07-31  ...      1             0              1\n",
              "1406      292          4  2015-07-30  ...      1             0              1\n",
              "1990      876          4  2015-07-30  ...      1             0              1\n",
              "2521      292          3  2015-07-29  ...      1             0              1\n",
              "...       ...        ...         ...  ...    ...           ...            ...\n",
              "710580   1111          4  2013-10-03  ...      0             a              0\n",
              "710581   1112          4  2013-10-03  ...      0             a              0\n",
              "710582   1113          4  2013-10-03  ...      0             a              0\n",
              "710583   1114          4  2013-10-03  ...      0             a              1\n",
              "710584   1115          4  2013-10-03  ...      0             a              0\n",
              "\n",
              "[122063 rows x 9 columns]"
            ]
          },
          "metadata": {
            "tags": []
          },
          "execution_count": 109
        }
      ]
    },
    {
      "cell_type": "code",
      "metadata": {
        "colab": {
          "base_uri": "https://localhost:8080/",
          "height": 422
        },
        "id": "qh83AsJCUdZ7",
        "outputId": "d439a3f1-6150-4ae2-c283-c440af073045"
      },
      "source": [
        "df_test[df_test['Open'] == 0]"
      ],
      "execution_count": null,
      "outputs": [
        {
          "output_type": "execute_result",
          "data": {
            "text/html": [
              "<div>\n",
              "<style scoped>\n",
              "    .dataframe tbody tr th:only-of-type {\n",
              "        vertical-align: middle;\n",
              "    }\n",
              "\n",
              "    .dataframe tbody tr th {\n",
              "        vertical-align: top;\n",
              "    }\n",
              "\n",
              "    .dataframe thead th {\n",
              "        text-align: right;\n",
              "    }\n",
              "</style>\n",
              "<table border=\"1\" class=\"dataframe\">\n",
              "  <thead>\n",
              "    <tr style=\"text-align: right;\">\n",
              "      <th></th>\n",
              "      <th>Store</th>\n",
              "      <th>Open</th>\n",
              "      <th>Promo</th>\n",
              "      <th>StateHoliday</th>\n",
              "      <th>SchoolHoliday</th>\n",
              "      <th>Year</th>\n",
              "      <th>Month</th>\n",
              "      <th>Day</th>\n",
              "      <th>Customers</th>\n",
              "    </tr>\n",
              "  </thead>\n",
              "  <tbody>\n",
              "    <tr>\n",
              "      <th>0</th>\n",
              "      <td>767</td>\n",
              "      <td>0</td>\n",
              "      <td>0</td>\n",
              "      <td>1</td>\n",
              "      <td>1</td>\n",
              "      <td>2013</td>\n",
              "      <td>4</td>\n",
              "      <td>1</td>\n",
              "      <td>0.0</td>\n",
              "    </tr>\n",
              "    <tr>\n",
              "      <th>5</th>\n",
              "      <td>402</td>\n",
              "      <td>0</td>\n",
              "      <td>0</td>\n",
              "      <td>0</td>\n",
              "      <td>0</td>\n",
              "      <td>2013</td>\n",
              "      <td>2</td>\n",
              "      <td>17</td>\n",
              "      <td>0.0</td>\n",
              "    </tr>\n",
              "    <tr>\n",
              "      <th>7</th>\n",
              "      <td>255</td>\n",
              "      <td>0</td>\n",
              "      <td>0</td>\n",
              "      <td>0</td>\n",
              "      <td>0</td>\n",
              "      <td>2013</td>\n",
              "      <td>4</td>\n",
              "      <td>14</td>\n",
              "      <td>0.0</td>\n",
              "    </tr>\n",
              "    <tr>\n",
              "      <th>22</th>\n",
              "      <td>137</td>\n",
              "      <td>0</td>\n",
              "      <td>0</td>\n",
              "      <td>0</td>\n",
              "      <td>0</td>\n",
              "      <td>2013</td>\n",
              "      <td>4</td>\n",
              "      <td>14</td>\n",
              "      <td>0.0</td>\n",
              "    </tr>\n",
              "    <tr>\n",
              "      <th>29</th>\n",
              "      <td>22</td>\n",
              "      <td>0</td>\n",
              "      <td>0</td>\n",
              "      <td>0</td>\n",
              "      <td>0</td>\n",
              "      <td>2013</td>\n",
              "      <td>4</td>\n",
              "      <td>14</td>\n",
              "      <td>0.0</td>\n",
              "    </tr>\n",
              "    <tr>\n",
              "      <th>...</th>\n",
              "      <td>...</td>\n",
              "      <td>...</td>\n",
              "      <td>...</td>\n",
              "      <td>...</td>\n",
              "      <td>...</td>\n",
              "      <td>...</td>\n",
              "      <td>...</td>\n",
              "      <td>...</td>\n",
              "      <td>...</td>\n",
              "    </tr>\n",
              "    <tr>\n",
              "      <th>305106</th>\n",
              "      <td>213</td>\n",
              "      <td>0</td>\n",
              "      <td>0</td>\n",
              "      <td>0</td>\n",
              "      <td>0</td>\n",
              "      <td>2013</td>\n",
              "      <td>1</td>\n",
              "      <td>27</td>\n",
              "      <td>0.0</td>\n",
              "    </tr>\n",
              "    <tr>\n",
              "      <th>305115</th>\n",
              "      <td>320</td>\n",
              "      <td>0</td>\n",
              "      <td>0</td>\n",
              "      <td>0</td>\n",
              "      <td>0</td>\n",
              "      <td>2013</td>\n",
              "      <td>4</td>\n",
              "      <td>7</td>\n",
              "      <td>0.0</td>\n",
              "    </tr>\n",
              "    <tr>\n",
              "      <th>305128</th>\n",
              "      <td>915</td>\n",
              "      <td>0</td>\n",
              "      <td>0</td>\n",
              "      <td>0</td>\n",
              "      <td>0</td>\n",
              "      <td>2013</td>\n",
              "      <td>3</td>\n",
              "      <td>17</td>\n",
              "      <td>0.0</td>\n",
              "    </tr>\n",
              "    <tr>\n",
              "      <th>305138</th>\n",
              "      <td>857</td>\n",
              "      <td>0</td>\n",
              "      <td>0</td>\n",
              "      <td>0</td>\n",
              "      <td>0</td>\n",
              "      <td>2013</td>\n",
              "      <td>1</td>\n",
              "      <td>20</td>\n",
              "      <td>0.0</td>\n",
              "    </tr>\n",
              "    <tr>\n",
              "      <th>305157</th>\n",
              "      <td>219</td>\n",
              "      <td>0</td>\n",
              "      <td>0</td>\n",
              "      <td>0</td>\n",
              "      <td>0</td>\n",
              "      <td>2013</td>\n",
              "      <td>4</td>\n",
              "      <td>28</td>\n",
              "      <td>0.0</td>\n",
              "    </tr>\n",
              "  </tbody>\n",
              "</table>\n",
              "<p>50754 rows × 9 columns</p>\n",
              "</div>"
            ],
            "text/plain": [
              "        Store  Open  Promo  StateHoliday  ...  Year  Month  Day  Customers\n",
              "0         767     0      0             1  ...  2013      4    1        0.0\n",
              "5         402     0      0             0  ...  2013      2   17        0.0\n",
              "7         255     0      0             0  ...  2013      4   14        0.0\n",
              "22        137     0      0             0  ...  2013      4   14        0.0\n",
              "29         22     0      0             0  ...  2013      4   14        0.0\n",
              "...       ...   ...    ...           ...  ...   ...    ...  ...        ...\n",
              "305106    213     0      0             0  ...  2013      1   27        0.0\n",
              "305115    320     0      0             0  ...  2013      4    7        0.0\n",
              "305128    915     0      0             0  ...  2013      3   17        0.0\n",
              "305138    857     0      0             0  ...  2013      1   20        0.0\n",
              "305157    219     0      0             0  ...  2013      4   28        0.0\n",
              "\n",
              "[50754 rows x 9 columns]"
            ]
          },
          "metadata": {
            "tags": []
          },
          "execution_count": 110
        }
      ]
    },
    {
      "cell_type": "code",
      "metadata": {
        "id": "1MwjTkRx9HeC"
      },
      "source": [
        "df_test.to_csv('custom_df_test.csv', index = False)"
      ],
      "execution_count": null,
      "outputs": []
    },
    {
      "cell_type": "code",
      "metadata": {
        "id": "2vuvdV8Q9HeC"
      },
      "source": [
        "mysub= pd.read_csv('customers.csv')"
      ],
      "execution_count": null,
      "outputs": []
    },
    {
      "cell_type": "code",
      "metadata": {
        "colab": {
          "base_uri": "https://localhost:8080/",
          "height": 402
        },
        "id": "Hn6YM4609HeC",
        "outputId": "08a8518e-bf6a-4f5e-e118-cdd3cead7f53"
      },
      "source": [
        "mysub"
      ],
      "execution_count": null,
      "outputs": [
        {
          "output_type": "execute_result",
          "data": {
            "text/html": [
              "<div>\n",
              "<style scoped>\n",
              "    .dataframe tbody tr th:only-of-type {\n",
              "        vertical-align: middle;\n",
              "    }\n",
              "\n",
              "    .dataframe tbody tr th {\n",
              "        vertical-align: top;\n",
              "    }\n",
              "\n",
              "    .dataframe thead th {\n",
              "        text-align: right;\n",
              "    }\n",
              "</style>\n",
              "<table border=\"1\" class=\"dataframe\">\n",
              "  <thead>\n",
              "    <tr style=\"text-align: right;\">\n",
              "      <th></th>\n",
              "      <th>Index</th>\n",
              "      <th>Customers</th>\n",
              "    </tr>\n",
              "  </thead>\n",
              "  <tbody>\n",
              "    <tr>\n",
              "      <th>0</th>\n",
              "      <td>0</td>\n",
              "      <td>0.0</td>\n",
              "    </tr>\n",
              "    <tr>\n",
              "      <th>1</th>\n",
              "      <td>1</td>\n",
              "      <td>516.0</td>\n",
              "    </tr>\n",
              "    <tr>\n",
              "      <th>2</th>\n",
              "      <td>2</td>\n",
              "      <td>748.0</td>\n",
              "    </tr>\n",
              "    <tr>\n",
              "      <th>3</th>\n",
              "      <td>3</td>\n",
              "      <td>625.0</td>\n",
              "    </tr>\n",
              "    <tr>\n",
              "      <th>4</th>\n",
              "      <td>4</td>\n",
              "      <td>595.0</td>\n",
              "    </tr>\n",
              "    <tr>\n",
              "      <th>...</th>\n",
              "      <td>...</td>\n",
              "      <td>...</td>\n",
              "    </tr>\n",
              "    <tr>\n",
              "      <th>305158</th>\n",
              "      <td>305158</td>\n",
              "      <td>745.0</td>\n",
              "    </tr>\n",
              "    <tr>\n",
              "      <th>305159</th>\n",
              "      <td>305159</td>\n",
              "      <td>619.0</td>\n",
              "    </tr>\n",
              "    <tr>\n",
              "      <th>305160</th>\n",
              "      <td>305160</td>\n",
              "      <td>584.0</td>\n",
              "    </tr>\n",
              "    <tr>\n",
              "      <th>305161</th>\n",
              "      <td>305161</td>\n",
              "      <td>612.0</td>\n",
              "    </tr>\n",
              "    <tr>\n",
              "      <th>305162</th>\n",
              "      <td>305162</td>\n",
              "      <td>593.0</td>\n",
              "    </tr>\n",
              "  </tbody>\n",
              "</table>\n",
              "<p>305163 rows × 2 columns</p>\n",
              "</div>"
            ],
            "text/plain": [
              "         Index  Customers\n",
              "0            0        0.0\n",
              "1            1      516.0\n",
              "2            2      748.0\n",
              "3            3      625.0\n",
              "4            4      595.0\n",
              "...        ...        ...\n",
              "305158  305158      745.0\n",
              "305159  305159      619.0\n",
              "305160  305160      584.0\n",
              "305161  305161      612.0\n",
              "305162  305162      593.0\n",
              "\n",
              "[305163 rows x 2 columns]"
            ]
          },
          "metadata": {
            "tags": []
          },
          "execution_count": 388
        }
      ]
    },
    {
      "cell_type": "code",
      "metadata": {
        "id": "lwcNo_RBDjsP"
      },
      "source": [
        ""
      ],
      "execution_count": null,
      "outputs": []
    }
  ]
}