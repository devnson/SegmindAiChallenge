{
 "cells": [
  {
   "cell_type": "code",
   "execution_count": 1,
   "metadata": {
    "id": "Cid2PmLiD8Pg"
   },
   "outputs": [],
   "source": [
    "import warnings\n",
    "warnings.simplefilter(action='ignore', category=FutureWarning)\n",
    "\n",
    "import pandas as pd\n",
    "import numpy as np\n",
    "\n",
    "import seaborn as sns\n",
    "sns.set_style('darkgrid')\n",
    "import matplotlib.pyplot as plt\n",
    "%matplotlib inline"
   ]
  },
  {
   "cell_type": "code",
   "execution_count": 2,
   "metadata": {
    "colab": {
     "base_uri": "https://localhost:8080/"
    },
    "id": "Mi1a56iwD8Pm",
    "outputId": "e5b881dd-2e3a-439c-d590-a70797d9372d",
    "scrolled": true
   },
   "outputs": [
    {
     "name": "stderr",
     "output_type": "stream",
     "text": [
      "C:\\Users\\basto\\anaconda3\\envs\\tfgpu\\lib\\site-packages\\IPython\\core\\interactiveshell.py:3145: DtypeWarning: Columns (7) have mixed types.Specify dtype option on import or set low_memory=False.\n",
      "  has_raised = await self.run_ast_nodes(code_ast.body, cell_name,\n"
     ]
    }
   ],
   "source": [
    "path = \"E:/Hackathon/SegmindAIChallenge/dataset/\"\n",
    "df_train = pd.read_csv(path + 'TRAIN.csv')\n",
    "df_test = pd.read_csv(path + 'custom_df_test.csv')\n"
   ]
  },
  {
   "cell_type": "code",
   "execution_count": null,
   "metadata": {
    "id": "f9GofBu1EZQ1"
   },
   "outputs": [],
   "source": []
  },
  {
   "cell_type": "code",
   "execution_count": 3,
   "metadata": {
    "colab": {
     "base_uri": "https://localhost:8080/",
     "height": 402
    },
    "id": "hLkpm0hBElUZ",
    "outputId": "67bb4208-9ffc-417a-bfb3-22728d696228"
   },
   "outputs": [
    {
     "data": {
      "text/html": [
       "<div>\n",
       "<style scoped>\n",
       "    .dataframe tbody tr th:only-of-type {\n",
       "        vertical-align: middle;\n",
       "    }\n",
       "\n",
       "    .dataframe tbody tr th {\n",
       "        vertical-align: top;\n",
       "    }\n",
       "\n",
       "    .dataframe thead th {\n",
       "        text-align: right;\n",
       "    }\n",
       "</style>\n",
       "<table border=\"1\" class=\"dataframe\">\n",
       "  <thead>\n",
       "    <tr style=\"text-align: right;\">\n",
       "      <th></th>\n",
       "      <th>Store</th>\n",
       "      <th>DayOfWeek</th>\n",
       "      <th>Date</th>\n",
       "      <th>Sales</th>\n",
       "      <th>Customers</th>\n",
       "      <th>Open</th>\n",
       "      <th>Promo</th>\n",
       "      <th>StateHoliday</th>\n",
       "      <th>SchoolHoliday</th>\n",
       "    </tr>\n",
       "  </thead>\n",
       "  <tbody>\n",
       "    <tr>\n",
       "      <th>0</th>\n",
       "      <td>1</td>\n",
       "      <td>5</td>\n",
       "      <td>2015-07-31</td>\n",
       "      <td>5263</td>\n",
       "      <td>555</td>\n",
       "      <td>1</td>\n",
       "      <td>1</td>\n",
       "      <td>0</td>\n",
       "      <td>1</td>\n",
       "    </tr>\n",
       "    <tr>\n",
       "      <th>1</th>\n",
       "      <td>2</td>\n",
       "      <td>5</td>\n",
       "      <td>2015-07-31</td>\n",
       "      <td>6064</td>\n",
       "      <td>625</td>\n",
       "      <td>1</td>\n",
       "      <td>1</td>\n",
       "      <td>0</td>\n",
       "      <td>1</td>\n",
       "    </tr>\n",
       "    <tr>\n",
       "      <th>2</th>\n",
       "      <td>3</td>\n",
       "      <td>5</td>\n",
       "      <td>2015-07-31</td>\n",
       "      <td>8314</td>\n",
       "      <td>821</td>\n",
       "      <td>1</td>\n",
       "      <td>1</td>\n",
       "      <td>0</td>\n",
       "      <td>1</td>\n",
       "    </tr>\n",
       "    <tr>\n",
       "      <th>3</th>\n",
       "      <td>4</td>\n",
       "      <td>5</td>\n",
       "      <td>2015-07-31</td>\n",
       "      <td>13995</td>\n",
       "      <td>1498</td>\n",
       "      <td>1</td>\n",
       "      <td>1</td>\n",
       "      <td>0</td>\n",
       "      <td>1</td>\n",
       "    </tr>\n",
       "    <tr>\n",
       "      <th>4</th>\n",
       "      <td>5</td>\n",
       "      <td>5</td>\n",
       "      <td>2015-07-31</td>\n",
       "      <td>4822</td>\n",
       "      <td>559</td>\n",
       "      <td>1</td>\n",
       "      <td>1</td>\n",
       "      <td>0</td>\n",
       "      <td>1</td>\n",
       "    </tr>\n",
       "    <tr>\n",
       "      <th>...</th>\n",
       "      <td>...</td>\n",
       "      <td>...</td>\n",
       "      <td>...</td>\n",
       "      <td>...</td>\n",
       "      <td>...</td>\n",
       "      <td>...</td>\n",
       "      <td>...</td>\n",
       "      <td>...</td>\n",
       "      <td>...</td>\n",
       "    </tr>\n",
       "    <tr>\n",
       "      <th>712041</th>\n",
       "      <td>342</td>\n",
       "      <td>2</td>\n",
       "      <td>2013-10-01</td>\n",
       "      <td>10182</td>\n",
       "      <td>836</td>\n",
       "      <td>1</td>\n",
       "      <td>0</td>\n",
       "      <td>0</td>\n",
       "      <td>0</td>\n",
       "    </tr>\n",
       "    <tr>\n",
       "      <th>712042</th>\n",
       "      <td>343</td>\n",
       "      <td>2</td>\n",
       "      <td>2013-10-01</td>\n",
       "      <td>5352</td>\n",
       "      <td>588</td>\n",
       "      <td>1</td>\n",
       "      <td>0</td>\n",
       "      <td>0</td>\n",
       "      <td>0</td>\n",
       "    </tr>\n",
       "    <tr>\n",
       "      <th>712043</th>\n",
       "      <td>344</td>\n",
       "      <td>2</td>\n",
       "      <td>2013-10-01</td>\n",
       "      <td>6652</td>\n",
       "      <td>1043</td>\n",
       "      <td>1</td>\n",
       "      <td>0</td>\n",
       "      <td>0</td>\n",
       "      <td>1</td>\n",
       "    </tr>\n",
       "    <tr>\n",
       "      <th>712044</th>\n",
       "      <td>345</td>\n",
       "      <td>2</td>\n",
       "      <td>2013-10-01</td>\n",
       "      <td>3842</td>\n",
       "      <td>475</td>\n",
       "      <td>1</td>\n",
       "      <td>0</td>\n",
       "      <td>0</td>\n",
       "      <td>0</td>\n",
       "    </tr>\n",
       "    <tr>\n",
       "      <th>712045</th>\n",
       "      <td>346</td>\n",
       "      <td>2</td>\n",
       "      <td>2013-10-01</td>\n",
       "      <td>6143</td>\n",
       "      <td>599</td>\n",
       "      <td>1</td>\n",
       "      <td>0</td>\n",
       "      <td>0</td>\n",
       "      <td>0</td>\n",
       "    </tr>\n",
       "  </tbody>\n",
       "</table>\n",
       "<p>712046 rows × 9 columns</p>\n",
       "</div>"
      ],
      "text/plain": [
       "        Store  DayOfWeek        Date  Sales  Customers  Open  Promo  \\\n",
       "0           1          5  2015-07-31   5263        555     1      1   \n",
       "1           2          5  2015-07-31   6064        625     1      1   \n",
       "2           3          5  2015-07-31   8314        821     1      1   \n",
       "3           4          5  2015-07-31  13995       1498     1      1   \n",
       "4           5          5  2015-07-31   4822        559     1      1   \n",
       "...       ...        ...         ...    ...        ...   ...    ...   \n",
       "712041    342          2  2013-10-01  10182        836     1      0   \n",
       "712042    343          2  2013-10-01   5352        588     1      0   \n",
       "712043    344          2  2013-10-01   6652       1043     1      0   \n",
       "712044    345          2  2013-10-01   3842        475     1      0   \n",
       "712045    346          2  2013-10-01   6143        599     1      0   \n",
       "\n",
       "       StateHoliday  SchoolHoliday  \n",
       "0                 0              1  \n",
       "1                 0              1  \n",
       "2                 0              1  \n",
       "3                 0              1  \n",
       "4                 0              1  \n",
       "...             ...            ...  \n",
       "712041            0              0  \n",
       "712042            0              0  \n",
       "712043            0              1  \n",
       "712044            0              0  \n",
       "712045            0              0  \n",
       "\n",
       "[712046 rows x 9 columns]"
      ]
     },
     "execution_count": 3,
     "metadata": {},
     "output_type": "execute_result"
    }
   ],
   "source": [
    "df_train"
   ]
  },
  {
   "cell_type": "code",
   "execution_count": 4,
   "metadata": {
    "colab": {
     "base_uri": "https://localhost:8080/",
     "height": 402
    },
    "id": "A3TGEAVdD8Pn",
    "outputId": "8e234740-fa26-453e-cf87-8adc96c4db42"
   },
   "outputs": [
    {
     "data": {
      "text/html": [
       "<div>\n",
       "<style scoped>\n",
       "    .dataframe tbody tr th:only-of-type {\n",
       "        vertical-align: middle;\n",
       "    }\n",
       "\n",
       "    .dataframe tbody tr th {\n",
       "        vertical-align: top;\n",
       "    }\n",
       "\n",
       "    .dataframe thead th {\n",
       "        text-align: right;\n",
       "    }\n",
       "</style>\n",
       "<table border=\"1\" class=\"dataframe\">\n",
       "  <thead>\n",
       "    <tr style=\"text-align: right;\">\n",
       "      <th></th>\n",
       "      <th>Store</th>\n",
       "      <th>Open</th>\n",
       "      <th>Promo</th>\n",
       "      <th>SchoolHoliday</th>\n",
       "      <th>Year</th>\n",
       "      <th>Month</th>\n",
       "      <th>Day</th>\n",
       "      <th>Customers</th>\n",
       "    </tr>\n",
       "  </thead>\n",
       "  <tbody>\n",
       "    <tr>\n",
       "      <th>0</th>\n",
       "      <td>767</td>\n",
       "      <td>0</td>\n",
       "      <td>0</td>\n",
       "      <td>1</td>\n",
       "      <td>2013</td>\n",
       "      <td>4</td>\n",
       "      <td>1</td>\n",
       "      <td>0.0</td>\n",
       "    </tr>\n",
       "    <tr>\n",
       "      <th>1</th>\n",
       "      <td>1111</td>\n",
       "      <td>1</td>\n",
       "      <td>0</td>\n",
       "      <td>0</td>\n",
       "      <td>2013</td>\n",
       "      <td>3</td>\n",
       "      <td>16</td>\n",
       "      <td>484.0</td>\n",
       "    </tr>\n",
       "    <tr>\n",
       "      <th>2</th>\n",
       "      <td>45</td>\n",
       "      <td>1</td>\n",
       "      <td>1</td>\n",
       "      <td>1</td>\n",
       "      <td>2013</td>\n",
       "      <td>8</td>\n",
       "      <td>1</td>\n",
       "      <td>729.0</td>\n",
       "    </tr>\n",
       "    <tr>\n",
       "      <th>3</th>\n",
       "      <td>500</td>\n",
       "      <td>1</td>\n",
       "      <td>0</td>\n",
       "      <td>1</td>\n",
       "      <td>2013</td>\n",
       "      <td>5</td>\n",
       "      <td>23</td>\n",
       "      <td>662.0</td>\n",
       "    </tr>\n",
       "    <tr>\n",
       "      <th>4</th>\n",
       "      <td>82</td>\n",
       "      <td>1</td>\n",
       "      <td>0</td>\n",
       "      <td>1</td>\n",
       "      <td>2013</td>\n",
       "      <td>8</td>\n",
       "      <td>6</td>\n",
       "      <td>619.0</td>\n",
       "    </tr>\n",
       "    <tr>\n",
       "      <th>...</th>\n",
       "      <td>...</td>\n",
       "      <td>...</td>\n",
       "      <td>...</td>\n",
       "      <td>...</td>\n",
       "      <td>...</td>\n",
       "      <td>...</td>\n",
       "      <td>...</td>\n",
       "      <td>...</td>\n",
       "    </tr>\n",
       "    <tr>\n",
       "      <th>305158</th>\n",
       "      <td>412</td>\n",
       "      <td>1</td>\n",
       "      <td>1</td>\n",
       "      <td>1</td>\n",
       "      <td>2013</td>\n",
       "      <td>5</td>\n",
       "      <td>28</td>\n",
       "      <td>775.0</td>\n",
       "    </tr>\n",
       "    <tr>\n",
       "      <th>305159</th>\n",
       "      <td>936</td>\n",
       "      <td>1</td>\n",
       "      <td>0</td>\n",
       "      <td>0</td>\n",
       "      <td>2013</td>\n",
       "      <td>3</td>\n",
       "      <td>2</td>\n",
       "      <td>644.0</td>\n",
       "    </tr>\n",
       "    <tr>\n",
       "      <th>305160</th>\n",
       "      <td>21</td>\n",
       "      <td>1</td>\n",
       "      <td>0</td>\n",
       "      <td>0</td>\n",
       "      <td>2013</td>\n",
       "      <td>9</td>\n",
       "      <td>16</td>\n",
       "      <td>581.0</td>\n",
       "    </tr>\n",
       "    <tr>\n",
       "      <th>305161</th>\n",
       "      <td>1077</td>\n",
       "      <td>1</td>\n",
       "      <td>0</td>\n",
       "      <td>0</td>\n",
       "      <td>2013</td>\n",
       "      <td>6</td>\n",
       "      <td>22</td>\n",
       "      <td>627.0</td>\n",
       "    </tr>\n",
       "    <tr>\n",
       "      <th>305162</th>\n",
       "      <td>321</td>\n",
       "      <td>1</td>\n",
       "      <td>0</td>\n",
       "      <td>0</td>\n",
       "      <td>2013</td>\n",
       "      <td>9</td>\n",
       "      <td>7</td>\n",
       "      <td>588.0</td>\n",
       "    </tr>\n",
       "  </tbody>\n",
       "</table>\n",
       "<p>305163 rows × 8 columns</p>\n",
       "</div>"
      ],
      "text/plain": [
       "        Store  Open  Promo  SchoolHoliday  Year  Month  Day  Customers\n",
       "0         767     0      0              1  2013      4    1        0.0\n",
       "1        1111     1      0              0  2013      3   16      484.0\n",
       "2          45     1      1              1  2013      8    1      729.0\n",
       "3         500     1      0              1  2013      5   23      662.0\n",
       "4          82     1      0              1  2013      8    6      619.0\n",
       "...       ...   ...    ...            ...   ...    ...  ...        ...\n",
       "305158    412     1      1              1  2013      5   28      775.0\n",
       "305159    936     1      0              0  2013      3    2      644.0\n",
       "305160     21     1      0              0  2013      9   16      581.0\n",
       "305161   1077     1      0              0  2013      6   22      627.0\n",
       "305162    321     1      0              0  2013      9    7      588.0\n",
       "\n",
       "[305163 rows x 8 columns]"
      ]
     },
     "execution_count": 4,
     "metadata": {},
     "output_type": "execute_result"
    }
   ],
   "source": [
    "df_test"
   ]
  },
  {
   "cell_type": "code",
   "execution_count": null,
   "metadata": {
    "id": "tWeAyJHLD8Po"
   },
   "outputs": [],
   "source": []
  },
  {
   "cell_type": "markdown",
   "metadata": {
    "id": "BwKjQK41D8Pp"
   },
   "source": [
    "## Reduce 0's from trainset"
   ]
  },
  {
   "cell_type": "code",
   "execution_count": 5,
   "metadata": {
    "colab": {
     "base_uri": "https://localhost:8080/"
    },
    "id": "UjS8cjynD8Pp",
    "outputId": "46658af3-1d85-45e4-bb47-3cb20cd0d61a"
   },
   "outputs": [
    {
     "data": {
      "text/plain": [
       "0        122098\n",
       "5674        163\n",
       "5697        142\n",
       "5723        142\n",
       "6214        141\n",
       "          ...  \n",
       "770           1\n",
       "19912         1\n",
       "20623         1\n",
       "18699         1\n",
       "19737         1\n",
       "Name: Sales, Length: 20727, dtype: int64"
      ]
     },
     "execution_count": 5,
     "metadata": {},
     "output_type": "execute_result"
    }
   ],
   "source": [
    "# Reduce huge number of 0's in df_train\n",
    "\n",
    "df_train['Sales'].value_counts()"
   ]
  },
  {
   "cell_type": "code",
   "execution_count": 6,
   "metadata": {
    "id": "slmFag7HD8Pq"
   },
   "outputs": [],
   "source": [
    "df_train = df_train.sample(frac = 1)"
   ]
  },
  {
   "cell_type": "code",
   "execution_count": 7,
   "metadata": {
    "id": "4kKyG-WWD8Pq"
   },
   "outputs": [],
   "source": [
    "#filterzeros = df_train[df_train['Sales'] == 0][:100]"
   ]
  },
  {
   "cell_type": "code",
   "execution_count": 8,
   "metadata": {
    "id": "cepYPWfAD8Pr"
   },
   "outputs": [],
   "source": [
    "#filterzeros['Sales'].value_counts()"
   ]
  },
  {
   "cell_type": "code",
   "execution_count": 9,
   "metadata": {
    "id": "Pp-f04gQD8Pr"
   },
   "outputs": [],
   "source": [
    "#df_train = df_train[df_train['Sales']!=0]"
   ]
  },
  {
   "cell_type": "code",
   "execution_count": 10,
   "metadata": {
    "id": "y8SeFgyBD8Ps"
   },
   "outputs": [],
   "source": [
    "#xdf = pd.concat([df_train, filterzeros])"
   ]
  },
  {
   "cell_type": "code",
   "execution_count": 11,
   "metadata": {
    "id": "d9HgQGgqv_uq"
   },
   "outputs": [],
   "source": [
    "xdf = df_train.copy()"
   ]
  },
  {
   "cell_type": "code",
   "execution_count": 12,
   "metadata": {
    "colab": {
     "base_uri": "https://localhost:8080/"
    },
    "id": "vUJ-NoQ_D8Pt",
    "outputId": "ee15047b-95a5-41b1-eb40-fe8113d79beb"
   },
   "outputs": [
    {
     "data": {
      "text/plain": [
       "0        122098\n",
       "5674        163\n",
       "5697        142\n",
       "5723        142\n",
       "6214        141\n",
       "          ...  \n",
       "770           1\n",
       "19912         1\n",
       "20623         1\n",
       "18699         1\n",
       "19737         1\n",
       "Name: Sales, Length: 20727, dtype: int64"
      ]
     },
     "execution_count": 12,
     "metadata": {},
     "output_type": "execute_result"
    }
   ],
   "source": [
    "xdf['Sales'].value_counts()"
   ]
  },
  {
   "cell_type": "code",
   "execution_count": 13,
   "metadata": {
    "id": "Dcxpa1ZTD8Pt"
   },
   "outputs": [],
   "source": [
    "xdf = xdf.sample(frac = 1)\n",
    "xdf = xdf.iloc[:305163]"
   ]
  },
  {
   "cell_type": "code",
   "execution_count": 14,
   "metadata": {
    "colab": {
     "base_uri": "https://localhost:8080/"
    },
    "id": "ook4cVurD8Pt",
    "outputId": "88c09ad7-7004-448e-b705-a5d85c2292a4"
   },
   "outputs": [
    {
     "data": {
      "text/plain": [
       "0        52232\n",
       "6823        72\n",
       "5697        70\n",
       "5313        66\n",
       "6217        66\n",
       "         ...  \n",
       "17729        1\n",
       "1353         1\n",
       "17985        1\n",
       "17353        1\n",
       "2047         1\n",
       "Name: Sales, Length: 17824, dtype: int64"
      ]
     },
     "execution_count": 14,
     "metadata": {},
     "output_type": "execute_result"
    }
   ],
   "source": [
    "xdf['Sales'].value_counts()"
   ]
  },
  {
   "cell_type": "code",
   "execution_count": 15,
   "metadata": {
    "colab": {
     "base_uri": "https://localhost:8080/"
    },
    "id": "Q9LS4Y1hD8Pu",
    "outputId": "46dc0493-95a7-4a48-9bed-277f5c609099"
   },
   "outputs": [
    {
     "data": {
      "text/plain": [
       "(305163, 9)"
      ]
     },
     "execution_count": 15,
     "metadata": {},
     "output_type": "execute_result"
    }
   ],
   "source": [
    "xdf.shape"
   ]
  },
  {
   "cell_type": "code",
   "execution_count": 16,
   "metadata": {
    "colab": {
     "base_uri": "https://localhost:8080/"
    },
    "id": "hD4_6EbDD8Pv",
    "outputId": "c7fe2028-ed89-4f90-b908-543a0ba542dd"
   },
   "outputs": [
    {
     "data": {
      "text/plain": [
       "(305163, 8)"
      ]
     },
     "execution_count": 16,
     "metadata": {},
     "output_type": "execute_result"
    }
   ],
   "source": [
    "df_test.shape"
   ]
  },
  {
   "cell_type": "code",
   "execution_count": 17,
   "metadata": {
    "colab": {
     "base_uri": "https://localhost:8080/",
     "height": 136
    },
    "id": "kYS8IU8zD8Pv",
    "outputId": "18e49354-43eb-46bc-e12c-5d1237547f6b"
   },
   "outputs": [
    {
     "data": {
      "text/html": [
       "<div>\n",
       "<style scoped>\n",
       "    .dataframe tbody tr th:only-of-type {\n",
       "        vertical-align: middle;\n",
       "    }\n",
       "\n",
       "    .dataframe tbody tr th {\n",
       "        vertical-align: top;\n",
       "    }\n",
       "\n",
       "    .dataframe thead th {\n",
       "        text-align: right;\n",
       "    }\n",
       "</style>\n",
       "<table border=\"1\" class=\"dataframe\">\n",
       "  <thead>\n",
       "    <tr style=\"text-align: right;\">\n",
       "      <th></th>\n",
       "      <th>Store</th>\n",
       "      <th>Open</th>\n",
       "      <th>Promo</th>\n",
       "      <th>SchoolHoliday</th>\n",
       "      <th>Year</th>\n",
       "      <th>Month</th>\n",
       "      <th>Day</th>\n",
       "      <th>Customers</th>\n",
       "    </tr>\n",
       "  </thead>\n",
       "  <tbody>\n",
       "    <tr>\n",
       "      <th>0</th>\n",
       "      <td>767</td>\n",
       "      <td>0</td>\n",
       "      <td>0</td>\n",
       "      <td>1</td>\n",
       "      <td>2013</td>\n",
       "      <td>4</td>\n",
       "      <td>1</td>\n",
       "      <td>0.0</td>\n",
       "    </tr>\n",
       "    <tr>\n",
       "      <th>1</th>\n",
       "      <td>1111</td>\n",
       "      <td>1</td>\n",
       "      <td>0</td>\n",
       "      <td>0</td>\n",
       "      <td>2013</td>\n",
       "      <td>3</td>\n",
       "      <td>16</td>\n",
       "      <td>484.0</td>\n",
       "    </tr>\n",
       "    <tr>\n",
       "      <th>2</th>\n",
       "      <td>45</td>\n",
       "      <td>1</td>\n",
       "      <td>1</td>\n",
       "      <td>1</td>\n",
       "      <td>2013</td>\n",
       "      <td>8</td>\n",
       "      <td>1</td>\n",
       "      <td>729.0</td>\n",
       "    </tr>\n",
       "  </tbody>\n",
       "</table>\n",
       "</div>"
      ],
      "text/plain": [
       "   Store  Open  Promo  SchoolHoliday  Year  Month  Day  Customers\n",
       "0    767     0      0              1  2013      4    1        0.0\n",
       "1   1111     1      0              0  2013      3   16      484.0\n",
       "2     45     1      1              1  2013      8    1      729.0"
      ]
     },
     "execution_count": 17,
     "metadata": {},
     "output_type": "execute_result"
    }
   ],
   "source": [
    "df_test.head(3)"
   ]
  },
  {
   "cell_type": "markdown",
   "metadata": {
    "id": "uxqBiy8dD8Pw"
   },
   "source": [
    "# Observe Dataset"
   ]
  },
  {
   "cell_type": "code",
   "execution_count": 18,
   "metadata": {
    "colab": {
     "base_uri": "https://localhost:8080/",
     "height": 195
    },
    "id": "Rtfxjcx1D8Pw",
    "outputId": "16d95029-a915-463e-cd22-b3d54fec16b4"
   },
   "outputs": [
    {
     "data": {
      "text/html": [
       "<div>\n",
       "<style scoped>\n",
       "    .dataframe tbody tr th:only-of-type {\n",
       "        vertical-align: middle;\n",
       "    }\n",
       "\n",
       "    .dataframe tbody tr th {\n",
       "        vertical-align: top;\n",
       "    }\n",
       "\n",
       "    .dataframe thead th {\n",
       "        text-align: right;\n",
       "    }\n",
       "</style>\n",
       "<table border=\"1\" class=\"dataframe\">\n",
       "  <thead>\n",
       "    <tr style=\"text-align: right;\">\n",
       "      <th></th>\n",
       "      <th>Store</th>\n",
       "      <th>DayOfWeek</th>\n",
       "      <th>Date</th>\n",
       "      <th>Sales</th>\n",
       "      <th>Customers</th>\n",
       "      <th>Open</th>\n",
       "      <th>Promo</th>\n",
       "      <th>StateHoliday</th>\n",
       "      <th>SchoolHoliday</th>\n",
       "    </tr>\n",
       "  </thead>\n",
       "  <tbody>\n",
       "    <tr>\n",
       "      <th>692675</th>\n",
       "      <td>1046</td>\n",
       "      <td>6</td>\n",
       "      <td>2013-10-19</td>\n",
       "      <td>5596</td>\n",
       "      <td>514</td>\n",
       "      <td>1</td>\n",
       "      <td>0</td>\n",
       "      <td>0</td>\n",
       "      <td>0</td>\n",
       "    </tr>\n",
       "    <tr>\n",
       "      <th>602741</th>\n",
       "      <td>312</td>\n",
       "      <td>2</td>\n",
       "      <td>2014-01-07</td>\n",
       "      <td>7406</td>\n",
       "      <td>625</td>\n",
       "      <td>1</td>\n",
       "      <td>1</td>\n",
       "      <td>0</td>\n",
       "      <td>1</td>\n",
       "    </tr>\n",
       "    <tr>\n",
       "      <th>354419</th>\n",
       "      <td>280</td>\n",
       "      <td>3</td>\n",
       "      <td>2014-08-27</td>\n",
       "      <td>4964</td>\n",
       "      <td>418</td>\n",
       "      <td>1</td>\n",
       "      <td>0</td>\n",
       "      <td>0</td>\n",
       "      <td>1</td>\n",
       "    </tr>\n",
       "    <tr>\n",
       "      <th>156752</th>\n",
       "      <td>653</td>\n",
       "      <td>5</td>\n",
       "      <td>2015-03-13</td>\n",
       "      <td>5601</td>\n",
       "      <td>503</td>\n",
       "      <td>1</td>\n",
       "      <td>0</td>\n",
       "      <td>0</td>\n",
       "      <td>0</td>\n",
       "    </tr>\n",
       "    <tr>\n",
       "      <th>245417</th>\n",
       "      <td>751</td>\n",
       "      <td>1</td>\n",
       "      <td>2014-12-22</td>\n",
       "      <td>5469</td>\n",
       "      <td>651</td>\n",
       "      <td>1</td>\n",
       "      <td>0</td>\n",
       "      <td>0</td>\n",
       "      <td>1</td>\n",
       "    </tr>\n",
       "  </tbody>\n",
       "</table>\n",
       "</div>"
      ],
      "text/plain": [
       "        Store  DayOfWeek        Date  Sales  Customers  Open  Promo  \\\n",
       "692675   1046          6  2013-10-19   5596        514     1      0   \n",
       "602741    312          2  2014-01-07   7406        625     1      1   \n",
       "354419    280          3  2014-08-27   4964        418     1      0   \n",
       "156752    653          5  2015-03-13   5601        503     1      0   \n",
       "245417    751          1  2014-12-22   5469        651     1      0   \n",
       "\n",
       "       StateHoliday  SchoolHoliday  \n",
       "692675            0              0  \n",
       "602741            0              1  \n",
       "354419            0              1  \n",
       "156752            0              0  \n",
       "245417            0              1  "
      ]
     },
     "execution_count": 18,
     "metadata": {},
     "output_type": "execute_result"
    }
   ],
   "source": [
    "xdf.head()"
   ]
  },
  {
   "cell_type": "code",
   "execution_count": 19,
   "metadata": {
    "id": "nMc7rS0xD8Px"
   },
   "outputs": [],
   "source": [
    "# Extract year, month and day from 'Date'"
   ]
  },
  {
   "cell_type": "code",
   "execution_count": 20,
   "metadata": {
    "colab": {
     "base_uri": "https://localhost:8080/"
    },
    "id": "0DEZxu3zD8Px",
    "outputId": "e4bab0fa-75a7-4d6c-b381-f5f1b1d5c562"
   },
   "outputs": [
    {
     "data": {
      "text/plain": [
       "692675    2013-10-19\n",
       "602741    2014-01-07\n",
       "354419    2014-08-27\n",
       "156752    2015-03-13\n",
       "245417    2014-12-22\n",
       "             ...    \n",
       "22318     2015-07-11\n",
       "277366    2014-11-18\n",
       "616798    2013-12-26\n",
       "12784     2015-07-20\n",
       "278404    2014-11-17\n",
       "Name: Date, Length: 305163, dtype: object"
      ]
     },
     "execution_count": 20,
     "metadata": {},
     "output_type": "execute_result"
    }
   ],
   "source": [
    "xdf['Date']"
   ]
  },
  {
   "cell_type": "code",
   "execution_count": 21,
   "metadata": {
    "id": "Hb4B6CYJD8Py"
   },
   "outputs": [],
   "source": [
    "xdf['Date'] = pd.to_datetime(xdf['Date'])"
   ]
  },
  {
   "cell_type": "code",
   "execution_count": 22,
   "metadata": {
    "colab": {
     "base_uri": "https://localhost:8080/"
    },
    "id": "l9Ix8TD6D8Py",
    "outputId": "bd12d089-b817-4f3a-cee2-6040dbf79041"
   },
   "outputs": [
    {
     "data": {
      "text/plain": [
       "692675   2013-10-19\n",
       "602741   2014-01-07\n",
       "354419   2014-08-27\n",
       "156752   2015-03-13\n",
       "245417   2014-12-22\n",
       "            ...    \n",
       "22318    2015-07-11\n",
       "277366   2014-11-18\n",
       "616798   2013-12-26\n",
       "12784    2015-07-20\n",
       "278404   2014-11-17\n",
       "Name: Date, Length: 305163, dtype: datetime64[ns]"
      ]
     },
     "execution_count": 22,
     "metadata": {},
     "output_type": "execute_result"
    }
   ],
   "source": [
    "xdf['Date']"
   ]
  },
  {
   "cell_type": "code",
   "execution_count": 23,
   "metadata": {
    "id": "CP0Dbma0D8Pz"
   },
   "outputs": [],
   "source": [
    "xdf['Year'] = xdf['Date'].dt.year\n",
    "xdf['Month'] = xdf['Date'].dt.month\n",
    "xdf['Day'] = xdf['Date'].dt.day\n",
    "\n",
    "\n",
    "##df_test['Year'] = df_test['Date'].dt.year\n",
    "#df_test['Month'] = df_test['Date'].dt.month\n",
    "#df_test['Day'] = df_test['Date'].dt.day\n"
   ]
  },
  {
   "cell_type": "code",
   "execution_count": 24,
   "metadata": {
    "id": "3puS__5HD8P0"
   },
   "outputs": [],
   "source": [
    "xdf.drop('Date', axis = 1, inplace = True)\n",
    "#df_test.drop('Date', axis = 1, inplace = True)"
   ]
  },
  {
   "cell_type": "code",
   "execution_count": 25,
   "metadata": {
    "colab": {
     "base_uri": "https://localhost:8080/"
    },
    "id": "HP5eWvWyD8P0",
    "outputId": "21a6ee8e-e41d-423a-88c8-4e0bf1b71405"
   },
   "outputs": [
    {
     "data": {
      "text/plain": [
       "(305163, 11)"
      ]
     },
     "execution_count": 25,
     "metadata": {},
     "output_type": "execute_result"
    }
   ],
   "source": [
    "xdf.shape"
   ]
  },
  {
   "cell_type": "code",
   "execution_count": 26,
   "metadata": {
    "colab": {
     "base_uri": "https://localhost:8080/"
    },
    "id": "x2uUoCBND8P1",
    "outputId": "1a2e4753-9331-487e-94fe-dc30bd318171"
   },
   "outputs": [
    {
     "name": "stdout",
     "output_type": "stream",
     "text": [
      "<class 'pandas.core.frame.DataFrame'>\n",
      "Int64Index: 305163 entries, 692675 to 278404\n",
      "Data columns (total 11 columns):\n",
      " #   Column         Non-Null Count   Dtype \n",
      "---  ------         --------------   ----- \n",
      " 0   Store          305163 non-null  int64 \n",
      " 1   DayOfWeek      305163 non-null  int64 \n",
      " 2   Sales          305163 non-null  int64 \n",
      " 3   Customers      305163 non-null  int64 \n",
      " 4   Open           305163 non-null  int64 \n",
      " 5   Promo          305163 non-null  int64 \n",
      " 6   StateHoliday   305163 non-null  object\n",
      " 7   SchoolHoliday  305163 non-null  int64 \n",
      " 8   Year           305163 non-null  int64 \n",
      " 9   Month          305163 non-null  int64 \n",
      " 10  Day            305163 non-null  int64 \n",
      "dtypes: int64(10), object(1)\n",
      "memory usage: 27.9+ MB\n"
     ]
    }
   ],
   "source": [
    "xdf.info()"
   ]
  },
  {
   "cell_type": "code",
   "execution_count": 27,
   "metadata": {
    "colab": {
     "base_uri": "https://localhost:8080/"
    },
    "id": "e0_oh_-ID8P1",
    "outputId": "ada6e24a-64e2-4ef0-cf20-119f20ae5262"
   },
   "outputs": [
    {
     "data": {
      "text/plain": [
       "array(['0', '0', 0, ..., 'c', '0', '0'], dtype=object)"
      ]
     },
     "execution_count": 27,
     "metadata": {},
     "output_type": "execute_result"
    }
   ],
   "source": [
    "xdf['StateHoliday'].values"
   ]
  },
  {
   "cell_type": "code",
   "execution_count": 28,
   "metadata": {
    "colab": {
     "base_uri": "https://localhost:8080/"
    },
    "id": "HzG4n9S7D8P2",
    "outputId": "e7034976-4584-4429-9688-9c3ba7b3955d"
   },
   "outputs": [
    {
     "data": {
      "text/plain": [
       "0    239284\n",
       "0     56025\n",
       "a      6242\n",
       "b      1888\n",
       "c      1724\n",
       "Name: StateHoliday, dtype: int64"
      ]
     },
     "execution_count": 28,
     "metadata": {},
     "output_type": "execute_result"
    }
   ],
   "source": [
    "xdf['StateHoliday'].value_counts()"
   ]
  },
  {
   "cell_type": "code",
   "execution_count": 29,
   "metadata": {
    "id": "uxZQUJ-xD8P2"
   },
   "outputs": [],
   "source": [
    "#df_test['StateHoliday'].value_counts()"
   ]
  },
  {
   "cell_type": "code",
   "execution_count": 30,
   "metadata": {
    "id": "qGH1MRxVD8P3"
   },
   "outputs": [],
   "source": [
    "xdf['StateHoliday'] = xdf['StateHoliday'].replace({'0':'0','a':'1','b':'1','c':'1'})"
   ]
  },
  {
   "cell_type": "code",
   "execution_count": 31,
   "metadata": {
    "colab": {
     "base_uri": "https://localhost:8080/"
    },
    "id": "DrslucCrD8P4",
    "outputId": "8946b775-d379-4624-ead1-d71e650b5496"
   },
   "outputs": [
    {
     "data": {
      "text/plain": [
       "0    239284\n",
       "0     56025\n",
       "1      9854\n",
       "Name: StateHoliday, dtype: int64"
      ]
     },
     "execution_count": 31,
     "metadata": {},
     "output_type": "execute_result"
    }
   ],
   "source": [
    "xdf['StateHoliday'].value_counts()"
   ]
  },
  {
   "cell_type": "code",
   "execution_count": 32,
   "metadata": {
    "id": "BvJZ14vgD8P4"
   },
   "outputs": [],
   "source": [
    "#df_test['StateHoliday'] = df_test['StateHoliday'].replace({'a':'1','b':'1'})"
   ]
  },
  {
   "cell_type": "code",
   "execution_count": 33,
   "metadata": {
    "id": "uE1Luy3eD8P4"
   },
   "outputs": [],
   "source": [
    "xdf['StateHoliday'] = pd.to_numeric(xdf['StateHoliday'])"
   ]
  },
  {
   "cell_type": "code",
   "execution_count": 34,
   "metadata": {
    "id": "gNGq2ebVD8P5"
   },
   "outputs": [],
   "source": [
    "#df_test['StateHoliday'] = pd.to_numeric(df_test['StateHoliday'])"
   ]
  },
  {
   "cell_type": "code",
   "execution_count": 35,
   "metadata": {
    "colab": {
     "base_uri": "https://localhost:8080/"
    },
    "id": "OMMFBDnHD8P5",
    "outputId": "0c039f0b-b093-4077-9cf3-ea00f190eed7"
   },
   "outputs": [
    {
     "data": {
      "text/plain": [
       "0    295309\n",
       "1      9854\n",
       "Name: StateHoliday, dtype: int64"
      ]
     },
     "execution_count": 35,
     "metadata": {},
     "output_type": "execute_result"
    }
   ],
   "source": [
    "# let's recheck \n",
    "\n",
    "xdf['StateHoliday'].value_counts()"
   ]
  },
  {
   "cell_type": "code",
   "execution_count": 36,
   "metadata": {
    "id": "wERDHElOD8P6"
   },
   "outputs": [],
   "source": [
    "#df_test['StateHoliday'].value_counts()"
   ]
  },
  {
   "cell_type": "markdown",
   "metadata": {
    "id": "SIMv2xrBD8P6"
   },
   "source": [
    "This need to be converted to Numeric and fixed."
   ]
  },
  {
   "cell_type": "code",
   "execution_count": 37,
   "metadata": {
    "colab": {
     "base_uri": "https://localhost:8080/"
    },
    "id": "_f8YY5IiD8P7",
    "outputId": "e01f12e9-08ee-4706-d8a7-a2f8037dd4f2"
   },
   "outputs": [
    {
     "data": {
      "text/plain": [
       "0    252831\n",
       "1     52332\n",
       "Name: SchoolHoliday, dtype: int64"
      ]
     },
     "execution_count": 37,
     "metadata": {},
     "output_type": "execute_result"
    }
   ],
   "source": [
    "# school holiday\n",
    "\n",
    "xdf['SchoolHoliday'].value_counts()"
   ]
  },
  {
   "cell_type": "code",
   "execution_count": 38,
   "metadata": {
    "colab": {
     "base_uri": "https://localhost:8080/"
    },
    "id": "wiqKiVL-GjdF",
    "outputId": "70167c77-7cdb-40c2-8d9b-689a18d456fa"
   },
   "outputs": [
    {
     "data": {
      "text/plain": [
       "Store            0\n",
       "DayOfWeek        0\n",
       "Sales            0\n",
       "Customers        0\n",
       "Open             0\n",
       "Promo            0\n",
       "StateHoliday     0\n",
       "SchoolHoliday    0\n",
       "Year             0\n",
       "Month            0\n",
       "Day              0\n",
       "dtype: int64"
      ]
     },
     "execution_count": 38,
     "metadata": {},
     "output_type": "execute_result"
    }
   ],
   "source": [
    "xdf.isnull().sum()"
   ]
  },
  {
   "cell_type": "code",
   "execution_count": 39,
   "metadata": {
    "colab": {
     "base_uri": "https://localhost:8080/",
     "height": 564
    },
    "id": "ULNYh_KTD8P7",
    "outputId": "ca99555b-8683-49b9-a929-f6cb793c1100"
   },
   "outputs": [
    {
     "data": {
      "text/plain": [
       "<AxesSubplot:>"
      ]
     },
     "execution_count": 39,
     "metadata": {},
     "output_type": "execute_result"
    },
    {
     "data": {
      "image/png": "[encoded data removed]",
      "text/plain": [
       "<Figure size 720x576 with 2 Axes>"
      ]
     },
     "metadata": {
      "needs_background": "light"
     },
     "output_type": "display_data"
    }
   ],
   "source": [
    "corr = xdf.corr()\n",
    "plt.figure(figsize = (10,8))\n",
    "sns.heatmap(corr, vmax = .8, annot = True)"
   ]
  },
  {
   "cell_type": "markdown",
   "metadata": {
    "id": "utzipsEFD8P7"
   },
   "source": [
    "# Exploratory Data Analaysis"
   ]
  },
  {
   "cell_type": "code",
   "execution_count": 40,
   "metadata": {
    "colab": {
     "base_uri": "https://localhost:8080/"
    },
    "id": "UQ1WK3ROD8P8",
    "outputId": "7a5d1254-f953-42e3-bdee-eeea6ec5e794"
   },
   "outputs": [
    {
     "data": {
      "text/plain": [
       "1    252947\n",
       "0     52216\n",
       "Name: Open, dtype: int64"
      ]
     },
     "execution_count": 40,
     "metadata": {},
     "output_type": "execute_result"
    }
   ],
   "source": [
    "xdf['Open'].value_counts()"
   ]
  },
  {
   "cell_type": "markdown",
   "metadata": {
    "id": "eEDBEbmUD8P8"
   },
   "source": [
    "## Univariate (Target Attribute)"
   ]
  },
  {
   "cell_type": "code",
   "execution_count": 41,
   "metadata": {
    "colab": {
     "base_uri": "https://localhost:8080/"
    },
    "id": "muRvpCAqD8P8",
    "outputId": "d2f2e12a-97c5-4f71-c900-a9c97f812122"
   },
   "outputs": [
    {
     "data": {
      "text/plain": [
       "0        52232\n",
       "6823        72\n",
       "5697        70\n",
       "5313        66\n",
       "6217        66\n",
       "         ...  \n",
       "17729        1\n",
       "1353         1\n",
       "17985        1\n",
       "17353        1\n",
       "2047         1\n",
       "Name: Sales, Length: 17824, dtype: int64"
      ]
     },
     "execution_count": 41,
     "metadata": {},
     "output_type": "execute_result"
    }
   ],
   "source": [
    "xdf['Sales'].value_counts()"
   ]
  },
  {
   "cell_type": "code",
   "execution_count": 42,
   "metadata": {
    "colab": {
     "base_uri": "https://localhost:8080/",
     "height": 441
    },
    "id": "oaVLbPgxD8P8",
    "outputId": "6e28707e-fba4-4552-edf8-5ab414fe1ed4",
    "scrolled": true
   },
   "outputs": [
    {
     "data": {
      "image/png": "[encoded data removed]",
      "text/plain": [
       "<Figure size 864x432 with 1 Axes>"
      ]
     },
     "metadata": {
      "needs_background": "light"
     },
     "output_type": "display_data"
    }
   ],
   "source": [
    "## Lets check its distribution\n",
    "\n",
    "sns.displot(x = 'Sales', data = xdf, aspect = 2, height = 6, kde = True);"
   ]
  },
  {
   "cell_type": "code",
   "execution_count": 43,
   "metadata": {
    "colab": {
     "base_uri": "https://localhost:8080/"
    },
    "id": "JV4Pq57RD8P9",
    "outputId": "dfd1d53f-424c-4d5c-fc5f-c708506cc4c9"
   },
   "outputs": [
    {
     "name": "stdout",
     "output_type": "stream",
     "text": [
      "Skewness: 0.638425\n",
      "Kurtosis: 1.757683\n"
     ]
    }
   ],
   "source": [
    "# Skew and kurt\n",
    "print(\"Skewness: %f\" % xdf['Sales'].skew())\n",
    "print(\"Kurtosis: %f\" % xdf['Sales'].kurt())"
   ]
  },
  {
   "cell_type": "code",
   "execution_count": 44,
   "metadata": {
    "colab": {
     "base_uri": "https://localhost:8080/",
     "height": 392
    },
    "id": "BM63pHiSD8P9",
    "outputId": "608f7758-0ae5-4cb4-ef4c-a0ef84209739"
   },
   "outputs": [
    {
     "data": {
      "image/png": "[encoded data removed]",
      "text/plain": [
       "<Figure size 576x432 with 1 Axes>"
      ]
     },
     "metadata": {
      "needs_background": "light"
     },
     "output_type": "display_data"
    }
   ],
   "source": [
    "# Let's plot how Sales relates to some of the features in the dataset\n",
    "\n",
    "data = pd.concat([xdf['Sales'], xdf['StateHoliday']], axis=1)\n",
    "f, ax = plt.subplots(figsize=(8, 6))\n",
    "fig = sns.boxplot(x=xdf['StateHoliday'], y=\"Sales\", data=data)\n",
    "fig.axis(ymin=0, ymax=800000);"
   ]
  },
  {
   "cell_type": "code",
   "execution_count": 45,
   "metadata": {
    "colab": {
     "base_uri": "https://localhost:8080/",
     "height": 392
    },
    "id": "_-sy1ZeBD8P9",
    "outputId": "291882b0-f8c5-4038-a3ae-8b35faa68d8b"
   },
   "outputs": [
    {
     "data": {
      "image/png": "[encoded data removed]",
      "text/plain": [
       "<Figure size 576x432 with 1 Axes>"
      ]
     },
     "metadata": {
      "needs_background": "light"
     },
     "output_type": "display_data"
    }
   ],
   "source": [
    "# Let's plot how Sales relates to some of the features in the dataset\n",
    "\n",
    "data = pd.concat([xdf['Sales'], xdf['Promo']], axis=1)\n",
    "f, ax = plt.subplots(figsize=(8, 6))\n",
    "fig = sns.boxplot(x=xdf['Promo'], y=\"Sales\", data=data)\n",
    "fig.axis(ymin=0, ymax=800000);"
   ]
  },
  {
   "cell_type": "code",
   "execution_count": 46,
   "metadata": {
    "colab": {
     "base_uri": "https://localhost:8080/"
    },
    "id": "-1ubXFVJD8P-",
    "outputId": "63dbc1ed-c2ae-4d71-d342-0c72c70e9dd7"
   },
   "outputs": [
    {
     "data": {
      "text/plain": [
       "0        52232\n",
       "6823        72\n",
       "5697        70\n",
       "5313        66\n",
       "6217        66\n",
       "         ...  \n",
       "17729        1\n",
       "1353         1\n",
       "17985        1\n",
       "17353        1\n",
       "2047         1\n",
       "Name: Sales, Length: 17824, dtype: int64"
      ]
     },
     "execution_count": 46,
     "metadata": {},
     "output_type": "execute_result"
    }
   ],
   "source": [
    "xdf['Sales'].value_counts()"
   ]
  },
  {
   "cell_type": "markdown",
   "metadata": {
    "id": "37GqSdlED8P-"
   },
   "source": [
    "# Feature Engineering"
   ]
  },
  {
   "cell_type": "code",
   "execution_count": 47,
   "metadata": {
    "colab": {
     "base_uri": "https://localhost:8080/",
     "height": 458
    },
    "id": "HOThMTjeD8P-",
    "outputId": "ecabedd8-e3f7-4810-843b-132837b72e55",
    "scrolled": false
   },
   "outputs": [
    {
     "data": {
      "image/png": "[encoded data removed]",
      "text/plain": [
       "<Figure size 576x504 with 1 Axes>"
      ]
     },
     "metadata": {},
     "output_type": "display_data"
    }
   ],
   "source": [
    "sns.set_style(\"white\")\n",
    "sns.set_color_codes(palette='deep')\n",
    "f, ax = plt.subplots(figsize=(8, 7))\n",
    "#Check the new distribution \n",
    "sns.distplot(xdf['Sales'], color=\"b\");\n",
    "ax.xaxis.grid(False)\n",
    "ax.set(ylabel=\"Frequency\")\n",
    "ax.set(xlabel=\"Sales\")\n",
    "ax.set(title=\"SalePrice distribution\")\n",
    "sns.despine(trim=True, left=True)\n",
    "plt.show()"
   ]
  },
  {
   "cell_type": "markdown",
   "metadata": {
    "id": "_29aMrNhD8P-"
   },
   "source": [
    "The Sales is skewed to the right. This is a problem because most ML models don't do well with non-normally distributed data. We can apply a log(1+x) transform to fix the skew."
   ]
  },
  {
   "cell_type": "code",
   "execution_count": 48,
   "metadata": {
    "id": "U5m0ELWKD8P_"
   },
   "outputs": [],
   "source": [
    "from scipy.stats import skew, norm"
   ]
  },
  {
   "cell_type": "code",
   "execution_count": 49,
   "metadata": {
    "id": "zaUBS6_cD8P_"
   },
   "outputs": [],
   "source": [
    "xdf['Sales'] = np.log1p(xdf['Sales'])"
   ]
  },
  {
   "cell_type": "code",
   "execution_count": 50,
   "metadata": {
    "colab": {
     "base_uri": "https://localhost:8080/",
     "height": 509
    },
    "id": "KgfYPtKoD8P_",
    "outputId": "4af708c0-3131-411e-a689-c96713ef7b02"
   },
   "outputs": [
    {
     "name": "stdout",
     "output_type": "stream",
     "text": [
      "\n",
      " mu = 7.28 and sigma = 3.33\n",
      "\n"
     ]
    },
    {
     "data": {
      "image/png": "[encoded data removed]",
      "text/plain": [
       "<Figure size 576x504 with 1 Axes>"
      ]
     },
     "metadata": {},
     "output_type": "display_data"
    }
   ],
   "source": [
    "sns.set_style(\"white\")\n",
    "sns.set_color_codes(palette='deep')\n",
    "f, ax = plt.subplots(figsize=(8, 7))\n",
    "#Check the new distribution \n",
    "sns.distplot(xdf['Sales'] , fit=norm, color=\"b\");\n",
    "\n",
    "# Get the fitted parameters used by the function\n",
    "(mu, sigma) = norm.fit(xdf['Sales'])\n",
    "print( '\\n mu = {:.2f} and sigma = {:.2f}\\n'.format(mu, sigma))\n",
    "\n",
    "#Now plot the distribution\n",
    "plt.legend(['Normal dist. ($\\mu=$ {:.2f} and $\\sigma=$ {:.2f} )'.format(mu, sigma)],\n",
    "            loc='best')\n",
    "ax.xaxis.grid(False)\n",
    "ax.set(ylabel=\"Frequency\")\n",
    "ax.set(xlabel=\"SalePrice\")\n",
    "ax.set(title=\"SalePrice distribution\")\n",
    "sns.despine(trim=True, left=True)\n",
    "\n",
    "plt.show()"
   ]
  },
  {
   "cell_type": "code",
   "execution_count": 51,
   "metadata": {
    "colab": {
     "base_uri": "https://localhost:8080/"
    },
    "id": "E6wDsI8iD8QA",
    "outputId": "a911e9ca-8157-41fa-9976-3351e1d9d787"
   },
   "outputs": [
    {
     "data": {
      "text/plain": [
       "Store            0\n",
       "DayOfWeek        0\n",
       "Sales            0\n",
       "Customers        0\n",
       "Open             0\n",
       "Promo            0\n",
       "StateHoliday     0\n",
       "SchoolHoliday    0\n",
       "Year             0\n",
       "Month            0\n",
       "Day              0\n",
       "dtype: int64"
      ]
     },
     "execution_count": 51,
     "metadata": {},
     "output_type": "execute_result"
    }
   ],
   "source": [
    "xdf.isnull().sum()"
   ]
  },
  {
   "cell_type": "markdown",
   "metadata": {
    "id": "rM1I6xHoD8QA"
   },
   "source": [
    "## Correlation"
   ]
  },
  {
   "cell_type": "code",
   "execution_count": 52,
   "metadata": {
    "colab": {
     "base_uri": "https://localhost:8080/",
     "height": 547
    },
    "id": "pLq1L4LLD8QA",
    "outputId": "c57bf572-a20b-410a-a344-f6ae2e3aaf6c",
    "scrolled": false
   },
   "outputs": [
    {
     "data": {
      "image/png": "[encoded data removed]",
      "text/plain": [
       "<Figure size 720x576 with 2 Axes>"
      ]
     },
     "metadata": {},
     "output_type": "display_data"
    }
   ],
   "source": [
    "# Let's check the correlation of the feature with target\n",
    "\n",
    "corr = xdf.corr()\n",
    "\n",
    "plt.figure(figsize = (10,8))\n",
    "sns.heatmap(corr, vmax = .8, annot = True);"
   ]
  },
  {
   "cell_type": "code",
   "execution_count": 53,
   "metadata": {
    "id": "e1rPIAoED8QA"
   },
   "outputs": [],
   "source": [
    "xdf.drop(['DayOfWeek','StateHoliday'], axis = 1, inplace = True)"
   ]
  },
  {
   "cell_type": "code",
   "execution_count": 54,
   "metadata": {
    "id": "qqtGiseoD8QB"
   },
   "outputs": [],
   "source": [
    "#df_test.drop(['DayOfWeek'], axis = 1, inplace = True)"
   ]
  },
  {
   "cell_type": "markdown",
   "metadata": {
    "id": "BnO4-U4-D8QD"
   },
   "source": [
    "# Dataset Preparation"
   ]
  },
  {
   "cell_type": "code",
   "execution_count": 55,
   "metadata": {
    "id": "wfAK-bmBD8QE"
   },
   "outputs": [],
   "source": [
    "# Splitting the dataset\n",
    "\n",
    "X = xdf.drop(['Sales'], axis =1)\n",
    "y = xdf['Sales']"
   ]
  },
  {
   "cell_type": "code",
   "execution_count": 56,
   "metadata": {
    "id": "lvIm5ceoD8QF"
   },
   "outputs": [],
   "source": [
    "from sklearn.model_selection import train_test_split"
   ]
  },
  {
   "cell_type": "code",
   "execution_count": 57,
   "metadata": {
    "id": "e1x3Ii-rD8QG"
   },
   "outputs": [],
   "source": [
    "X_train, X_test, y_train, y_test = train_test_split(X, y, test_size = 0.2, random_state = 42)"
   ]
  },
  {
   "cell_type": "code",
   "execution_count": 58,
   "metadata": {
    "id": "PpjchGXeD8QG"
   },
   "outputs": [],
   "source": [
    "from sklearn.compose import ColumnTransformer\n",
    "from sklearn.pipeline import make_pipeline\n",
    "from sklearn.preprocessing import OneHotEncoder\n",
    "from sklearn.pipeline import Pipeline"
   ]
  },
  {
   "cell_type": "code",
   "execution_count": 59,
   "metadata": {
    "colab": {
     "base_uri": "https://localhost:8080/"
    },
    "id": "YymHqzVTD8QH",
    "outputId": "30575c88-3ba3-4b9e-e7e3-561e72dafb09"
   },
   "outputs": [
    {
     "data": {
      "text/plain": [
       "((244130, 8), (61033, 8))"
      ]
     },
     "execution_count": 59,
     "metadata": {},
     "output_type": "execute_result"
    }
   ],
   "source": [
    "(X_train.shape, X_test.shape)"
   ]
  },
  {
   "cell_type": "code",
   "execution_count": 60,
   "metadata": {
    "colab": {
     "base_uri": "https://localhost:8080/",
     "height": 402
    },
    "id": "YMCpDtX6D8QI",
    "outputId": "b003e779-d9d4-4c93-88e3-266817bdb688",
    "scrolled": true
   },
   "outputs": [
    {
     "data": {
      "text/html": [
       "<div>\n",
       "<style scoped>\n",
       "    .dataframe tbody tr th:only-of-type {\n",
       "        vertical-align: middle;\n",
       "    }\n",
       "\n",
       "    .dataframe tbody tr th {\n",
       "        vertical-align: top;\n",
       "    }\n",
       "\n",
       "    .dataframe thead th {\n",
       "        text-align: right;\n",
       "    }\n",
       "</style>\n",
       "<table border=\"1\" class=\"dataframe\">\n",
       "  <thead>\n",
       "    <tr style=\"text-align: right;\">\n",
       "      <th></th>\n",
       "      <th>Store</th>\n",
       "      <th>Customers</th>\n",
       "      <th>Open</th>\n",
       "      <th>Promo</th>\n",
       "      <th>SchoolHoliday</th>\n",
       "      <th>Year</th>\n",
       "      <th>Month</th>\n",
       "      <th>Day</th>\n",
       "    </tr>\n",
       "  </thead>\n",
       "  <tbody>\n",
       "    <tr>\n",
       "      <th>138059</th>\n",
       "      <td>915</td>\n",
       "      <td>610</td>\n",
       "      <td>1</td>\n",
       "      <td>1</td>\n",
       "      <td>1</td>\n",
       "      <td>2015</td>\n",
       "      <td>3</td>\n",
       "      <td>30</td>\n",
       "    </tr>\n",
       "    <tr>\n",
       "      <th>440262</th>\n",
       "      <td>623</td>\n",
       "      <td>1028</td>\n",
       "      <td>1</td>\n",
       "      <td>1</td>\n",
       "      <td>0</td>\n",
       "      <td>2014</td>\n",
       "      <td>6</td>\n",
       "      <td>2</td>\n",
       "    </tr>\n",
       "    <tr>\n",
       "      <th>593552</th>\n",
       "      <td>43</td>\n",
       "      <td>523</td>\n",
       "      <td>1</td>\n",
       "      <td>0</td>\n",
       "      <td>0</td>\n",
       "      <td>2014</td>\n",
       "      <td>1</td>\n",
       "      <td>15</td>\n",
       "    </tr>\n",
       "    <tr>\n",
       "      <th>555347</th>\n",
       "      <td>863</td>\n",
       "      <td>846</td>\n",
       "      <td>1</td>\n",
       "      <td>1</td>\n",
       "      <td>0</td>\n",
       "      <td>2014</td>\n",
       "      <td>2</td>\n",
       "      <td>19</td>\n",
       "    </tr>\n",
       "    <tr>\n",
       "      <th>191890</th>\n",
       "      <td>111</td>\n",
       "      <td>517</td>\n",
       "      <td>1</td>\n",
       "      <td>0</td>\n",
       "      <td>0</td>\n",
       "      <td>2015</td>\n",
       "      <td>2</td>\n",
       "      <td>9</td>\n",
       "    </tr>\n",
       "    <tr>\n",
       "      <th>...</th>\n",
       "      <td>...</td>\n",
       "      <td>...</td>\n",
       "      <td>...</td>\n",
       "      <td>...</td>\n",
       "      <td>...</td>\n",
       "      <td>...</td>\n",
       "      <td>...</td>\n",
       "      <td>...</td>\n",
       "    </tr>\n",
       "    <tr>\n",
       "      <th>344216</th>\n",
       "      <td>373</td>\n",
       "      <td>0</td>\n",
       "      <td>0</td>\n",
       "      <td>0</td>\n",
       "      <td>0</td>\n",
       "      <td>2014</td>\n",
       "      <td>9</td>\n",
       "      <td>7</td>\n",
       "    </tr>\n",
       "    <tr>\n",
       "      <th>144046</th>\n",
       "      <td>212</td>\n",
       "      <td>351</td>\n",
       "      <td>1</td>\n",
       "      <td>0</td>\n",
       "      <td>0</td>\n",
       "      <td>2015</td>\n",
       "      <td>3</td>\n",
       "      <td>24</td>\n",
       "    </tr>\n",
       "    <tr>\n",
       "      <th>311620</th>\n",
       "      <td>526</td>\n",
       "      <td>0</td>\n",
       "      <td>0</td>\n",
       "      <td>0</td>\n",
       "      <td>0</td>\n",
       "      <td>2014</td>\n",
       "      <td>10</td>\n",
       "      <td>12</td>\n",
       "    </tr>\n",
       "    <tr>\n",
       "      <th>132249</th>\n",
       "      <td>680</td>\n",
       "      <td>1240</td>\n",
       "      <td>1</td>\n",
       "      <td>0</td>\n",
       "      <td>0</td>\n",
       "      <td>2015</td>\n",
       "      <td>4</td>\n",
       "      <td>4</td>\n",
       "    </tr>\n",
       "    <tr>\n",
       "      <th>417406</th>\n",
       "      <td>67</td>\n",
       "      <td>0</td>\n",
       "      <td>0</td>\n",
       "      <td>0</td>\n",
       "      <td>0</td>\n",
       "      <td>2014</td>\n",
       "      <td>6</td>\n",
       "      <td>22</td>\n",
       "    </tr>\n",
       "  </tbody>\n",
       "</table>\n",
       "<p>61033 rows × 8 columns</p>\n",
       "</div>"
      ],
      "text/plain": [
       "        Store  Customers  Open  Promo  SchoolHoliday  Year  Month  Day\n",
       "138059    915        610     1      1              1  2015      3   30\n",
       "440262    623       1028     1      1              0  2014      6    2\n",
       "593552     43        523     1      0              0  2014      1   15\n",
       "555347    863        846     1      1              0  2014      2   19\n",
       "191890    111        517     1      0              0  2015      2    9\n",
       "...       ...        ...   ...    ...            ...   ...    ...  ...\n",
       "344216    373          0     0      0              0  2014      9    7\n",
       "144046    212        351     1      0              0  2015      3   24\n",
       "311620    526          0     0      0              0  2014     10   12\n",
       "132249    680       1240     1      0              0  2015      4    4\n",
       "417406     67          0     0      0              0  2014      6   22\n",
       "\n",
       "[61033 rows x 8 columns]"
      ]
     },
     "execution_count": 60,
     "metadata": {},
     "output_type": "execute_result"
    }
   ],
   "source": [
    "X_test"
   ]
  },
  {
   "cell_type": "code",
   "execution_count": 61,
   "metadata": {
    "colab": {
     "base_uri": "https://localhost:8080/",
     "height": 402
    },
    "id": "Wmq9hi6Xsj-F",
    "outputId": "54dd97b5-e4f3-4d41-ef45-c90f256e8401"
   },
   "outputs": [
    {
     "data": {
      "text/html": [
       "<div>\n",
       "<style scoped>\n",
       "    .dataframe tbody tr th:only-of-type {\n",
       "        vertical-align: middle;\n",
       "    }\n",
       "\n",
       "    .dataframe tbody tr th {\n",
       "        vertical-align: top;\n",
       "    }\n",
       "\n",
       "    .dataframe thead th {\n",
       "        text-align: right;\n",
       "    }\n",
       "</style>\n",
       "<table border=\"1\" class=\"dataframe\">\n",
       "  <thead>\n",
       "    <tr style=\"text-align: right;\">\n",
       "      <th></th>\n",
       "      <th>Store</th>\n",
       "      <th>Open</th>\n",
       "      <th>Promo</th>\n",
       "      <th>SchoolHoliday</th>\n",
       "      <th>Year</th>\n",
       "      <th>Month</th>\n",
       "      <th>Day</th>\n",
       "      <th>Customers</th>\n",
       "    </tr>\n",
       "  </thead>\n",
       "  <tbody>\n",
       "    <tr>\n",
       "      <th>0</th>\n",
       "      <td>767</td>\n",
       "      <td>0</td>\n",
       "      <td>0</td>\n",
       "      <td>1</td>\n",
       "      <td>2013</td>\n",
       "      <td>4</td>\n",
       "      <td>1</td>\n",
       "      <td>0.0</td>\n",
       "    </tr>\n",
       "    <tr>\n",
       "      <th>1</th>\n",
       "      <td>1111</td>\n",
       "      <td>1</td>\n",
       "      <td>0</td>\n",
       "      <td>0</td>\n",
       "      <td>2013</td>\n",
       "      <td>3</td>\n",
       "      <td>16</td>\n",
       "      <td>484.0</td>\n",
       "    </tr>\n",
       "    <tr>\n",
       "      <th>2</th>\n",
       "      <td>45</td>\n",
       "      <td>1</td>\n",
       "      <td>1</td>\n",
       "      <td>1</td>\n",
       "      <td>2013</td>\n",
       "      <td>8</td>\n",
       "      <td>1</td>\n",
       "      <td>729.0</td>\n",
       "    </tr>\n",
       "    <tr>\n",
       "      <th>3</th>\n",
       "      <td>500</td>\n",
       "      <td>1</td>\n",
       "      <td>0</td>\n",
       "      <td>1</td>\n",
       "      <td>2013</td>\n",
       "      <td>5</td>\n",
       "      <td>23</td>\n",
       "      <td>662.0</td>\n",
       "    </tr>\n",
       "    <tr>\n",
       "      <th>4</th>\n",
       "      <td>82</td>\n",
       "      <td>1</td>\n",
       "      <td>0</td>\n",
       "      <td>1</td>\n",
       "      <td>2013</td>\n",
       "      <td>8</td>\n",
       "      <td>6</td>\n",
       "      <td>619.0</td>\n",
       "    </tr>\n",
       "    <tr>\n",
       "      <th>...</th>\n",
       "      <td>...</td>\n",
       "      <td>...</td>\n",
       "      <td>...</td>\n",
       "      <td>...</td>\n",
       "      <td>...</td>\n",
       "      <td>...</td>\n",
       "      <td>...</td>\n",
       "      <td>...</td>\n",
       "    </tr>\n",
       "    <tr>\n",
       "      <th>305158</th>\n",
       "      <td>412</td>\n",
       "      <td>1</td>\n",
       "      <td>1</td>\n",
       "      <td>1</td>\n",
       "      <td>2013</td>\n",
       "      <td>5</td>\n",
       "      <td>28</td>\n",
       "      <td>775.0</td>\n",
       "    </tr>\n",
       "    <tr>\n",
       "      <th>305159</th>\n",
       "      <td>936</td>\n",
       "      <td>1</td>\n",
       "      <td>0</td>\n",
       "      <td>0</td>\n",
       "      <td>2013</td>\n",
       "      <td>3</td>\n",
       "      <td>2</td>\n",
       "      <td>644.0</td>\n",
       "    </tr>\n",
       "    <tr>\n",
       "      <th>305160</th>\n",
       "      <td>21</td>\n",
       "      <td>1</td>\n",
       "      <td>0</td>\n",
       "      <td>0</td>\n",
       "      <td>2013</td>\n",
       "      <td>9</td>\n",
       "      <td>16</td>\n",
       "      <td>581.0</td>\n",
       "    </tr>\n",
       "    <tr>\n",
       "      <th>305161</th>\n",
       "      <td>1077</td>\n",
       "      <td>1</td>\n",
       "      <td>0</td>\n",
       "      <td>0</td>\n",
       "      <td>2013</td>\n",
       "      <td>6</td>\n",
       "      <td>22</td>\n",
       "      <td>627.0</td>\n",
       "    </tr>\n",
       "    <tr>\n",
       "      <th>305162</th>\n",
       "      <td>321</td>\n",
       "      <td>1</td>\n",
       "      <td>0</td>\n",
       "      <td>0</td>\n",
       "      <td>2013</td>\n",
       "      <td>9</td>\n",
       "      <td>7</td>\n",
       "      <td>588.0</td>\n",
       "    </tr>\n",
       "  </tbody>\n",
       "</table>\n",
       "<p>305163 rows × 8 columns</p>\n",
       "</div>"
      ],
      "text/plain": [
       "        Store  Open  Promo  SchoolHoliday  Year  Month  Day  Customers\n",
       "0         767     0      0              1  2013      4    1        0.0\n",
       "1        1111     1      0              0  2013      3   16      484.0\n",
       "2          45     1      1              1  2013      8    1      729.0\n",
       "3         500     1      0              1  2013      5   23      662.0\n",
       "4          82     1      0              1  2013      8    6      619.0\n",
       "...       ...   ...    ...            ...   ...    ...  ...        ...\n",
       "305158    412     1      1              1  2013      5   28      775.0\n",
       "305159    936     1      0              0  2013      3    2      644.0\n",
       "305160     21     1      0              0  2013      9   16      581.0\n",
       "305161   1077     1      0              0  2013      6   22      627.0\n",
       "305162    321     1      0              0  2013      9    7      588.0\n",
       "\n",
       "[305163 rows x 8 columns]"
      ]
     },
     "execution_count": 61,
     "metadata": {},
     "output_type": "execute_result"
    }
   ],
   "source": [
    "df_test"
   ]
  },
  {
   "cell_type": "code",
   "execution_count": 62,
   "metadata": {
    "id": "46-ISljBIb7k"
   },
   "outputs": [],
   "source": [
    "first_col = df_test.pop(\"Customers\")\n",
    "\n",
    "df_test.insert(1, \"Customers\", first_col)"
   ]
  },
  {
   "cell_type": "code",
   "execution_count": 63,
   "metadata": {
    "colab": {
     "base_uri": "https://localhost:8080/",
     "height": 402
    },
    "id": "I1R_J743JRRF",
    "outputId": "a7ec4d2f-78bd-4d58-e6f7-5c5708840385"
   },
   "outputs": [
    {
     "data": {
      "text/html": [
       "<div>\n",
       "<style scoped>\n",
       "    .dataframe tbody tr th:only-of-type {\n",
       "        vertical-align: middle;\n",
       "    }\n",
       "\n",
       "    .dataframe tbody tr th {\n",
       "        vertical-align: top;\n",
       "    }\n",
       "\n",
       "    .dataframe thead th {\n",
       "        text-align: right;\n",
       "    }\n",
       "</style>\n",
       "<table border=\"1\" class=\"dataframe\">\n",
       "  <thead>\n",
       "    <tr style=\"text-align: right;\">\n",
       "      <th></th>\n",
       "      <th>Store</th>\n",
       "      <th>Customers</th>\n",
       "      <th>Open</th>\n",
       "      <th>Promo</th>\n",
       "      <th>SchoolHoliday</th>\n",
       "      <th>Year</th>\n",
       "      <th>Month</th>\n",
       "      <th>Day</th>\n",
       "    </tr>\n",
       "  </thead>\n",
       "  <tbody>\n",
       "    <tr>\n",
       "      <th>0</th>\n",
       "      <td>767</td>\n",
       "      <td>0.0</td>\n",
       "      <td>0</td>\n",
       "      <td>0</td>\n",
       "      <td>1</td>\n",
       "      <td>2013</td>\n",
       "      <td>4</td>\n",
       "      <td>1</td>\n",
       "    </tr>\n",
       "    <tr>\n",
       "      <th>1</th>\n",
       "      <td>1111</td>\n",
       "      <td>484.0</td>\n",
       "      <td>1</td>\n",
       "      <td>0</td>\n",
       "      <td>0</td>\n",
       "      <td>2013</td>\n",
       "      <td>3</td>\n",
       "      <td>16</td>\n",
       "    </tr>\n",
       "    <tr>\n",
       "      <th>2</th>\n",
       "      <td>45</td>\n",
       "      <td>729.0</td>\n",
       "      <td>1</td>\n",
       "      <td>1</td>\n",
       "      <td>1</td>\n",
       "      <td>2013</td>\n",
       "      <td>8</td>\n",
       "      <td>1</td>\n",
       "    </tr>\n",
       "    <tr>\n",
       "      <th>3</th>\n",
       "      <td>500</td>\n",
       "      <td>662.0</td>\n",
       "      <td>1</td>\n",
       "      <td>0</td>\n",
       "      <td>1</td>\n",
       "      <td>2013</td>\n",
       "      <td>5</td>\n",
       "      <td>23</td>\n",
       "    </tr>\n",
       "    <tr>\n",
       "      <th>4</th>\n",
       "      <td>82</td>\n",
       "      <td>619.0</td>\n",
       "      <td>1</td>\n",
       "      <td>0</td>\n",
       "      <td>1</td>\n",
       "      <td>2013</td>\n",
       "      <td>8</td>\n",
       "      <td>6</td>\n",
       "    </tr>\n",
       "    <tr>\n",
       "      <th>...</th>\n",
       "      <td>...</td>\n",
       "      <td>...</td>\n",
       "      <td>...</td>\n",
       "      <td>...</td>\n",
       "      <td>...</td>\n",
       "      <td>...</td>\n",
       "      <td>...</td>\n",
       "      <td>...</td>\n",
       "    </tr>\n",
       "    <tr>\n",
       "      <th>305158</th>\n",
       "      <td>412</td>\n",
       "      <td>775.0</td>\n",
       "      <td>1</td>\n",
       "      <td>1</td>\n",
       "      <td>1</td>\n",
       "      <td>2013</td>\n",
       "      <td>5</td>\n",
       "      <td>28</td>\n",
       "    </tr>\n",
       "    <tr>\n",
       "      <th>305159</th>\n",
       "      <td>936</td>\n",
       "      <td>644.0</td>\n",
       "      <td>1</td>\n",
       "      <td>0</td>\n",
       "      <td>0</td>\n",
       "      <td>2013</td>\n",
       "      <td>3</td>\n",
       "      <td>2</td>\n",
       "    </tr>\n",
       "    <tr>\n",
       "      <th>305160</th>\n",
       "      <td>21</td>\n",
       "      <td>581.0</td>\n",
       "      <td>1</td>\n",
       "      <td>0</td>\n",
       "      <td>0</td>\n",
       "      <td>2013</td>\n",
       "      <td>9</td>\n",
       "      <td>16</td>\n",
       "    </tr>\n",
       "    <tr>\n",
       "      <th>305161</th>\n",
       "      <td>1077</td>\n",
       "      <td>627.0</td>\n",
       "      <td>1</td>\n",
       "      <td>0</td>\n",
       "      <td>0</td>\n",
       "      <td>2013</td>\n",
       "      <td>6</td>\n",
       "      <td>22</td>\n",
       "    </tr>\n",
       "    <tr>\n",
       "      <th>305162</th>\n",
       "      <td>321</td>\n",
       "      <td>588.0</td>\n",
       "      <td>1</td>\n",
       "      <td>0</td>\n",
       "      <td>0</td>\n",
       "      <td>2013</td>\n",
       "      <td>9</td>\n",
       "      <td>7</td>\n",
       "    </tr>\n",
       "  </tbody>\n",
       "</table>\n",
       "<p>305163 rows × 8 columns</p>\n",
       "</div>"
      ],
      "text/plain": [
       "        Store  Customers  Open  Promo  SchoolHoliday  Year  Month  Day\n",
       "0         767        0.0     0      0              1  2013      4    1\n",
       "1        1111      484.0     1      0              0  2013      3   16\n",
       "2          45      729.0     1      1              1  2013      8    1\n",
       "3         500      662.0     1      0              1  2013      5   23\n",
       "4          82      619.0     1      0              1  2013      8    6\n",
       "...       ...        ...   ...    ...            ...   ...    ...  ...\n",
       "305158    412      775.0     1      1              1  2013      5   28\n",
       "305159    936      644.0     1      0              0  2013      3    2\n",
       "305160     21      581.0     1      0              0  2013      9   16\n",
       "305161   1077      627.0     1      0              0  2013      6   22\n",
       "305162    321      588.0     1      0              0  2013      9    7\n",
       "\n",
       "[305163 rows x 8 columns]"
      ]
     },
     "execution_count": 63,
     "metadata": {},
     "output_type": "execute_result"
    }
   ],
   "source": [
    "df_test"
   ]
  },
  {
   "cell_type": "markdown",
   "metadata": {
    "id": "5_pFIqteD8QI"
   },
   "source": [
    "### Preprocessing"
   ]
  },
  {
   "cell_type": "code",
   "execution_count": 64,
   "metadata": {
    "id": "nxpQo09fD8QJ"
   },
   "outputs": [],
   "source": [
    "from sklearn.preprocessing import StandardScaler"
   ]
  },
  {
   "cell_type": "code",
   "execution_count": 65,
   "metadata": {
    "id": "mOUJT9jhD8QJ"
   },
   "outputs": [],
   "source": [
    "ct = ColumnTransformer([\n",
    "                ('scaler', StandardScaler(),['Store','Customers','Year','Month','Day'])\n",
    "], remainder = 'passthrough')"
   ]
  },
  {
   "cell_type": "markdown",
   "metadata": {
    "id": "225WVpOvD8QJ"
   },
   "source": [
    "# Modeling and Evaluation Metrics"
   ]
  },
  {
   "cell_type": "code",
   "execution_count": 66,
   "metadata": {
    "id": "YQNgIwFCD8QJ"
   },
   "outputs": [],
   "source": [
    "from sklearn.metrics import r2_score, mean_squared_error, mean_absolute_error\n",
    "import math"
   ]
  },
  {
   "cell_type": "markdown",
   "metadata": {
    "id": "DHF-tG1oD8QJ"
   },
   "source": [
    "## Linear Regression"
   ]
  },
  {
   "cell_type": "code",
   "execution_count": 67,
   "metadata": {
    "id": "-Ept5n7eD8QK"
   },
   "outputs": [],
   "source": [
    "from sklearn.linear_model import LinearRegression"
   ]
  },
  {
   "cell_type": "code",
   "execution_count": 68,
   "metadata": {
    "id": "2oiSYSKbD8QK"
   },
   "outputs": [],
   "source": [
    "lr = LinearRegression()\n",
    "lr_pipe = Pipeline([\n",
    "            ('column-transformer', ct),\n",
    "            ('LinearRegression', lr)\n",
    "])"
   ]
  },
  {
   "cell_type": "code",
   "execution_count": 69,
   "metadata": {
    "colab": {
     "base_uri": "https://localhost:8080/"
    },
    "id": "ffQOuF_tD8QK",
    "outputId": "1b1f752f-2b37-408c-a714-012070efd501"
   },
   "outputs": [
    {
     "data": {
      "text/plain": [
       "Pipeline(steps=[('column-transformer',\n",
       "                 ColumnTransformer(remainder='passthrough',\n",
       "                                   transformers=[('scaler', StandardScaler(),\n",
       "                                                  ['Store', 'Customers', 'Year',\n",
       "                                                   'Month', 'Day'])])),\n",
       "                ('LinearRegression', LinearRegression())])"
      ]
     },
     "execution_count": 69,
     "metadata": {},
     "output_type": "execute_result"
    }
   ],
   "source": [
    "lr_pipe.fit(X_train, y_train)"
   ]
  },
  {
   "cell_type": "code",
   "execution_count": 70,
   "metadata": {
    "id": "7nXjX-SvD8QK"
   },
   "outputs": [],
   "source": [
    "lr_pred = lr_pipe.predict(X_test)"
   ]
  },
  {
   "cell_type": "code",
   "execution_count": 71,
   "metadata": {
    "colab": {
     "base_uri": "https://localhost:8080/"
    },
    "id": "0XbzwhiaD8QL",
    "outputId": "2c2c4025-c6ee-4fa9-ea77-9b4db0a94ac5"
   },
   "outputs": [
    {
     "name": "stdout",
     "output_type": "stream",
     "text": [
      "R2 Score: 0.9950112863089915\n",
      "Mean Squarred Error: 0.055\n",
      "RMSE: 0.23467358677965622\n",
      "Mean Absolute Error : 0.16261948356183645\n"
     ]
    }
   ],
   "source": [
    "print(\"R2 Score:\", r2_score(y_test, lr_pred))\n",
    "print(\"Mean Squarred Error: %.3f\" % mean_squared_error(y_test, lr_pred))\n",
    "print(\"RMSE:\", math.sqrt(mean_squared_error(y_test, lr_pred)))\n",
    "print(\"Mean Absolute Error : \" + str(mean_absolute_error(y_test,lr_pred)))"
   ]
  },
  {
   "cell_type": "markdown",
   "metadata": {
    "id": "ohCQgOKHD8QL"
   },
   "source": [
    "## GradientBoostingRegressor"
   ]
  },
  {
   "cell_type": "code",
   "execution_count": 72,
   "metadata": {
    "id": "mrKXANYVD8QL"
   },
   "outputs": [],
   "source": [
    "from sklearn.ensemble import GradientBoostingRegressor\n"
   ]
  },
  {
   "cell_type": "code",
   "execution_count": 73,
   "metadata": {
    "id": "1lmIkUbBD8QL"
   },
   "outputs": [],
   "source": [
    "gbr = GradientBoostingRegressor()"
   ]
  },
  {
   "cell_type": "code",
   "execution_count": 74,
   "metadata": {
    "id": "HzTq9z_ID8QM"
   },
   "outputs": [],
   "source": [
    "gbr_pipe = Pipeline([\n",
    "            ('column-transformer', ct),\n",
    "            ('GradientBoostingRegressor', gbr)\n",
    "])"
   ]
  },
  {
   "cell_type": "code",
   "execution_count": 75,
   "metadata": {
    "colab": {
     "base_uri": "https://localhost:8080/"
    },
    "id": "XQS-M-2RD8QM",
    "outputId": "4225ebd3-35a1-43c4-8ca5-ed1765539bcf"
   },
   "outputs": [
    {
     "data": {
      "text/plain": [
       "Pipeline(steps=[('column-transformer',\n",
       "                 ColumnTransformer(remainder='passthrough',\n",
       "                                   transformers=[('scaler', StandardScaler(),\n",
       "                                                  ['Store', 'Customers', 'Year',\n",
       "                                                   'Month', 'Day'])])),\n",
       "                ('GradientBoostingRegressor', GradientBoostingRegressor())])"
      ]
     },
     "execution_count": 75,
     "metadata": {},
     "output_type": "execute_result"
    }
   ],
   "source": [
    "gbr_pipe.fit(X_train, y_train)"
   ]
  },
  {
   "cell_type": "code",
   "execution_count": 76,
   "metadata": {
    "id": "2jtYDZ-sD8QM"
   },
   "outputs": [],
   "source": [
    "gbr_pred = gbr_pipe.predict(X_test)"
   ]
  },
  {
   "cell_type": "code",
   "execution_count": 77,
   "metadata": {
    "colab": {
     "base_uri": "https://localhost:8080/"
    },
    "id": "PK89fjsRD8QM",
    "outputId": "08b204ca-e3bc-4588-ce88-52bf31817ad1"
   },
   "outputs": [
    {
     "name": "stdout",
     "output_type": "stream",
     "text": [
      "R2 Score: 0.9972546648214737\n",
      "Mean Squarred Error: 0.030306460475491622\n",
      "RMSE: 0.17408750809719697\n",
      "Mean Absolute Error : 0.1283326853363149\n"
     ]
    }
   ],
   "source": [
    "print(\"R2 Score:\", r2_score(y_test, gbr_pred))\n",
    "print(\"Mean Squarred Error:\", mean_squared_error(y_test, gbr_pred))\n",
    "print(\"RMSE:\", math.sqrt(mean_squared_error(y_test, gbr_pred)))\n",
    "print(\"Mean Absolute Error : \" + str(mean_absolute_error(y_test,gbr_pred)))"
   ]
  },
  {
   "cell_type": "code",
   "execution_count": 78,
   "metadata": {
    "id": "2evlfSP8xcEf"
   },
   "outputs": [],
   "source": [
    "## Hyperparamter Tuning"
   ]
  },
  {
   "cell_type": "code",
   "execution_count": null,
   "metadata": {
    "id": "nm9i8KE1xecd"
   },
   "outputs": [],
   "source": []
  },
  {
   "cell_type": "code",
   "execution_count": null,
   "metadata": {
    "id": "zLlqw_nQxewO"
   },
   "outputs": [],
   "source": []
  },
  {
   "cell_type": "code",
   "execution_count": null,
   "metadata": {
    "id": "DWBqfkQSxe7J"
   },
   "outputs": [],
   "source": []
  },
  {
   "cell_type": "markdown",
   "metadata": {
    "id": "xmKSskVTD8QN"
   },
   "source": [
    "## XGBoost"
   ]
  },
  {
   "cell_type": "code",
   "execution_count": 79,
   "metadata": {
    "id": "YI2ScHlBD8QN"
   },
   "outputs": [],
   "source": [
    "from xgboost import XGBRegressor"
   ]
  },
  {
   "cell_type": "code",
   "execution_count": 80,
   "metadata": {
    "id": "pqOZWRlXD8QN"
   },
   "outputs": [],
   "source": [
    "xgb = XGBRegressor(n_estimators = 100, learning_rate = 0.05)\n",
    "xgb_pipe = Pipeline([\n",
    "            ('column-transformer', ct),\n",
    "            ('XGBRegression', xgb)\n",
    "])"
   ]
  },
  {
   "cell_type": "code",
   "execution_count": 81,
   "metadata": {
    "colab": {
     "base_uri": "https://localhost:8080/"
    },
    "id": "KFkxQ-dYD8QN",
    "outputId": "7ac2001e-f1e1-4bb1-84b8-e3a8db724420"
   },
   "outputs": [
    {
     "data": {
      "text/plain": [
       "Pipeline(steps=[('column-transformer',\n",
       "                 ColumnTransformer(remainder='passthrough',\n",
       "                                   transformers=[('scaler', StandardScaler(),\n",
       "                                                  ['Store', 'Customers', 'Year',\n",
       "                                                   'Month', 'Day'])])),\n",
       "                ('XGBRegression',\n",
       "                 XGBRegressor(base_score=0.5, booster='gbtree',\n",
       "                              colsample_bylevel=1, colsample_bynode=1,\n",
       "                              colsample_bytree=1, gamma=0, gpu_id=-1,\n",
       "                              importance_type='gain',\n",
       "                              interaction_constraints='', learning_rate=0.05,\n",
       "                              max_delta_step=0, max_depth=6, min_child_weight=1,\n",
       "                              missing=nan, monotone_constraints='()',\n",
       "                              n_estimators=100, n_jobs=8, num_parallel_tree=1,\n",
       "                              random_state=0, reg_alpha=0, reg_lambda=1,\n",
       "                              scale_pos_weight=1, subsample=1,\n",
       "                              tree_method='exact', validate_parameters=1,\n",
       "                              verbosity=None))])"
      ]
     },
     "execution_count": 81,
     "metadata": {},
     "output_type": "execute_result"
    }
   ],
   "source": [
    "xgb_pipe.fit(X_train, y_train)"
   ]
  },
  {
   "cell_type": "code",
   "execution_count": 82,
   "metadata": {
    "id": "9XaJPmK1D8QN"
   },
   "outputs": [],
   "source": [
    "xgb_pred = xgb_pipe.predict(X_test)"
   ]
  },
  {
   "cell_type": "code",
   "execution_count": 83,
   "metadata": {
    "colab": {
     "base_uri": "https://localhost:8080/"
    },
    "id": "gJqhwl-BD8QO",
    "outputId": "ce481661-095f-4afa-940c-e09ee367dc2a",
    "scrolled": false
   },
   "outputs": [
    {
     "name": "stdout",
     "output_type": "stream",
     "text": [
      "R2 Score: 0.9972034018965031\n",
      "Mean Squarred Error: 0.031 \n",
      "RMSE: 0.17570533593699877\n",
      "Mean Absolute Error : 0.12868552917979895\n"
     ]
    }
   ],
   "source": [
    "print(\"R2 Score:\", r2_score(y_test, xgb_pred))\n",
    "print(\"Mean Squarred Error: %.3f \" % mean_squared_error(y_test, xgb_pred))\n",
    "print(\"RMSE:\", math.sqrt(mean_squared_error(y_test, xgb_pred)))\n",
    "print(\"Mean Absolute Error : \" + str(mean_absolute_error(y_test,xgb_pred)))"
   ]
  },
  {
   "cell_type": "code",
   "execution_count": 97,
   "metadata": {
    "id": "Lr3d-Rz5y3W3"
   },
   "outputs": [],
   "source": [
    "from sklearn.model_selection import RandomizedSearchCV"
   ]
  },
  {
   "cell_type": "code",
   "execution_count": null,
   "metadata": {},
   "outputs": [],
   "source": []
  },
  {
   "cell_type": "code",
   "execution_count": null,
   "metadata": {},
   "outputs": [],
   "source": []
  },
  {
   "cell_type": "code",
   "execution_count": null,
   "metadata": {},
   "outputs": [],
   "source": []
  },
  {
   "cell_type": "code",
   "execution_count": null,
   "metadata": {},
   "outputs": [],
   "source": []
  },
  {
   "cell_type": "code",
   "execution_count": null,
   "metadata": {},
   "outputs": [],
   "source": []
  },
  {
   "cell_type": "code",
   "execution_count": null,
   "metadata": {},
   "outputs": [],
   "source": []
  },
  {
   "cell_type": "code",
   "execution_count": null,
   "metadata": {},
   "outputs": [],
   "source": []
  },
  {
   "cell_type": "code",
   "execution_count": null,
   "metadata": {},
   "outputs": [],
   "source": []
  },
  {
   "cell_type": "code",
   "execution_count": null,
   "metadata": {},
   "outputs": [],
   "source": []
  },
  {
   "cell_type": "code",
   "execution_count": null,
   "metadata": {},
   "outputs": [],
   "source": []
  },
  {
   "cell_type": "code",
   "execution_count": null,
   "metadata": {},
   "outputs": [],
   "source": []
  },
  {
   "cell_type": "code",
   "execution_count": 218,
   "metadata": {
    "colab": {
     "base_uri": "https://localhost:8080/"
    },
    "id": "bdV7qGe7D8QO",
    "outputId": "90cef7ad-2a3f-4eb6-a440-d5d7ed04fad6"
   },
   "outputs": [
    {
     "data": {
      "text/plain": [
       "((305163, 8), (305163, 9))"
      ]
     },
     "execution_count": 218,
     "metadata": {
      "tags": []
     },
     "output_type": "execute_result"
    }
   ],
   "source": [
    "df_test.shape, xdf.shape"
   ]
  },
  {
   "cell_type": "code",
   "execution_count": 218,
   "metadata": {
    "id": "-bkExOWTD8QO"
   },
   "outputs": [],
   "source": []
  },
  {
   "cell_type": "code",
   "execution_count": 219,
   "metadata": {
    "id": "Ib9cJoHuD8QP"
   },
   "outputs": [],
   "source": [
    "output = pd.DataFrame(columns = ['Index','Sales'])"
   ]
  },
  {
   "cell_type": "code",
   "execution_count": 220,
   "metadata": {
    "id": "cg7dVoojD8QP"
   },
   "outputs": [],
   "source": [
    "output['Index'] = df_test.index"
   ]
  },
  {
   "cell_type": "code",
   "execution_count": 221,
   "metadata": {
    "colab": {
     "base_uri": "https://localhost:8080/",
     "height": 402
    },
    "id": "u5zYY4z5D8QP",
    "outputId": "e5bd982c-db5d-4ea6-8116-a5846cd7dca0"
   },
   "outputs": [
    {
     "data": {
      "text/html": [
       "<div>\n",
       "<style scoped>\n",
       "    .dataframe tbody tr th:only-of-type {\n",
       "        vertical-align: middle;\n",
       "    }\n",
       "\n",
       "    .dataframe tbody tr th {\n",
       "        vertical-align: top;\n",
       "    }\n",
       "\n",
       "    .dataframe thead th {\n",
       "        text-align: right;\n",
       "    }\n",
       "</style>\n",
       "<table border=\"1\" class=\"dataframe\">\n",
       "  <thead>\n",
       "    <tr style=\"text-align: right;\">\n",
       "      <th></th>\n",
       "      <th>Index</th>\n",
       "      <th>Sales</th>\n",
       "    </tr>\n",
       "  </thead>\n",
       "  <tbody>\n",
       "    <tr>\n",
       "      <th>0</th>\n",
       "      <td>0</td>\n",
       "      <td>NaN</td>\n",
       "    </tr>\n",
       "    <tr>\n",
       "      <th>1</th>\n",
       "      <td>1</td>\n",
       "      <td>NaN</td>\n",
       "    </tr>\n",
       "    <tr>\n",
       "      <th>2</th>\n",
       "      <td>2</td>\n",
       "      <td>NaN</td>\n",
       "    </tr>\n",
       "    <tr>\n",
       "      <th>3</th>\n",
       "      <td>3</td>\n",
       "      <td>NaN</td>\n",
       "    </tr>\n",
       "    <tr>\n",
       "      <th>4</th>\n",
       "      <td>4</td>\n",
       "      <td>NaN</td>\n",
       "    </tr>\n",
       "    <tr>\n",
       "      <th>...</th>\n",
       "      <td>...</td>\n",
       "      <td>...</td>\n",
       "    </tr>\n",
       "    <tr>\n",
       "      <th>305158</th>\n",
       "      <td>305158</td>\n",
       "      <td>NaN</td>\n",
       "    </tr>\n",
       "    <tr>\n",
       "      <th>305159</th>\n",
       "      <td>305159</td>\n",
       "      <td>NaN</td>\n",
       "    </tr>\n",
       "    <tr>\n",
       "      <th>305160</th>\n",
       "      <td>305160</td>\n",
       "      <td>NaN</td>\n",
       "    </tr>\n",
       "    <tr>\n",
       "      <th>305161</th>\n",
       "      <td>305161</td>\n",
       "      <td>NaN</td>\n",
       "    </tr>\n",
       "    <tr>\n",
       "      <th>305162</th>\n",
       "      <td>305162</td>\n",
       "      <td>NaN</td>\n",
       "    </tr>\n",
       "  </tbody>\n",
       "</table>\n",
       "<p>305163 rows × 2 columns</p>\n",
       "</div>"
      ],
      "text/plain": [
       "         Index Sales\n",
       "0            0   NaN\n",
       "1            1   NaN\n",
       "2            2   NaN\n",
       "3            3   NaN\n",
       "4            4   NaN\n",
       "...        ...   ...\n",
       "305158  305158   NaN\n",
       "305159  305159   NaN\n",
       "305160  305160   NaN\n",
       "305161  305161   NaN\n",
       "305162  305162   NaN\n",
       "\n",
       "[305163 rows x 2 columns]"
      ]
     },
     "execution_count": 221,
     "metadata": {
      "tags": []
     },
     "output_type": "execute_result"
    }
   ],
   "source": [
    "output"
   ]
  },
  {
   "cell_type": "code",
   "execution_count": 222,
   "metadata": {
    "colab": {
     "base_uri": "https://localhost:8080/"
    },
    "id": "ydQSCuknQn9g",
    "outputId": "59210fd8-9a3b-4608-d5f1-10523c110636"
   },
   "outputs": [
    {
     "data": {
      "text/plain": [
       "416334    4280\n",
       "161432    3793\n",
       "479295    6013\n",
       "539444    6644\n",
       "515776    4276\n",
       "          ... \n",
       "148616    5002\n",
       "640478    8901\n",
       "11440     6722\n",
       "544227    5773\n",
       "261850    9899\n",
       "Name: Sales, Length: 589948, dtype: int64"
      ]
     },
     "execution_count": 222,
     "metadata": {
      "tags": []
     },
     "output_type": "execute_result"
    }
   ],
   "source": [
    "df_train['Sales']"
   ]
  },
  {
   "cell_type": "code",
   "execution_count": 244,
   "metadata": {
    "id": "uJJuUCzBD8QQ"
   },
   "outputs": [],
   "source": [
    "output['Sales'] = np.floor(np.expm1(gbr_pipe.predict(df_test)))"
   ]
  },
  {
   "cell_type": "code",
   "execution_count": 246,
   "metadata": {
    "colab": {
     "base_uri": "https://localhost:8080/"
    },
    "id": "ZTwSnxz8Ja-B",
    "outputId": "16076771-7368-47fb-893b-ac08b21baed5"
   },
   "outputs": [
    {
     "data": {
      "text/plain": [
       "0.0        50754\n",
       "7634.0      1280\n",
       "5351.0      1235\n",
       "5504.0      1047\n",
       "5525.0       987\n",
       "           ...  \n",
       "9355.0         1\n",
       "9306.0         1\n",
       "4296.0         1\n",
       "11915.0        1\n",
       "9874.0         1\n",
       "Name: Sales, Length: 5107, dtype: int64"
      ]
     },
     "execution_count": 246,
     "metadata": {
      "tags": []
     },
     "output_type": "execute_result"
    }
   ],
   "source": [
    "output['Sales'].value_counts()"
   ]
  },
  {
   "cell_type": "code",
   "execution_count": 247,
   "metadata": {
    "colab": {
     "base_uri": "https://localhost:8080/",
     "height": 402
    },
    "id": "3ke2tRLKvfXC",
    "outputId": "d1818f76-9f74-4a35-a78f-7aa635167d29"
   },
   "outputs": [
    {
     "data": {
      "text/html": [
       "<div>\n",
       "<style scoped>\n",
       "    .dataframe tbody tr th:only-of-type {\n",
       "        vertical-align: middle;\n",
       "    }\n",
       "\n",
       "    .dataframe tbody tr th {\n",
       "        vertical-align: top;\n",
       "    }\n",
       "\n",
       "    .dataframe thead th {\n",
       "        text-align: right;\n",
       "    }\n",
       "</style>\n",
       "<table border=\"1\" class=\"dataframe\">\n",
       "  <thead>\n",
       "    <tr style=\"text-align: right;\">\n",
       "      <th></th>\n",
       "      <th>Index</th>\n",
       "      <th>Sales</th>\n",
       "    </tr>\n",
       "  </thead>\n",
       "  <tbody>\n",
       "    <tr>\n",
       "      <th>0</th>\n",
       "      <td>0</td>\n",
       "      <td>0.0</td>\n",
       "    </tr>\n",
       "    <tr>\n",
       "      <th>1</th>\n",
       "      <td>1</td>\n",
       "      <td>4832.0</td>\n",
       "    </tr>\n",
       "    <tr>\n",
       "      <th>2</th>\n",
       "      <td>2</td>\n",
       "      <td>7568.0</td>\n",
       "    </tr>\n",
       "    <tr>\n",
       "      <th>3</th>\n",
       "      <td>3</td>\n",
       "      <td>5720.0</td>\n",
       "    </tr>\n",
       "    <tr>\n",
       "      <th>4</th>\n",
       "      <td>4</td>\n",
       "      <td>5725.0</td>\n",
       "    </tr>\n",
       "    <tr>\n",
       "      <th>...</th>\n",
       "      <td>...</td>\n",
       "      <td>...</td>\n",
       "    </tr>\n",
       "    <tr>\n",
       "      <th>305158</th>\n",
       "      <td>305158</td>\n",
       "      <td>8460.0</td>\n",
       "    </tr>\n",
       "    <tr>\n",
       "      <th>305159</th>\n",
       "      <td>305159</td>\n",
       "      <td>5824.0</td>\n",
       "    </tr>\n",
       "    <tr>\n",
       "      <th>305160</th>\n",
       "      <td>305160</td>\n",
       "      <td>5258.0</td>\n",
       "    </tr>\n",
       "    <tr>\n",
       "      <th>305161</th>\n",
       "      <td>305161</td>\n",
       "      <td>5415.0</td>\n",
       "    </tr>\n",
       "    <tr>\n",
       "      <th>305162</th>\n",
       "      <td>305162</td>\n",
       "      <td>5232.0</td>\n",
       "    </tr>\n",
       "  </tbody>\n",
       "</table>\n",
       "<p>305163 rows × 2 columns</p>\n",
       "</div>"
      ],
      "text/plain": [
       "         Index   Sales\n",
       "0            0     0.0\n",
       "1            1  4832.0\n",
       "2            2  7568.0\n",
       "3            3  5720.0\n",
       "4            4  5725.0\n",
       "...        ...     ...\n",
       "305158  305158  8460.0\n",
       "305159  305159  5824.0\n",
       "305160  305160  5258.0\n",
       "305161  305161  5415.0\n",
       "305162  305162  5232.0\n",
       "\n",
       "[305163 rows x 2 columns]"
      ]
     },
     "execution_count": 247,
     "metadata": {
      "tags": []
     },
     "output_type": "execute_result"
    }
   ],
   "source": [
    "output"
   ]
  },
  {
   "cell_type": "code",
   "execution_count": 248,
   "metadata": {
    "id": "3t1iSRuzD8QQ"
   },
   "outputs": [],
   "source": [
    "output.to_csv('output6.csv', index = False)"
   ]
  },
  {
   "cell_type": "code",
   "execution_count": null,
   "metadata": {
    "id": "nsGyFjZXD8QQ"
   },
   "outputs": [],
   "source": [
    "mysub= pd.read_csv('output.csv')"
   ]
  },
  {
   "cell_type": "code",
   "execution_count": null,
   "metadata": {
    "id": "Vmk7MFipD8QQ",
    "outputId": "14e67591-4f05-4dd7-a703-27ab66ea7bae"
   },
   "outputs": [
    {
     "data": {
      "text/html": [
       "<div>\n",
       "<style scoped>\n",
       "    .dataframe tbody tr th:only-of-type {\n",
       "        vertical-align: middle;\n",
       "    }\n",
       "\n",
       "    .dataframe tbody tr th {\n",
       "        vertical-align: top;\n",
       "    }\n",
       "\n",
       "    .dataframe thead th {\n",
       "        text-align: right;\n",
       "    }\n",
       "</style>\n",
       "<table border=\"1\" class=\"dataframe\">\n",
       "  <thead>\n",
       "    <tr style=\"text-align: right;\">\n",
       "      <th></th>\n",
       "      <th>Index</th>\n",
       "      <th>Sales</th>\n",
       "    </tr>\n",
       "  </thead>\n",
       "  <tbody>\n",
       "    <tr>\n",
       "      <th>0</th>\n",
       "      <td>0</td>\n",
       "      <td>0.0</td>\n",
       "    </tr>\n",
       "    <tr>\n",
       "      <th>1</th>\n",
       "      <td>1</td>\n",
       "      <td>3523.0</td>\n",
       "    </tr>\n",
       "    <tr>\n",
       "      <th>2</th>\n",
       "      <td>2</td>\n",
       "      <td>7205.0</td>\n",
       "    </tr>\n",
       "    <tr>\n",
       "      <th>3</th>\n",
       "      <td>3</td>\n",
       "      <td>5211.0</td>\n",
       "    </tr>\n",
       "    <tr>\n",
       "      <th>4</th>\n",
       "      <td>4</td>\n",
       "      <td>5219.0</td>\n",
       "    </tr>\n",
       "    <tr>\n",
       "      <th>...</th>\n",
       "      <td>...</td>\n",
       "      <td>...</td>\n",
       "    </tr>\n",
       "    <tr>\n",
       "      <th>305158</th>\n",
       "      <td>305158</td>\n",
       "      <td>7929.0</td>\n",
       "    </tr>\n",
       "    <tr>\n",
       "      <th>305159</th>\n",
       "      <td>305159</td>\n",
       "      <td>5246.0</td>\n",
       "    </tr>\n",
       "    <tr>\n",
       "      <th>305160</th>\n",
       "      <td>305160</td>\n",
       "      <td>5194.0</td>\n",
       "    </tr>\n",
       "    <tr>\n",
       "      <th>305161</th>\n",
       "      <td>305161</td>\n",
       "      <td>4781.0</td>\n",
       "    </tr>\n",
       "    <tr>\n",
       "      <th>305162</th>\n",
       "      <td>305162</td>\n",
       "      <td>4873.0</td>\n",
       "    </tr>\n",
       "  </tbody>\n",
       "</table>\n",
       "<p>305163 rows × 2 columns</p>\n",
       "</div>"
      ],
      "text/plain": [
       "         Index   Sales\n",
       "0            0     0.0\n",
       "1            1  3523.0\n",
       "2            2  7205.0\n",
       "3            3  5211.0\n",
       "4            4  5219.0\n",
       "...        ...     ...\n",
       "305158  305158  7929.0\n",
       "305159  305159  5246.0\n",
       "305160  305160  5194.0\n",
       "305161  305161  4781.0\n",
       "305162  305162  4873.0\n",
       "\n",
       "[305163 rows x 2 columns]"
      ]
     },
     "execution_count": 548,
     "metadata": {
      "tags": []
     },
     "output_type": "execute_result"
    }
   ],
   "source": [
    "mysub"
   ]
  },
  {
   "cell_type": "markdown",
   "metadata": {
    "id": "yUKyu5RMD8QR"
   },
   "source": [
    "## 2,321.8847 << Public Score"
   ]
  },
  {
   "cell_type": "code",
   "execution_count": null,
   "metadata": {
    "id": "Dxr9cEajD8QR"
   },
   "outputs": [],
   "source": []
  }
 ],
 "metadata": {
  "colab": {
   "collapsed_sections": [
    "yUKyu5RMD8QR"
   ],
   "name": "PredictingSaleswithCustomers.ipynb",
   "provenance": []
  },
  "kernelspec": {
   "display_name": "tfgpu",
   "language": "python",
   "name": "tfgpu"
  },
  "language_info": {
   "codemirror_mode": {
    "name": "ipython",
    "version": 3
   },
   "file_extension": ".py",
   "mimetype": "text/x-python",
   "name": "python",
   "nbconvert_exporter": "python",
   "pygments_lexer": "ipython3",
   "version": "3.8.0"
  }
 },
 "nbformat": 4,
 "nbformat_minor": 1
}
